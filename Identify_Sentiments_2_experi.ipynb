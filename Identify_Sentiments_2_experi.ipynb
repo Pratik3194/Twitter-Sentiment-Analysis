{
 "cells": [
  {
   "cell_type": "code",
   "execution_count": 1,
   "id": "c8421081",
   "metadata": {},
   "outputs": [],
   "source": [
    "# for string matching\n",
    "import re \n",
    "\n",
    "# for reading data\n",
    "import pandas as pd\n",
    "\n",
    "# for handling html data\n",
    "from bs4 import BeautifulSoup\n",
    "\n",
    "# for visualization\n",
    "import matplotlib.pyplot as plt  \n",
    "\n",
    "pd.set_option('display.max_colwidth', 200)"
   ]
  },
  {
   "cell_type": "code",
   "execution_count": 2,
   "id": "4aede3bf",
   "metadata": {},
   "outputs": [
    {
     "data": {
      "text/html": [
       "<div>\n",
       "<style scoped>\n",
       "    .dataframe tbody tr th:only-of-type {\n",
       "        vertical-align: middle;\n",
       "    }\n",
       "\n",
       "    .dataframe tbody tr th {\n",
       "        vertical-align: top;\n",
       "    }\n",
       "\n",
       "    .dataframe thead th {\n",
       "        text-align: right;\n",
       "    }\n",
       "</style>\n",
       "<table border=\"1\" class=\"dataframe\">\n",
       "  <thead>\n",
       "    <tr style=\"text-align: right;\">\n",
       "      <th></th>\n",
       "      <th>id</th>\n",
       "      <th>label</th>\n",
       "      <th>tweet</th>\n",
       "    </tr>\n",
       "  </thead>\n",
       "  <tbody>\n",
       "    <tr>\n",
       "      <th>0</th>\n",
       "      <td>1</td>\n",
       "      <td>0</td>\n",
       "      <td>#fingerprint #Pregnancy Test https://goo.gl/h1MfQV #android #apps #beautiful #cute #health #igers #iphoneonly #iphonesia #iphone</td>\n",
       "    </tr>\n",
       "    <tr>\n",
       "      <th>1</th>\n",
       "      <td>2</td>\n",
       "      <td>0</td>\n",
       "      <td>Finally a transparant silicon case ^^ Thanks to my uncle :) #yay #Sony #Xperia #S #sonyexperias… http://instagram.com/p/YGEt5JC6JM/</td>\n",
       "    </tr>\n",
       "    <tr>\n",
       "      <th>2</th>\n",
       "      <td>3</td>\n",
       "      <td>0</td>\n",
       "      <td>We love this! Would you go? #talk #makememories #unplug #relax #iphone #smartphone #wifi #connect... http://fb.me/6N3LsUpCu</td>\n",
       "    </tr>\n",
       "    <tr>\n",
       "      <th>3</th>\n",
       "      <td>4</td>\n",
       "      <td>0</td>\n",
       "      <td>I'm wired I know I'm George I was made that way ;) #iphone #cute #daventry #home http://instagr.am/p/Li_5_ujS4k/</td>\n",
       "    </tr>\n",
       "    <tr>\n",
       "      <th>4</th>\n",
       "      <td>5</td>\n",
       "      <td>1</td>\n",
       "      <td>What amazing service! Apple won't even talk to me about a question I have unless I pay them $19.95 for their stupid support!</td>\n",
       "    </tr>\n",
       "  </tbody>\n",
       "</table>\n",
       "</div>"
      ],
      "text/plain": [
       "   id  label  \\\n",
       "0   1      0   \n",
       "1   2      0   \n",
       "2   3      0   \n",
       "3   4      0   \n",
       "4   5      1   \n",
       "\n",
       "                                                                                                                                 tweet  \n",
       "0     #fingerprint #Pregnancy Test https://goo.gl/h1MfQV #android #apps #beautiful #cute #health #igers #iphoneonly #iphonesia #iphone  \n",
       "1  Finally a transparant silicon case ^^ Thanks to my uncle :) #yay #Sony #Xperia #S #sonyexperias… http://instagram.com/p/YGEt5JC6JM/  \n",
       "2          We love this! Would you go? #talk #makememories #unplug #relax #iphone #smartphone #wifi #connect... http://fb.me/6N3LsUpCu  \n",
       "3                     I'm wired I know I'm George I was made that way ;) #iphone #cute #daventry #home http://instagr.am/p/Li_5_ujS4k/  \n",
       "4         What amazing service! Apple won't even talk to me about a question I have unless I pay them $19.95 for their stupid support!  "
      ]
     },
     "execution_count": 2,
     "metadata": {},
     "output_type": "execute_result"
    }
   ],
   "source": [
    "df = pd.read_csv('train_2kmZucJ.csv')\n",
    "df.head()"
   ]
  },
  {
   "cell_type": "code",
   "execution_count": 3,
   "id": "fa479f0e",
   "metadata": {},
   "outputs": [
    {
     "data": {
      "text/plain": [
       "(7920, 3)"
      ]
     },
     "execution_count": 3,
     "metadata": {},
     "output_type": "execute_result"
    }
   ],
   "source": [
    "df.shape"
   ]
  },
  {
   "cell_type": "code",
   "execution_count": 4,
   "id": "16739a76",
   "metadata": {},
   "outputs": [
    {
     "data": {
      "text/plain": [
       "0    5894\n",
       "1    2026\n",
       "Name: label, dtype: int64"
      ]
     },
     "execution_count": 4,
     "metadata": {},
     "output_type": "execute_result"
    }
   ],
   "source": [
    "df['label'].value_counts()"
   ]
  },
  {
   "cell_type": "code",
   "execution_count": 5,
   "id": "30b54aa2",
   "metadata": {},
   "outputs": [
    {
     "data": {
      "text/plain": [
       "'#fingerprint #Pregnancy Test https://goo.gl/h1MfQV #android #apps #beautiful #cute #health #igers #iphoneonly #iphonesia #iphone'"
      ]
     },
     "execution_count": 5,
     "metadata": {},
     "output_type": "execute_result"
    }
   ],
   "source": [
    "df.loc[0]['tweet']"
   ]
  },
  {
   "cell_type": "code",
   "execution_count": 6,
   "id": "6ae675f8",
   "metadata": {},
   "outputs": [
    {
     "data": {
      "text/plain": [
       "\"What amazing service! Apple won't even talk to me about a question I have unless I pay them $19.95 for their stupid support!\""
      ]
     },
     "execution_count": 6,
     "metadata": {},
     "output_type": "execute_result"
    }
   ],
   "source": [
    "df.loc[4]['tweet']"
   ]
  },
  {
   "cell_type": "code",
   "execution_count": 7,
   "id": "fb0d6246",
   "metadata": {},
   "outputs": [
    {
     "data": {
      "text/plain": [
       "\"$&@*# my ipod is all messed up and i haven't done nothing to it #$&@*# #MyLoss ! #Apple\""
      ]
     },
     "execution_count": 7,
     "metadata": {},
     "output_type": "execute_result"
    }
   ],
   "source": [
    "df.loc[26]['tweet']"
   ]
  },
  {
   "cell_type": "code",
   "execution_count": 8,
   "id": "7e490437",
   "metadata": {},
   "outputs": [],
   "source": [
    "# def replace_censored(s):\n",
    "#     return s.replace('$&@*#', 'censored')"
   ]
  },
  {
   "cell_type": "code",
   "execution_count": 9,
   "id": "184e560e",
   "metadata": {},
   "outputs": [],
   "source": [
    "# df['tweet'] = df['tweet'].apply(replace_censored)"
   ]
  },
  {
   "cell_type": "code",
   "execution_count": 10,
   "id": "de33a21f",
   "metadata": {},
   "outputs": [],
   "source": [
    "# df.loc[26]['tweet']"
   ]
  },
  {
   "cell_type": "code",
   "execution_count": 11,
   "id": "b975a5d8",
   "metadata": {},
   "outputs": [],
   "source": [
    " contractions_dict = {\n",
    "        \"can't\": \"cannot\",\n",
    "        \"won't\": \"will not\",\n",
    "        \"I'm\": \"I am\",\n",
    "        \"I've\": \"I have\",\n",
    "        \"you're\": \"you are\",\n",
    "        \"it's\": \"it is\",\n",
    "        \"we're\": \"we are\",\n",
    "        \"they're\": \"they are\",\n",
    "        \"that's\": \"that is\",\n",
    "        \"isn't\": \"is not\",\n",
    "        \"aren't\": \"are not\",\n",
    "        \"wasn't\": \"was not\",\n",
    "        \"weren't\": \"were not\",\n",
    "        \"doesn't\": \"does not\",\n",
    "        \"don't\": \"do not\",\n",
    "        \"didn't\": \"did not\",\n",
    "        \"hasn't\": \"has not\",\n",
    "        \"haven't\": \"have not\",\n",
    "        \"hadn't\": \"had not\",\n",
    "        \"wouldn't\": \"would not\",\n",
    "        \"shouldn't\": \"should not\",\n",
    "        \"couldn't\": \"could not\",\n",
    "        \"I'll\": \"I will\",\n",
    "        \"you'll\": \"you will\",\n",
    "        \"he'll\": \"he will\",\n",
    "        \"she'll\": \"she will\",\n",
    "        \"we'll\": \"we will\",\n",
    "        \"they'll\": \"they will\"\n",
    "    }"
   ]
  },
  {
   "cell_type": "code",
   "execution_count": 12,
   "id": "bfeee061",
   "metadata": {},
   "outputs": [],
   "source": [
    "def cleaner(text):\n",
    "\n",
    "  # take off html tags\n",
    "    text = re.sub(r'http[s]?://\\S+|www\\.\\S+', '', text)\n",
    "    \n",
    "    text = text.replace('$&@*#', 'censored')\n",
    "    \n",
    "    for key, value in contractions_dict.items():\n",
    "        text = text.replace(key, value)\n",
    "    \n",
    "    text = re.sub(r'#\\w+', '', text)\n",
    "  \n",
    "  # fetch alphabetic characters\n",
    "    text = re.sub(\"[^a-zA-Z]\", \" \", text)\n",
    "\n",
    "  # convert text to lower case\n",
    "    text = text.lower()\n",
    "\n",
    "  # split text into tokens to remove whitespaces\n",
    "    tokens = text.split()\n",
    "\n",
    "    return \" \".join([word for word in tokens if len(word) > 2])"
   ]
  },
  {
   "cell_type": "code",
   "execution_count": 13,
   "id": "d80de108",
   "metadata": {},
   "outputs": [],
   "source": [
    "df['cleaned_tweet'] = df['tweet'].apply(cleaner)"
   ]
  },
  {
   "cell_type": "code",
   "execution_count": 14,
   "id": "d63c47a4",
   "metadata": {},
   "outputs": [
    {
     "data": {
      "text/plain": [
       "'#fingerprint #Pregnancy Test https://goo.gl/h1MfQV #android #apps #beautiful #cute #health #igers #iphoneonly #iphonesia #iphone'"
      ]
     },
     "execution_count": 14,
     "metadata": {},
     "output_type": "execute_result"
    }
   ],
   "source": [
    "df.loc[0]['tweet']"
   ]
  },
  {
   "cell_type": "code",
   "execution_count": 15,
   "id": "a8968e57",
   "metadata": {},
   "outputs": [
    {
     "data": {
      "text/plain": [
       "'test'"
      ]
     },
     "execution_count": 15,
     "metadata": {},
     "output_type": "execute_result"
    }
   ],
   "source": [
    "df.loc[0]['cleaned_tweet']"
   ]
  },
  {
   "cell_type": "code",
   "execution_count": 16,
   "id": "028fe806",
   "metadata": {},
   "outputs": [
    {
     "data": {
      "text/plain": [
       "'Finally a transparant silicon case ^^ Thanks to my uncle :) #yay #Sony #Xperia #S #sonyexperias… http://instagram.com/p/YGEt5JC6JM/'"
      ]
     },
     "execution_count": 16,
     "metadata": {},
     "output_type": "execute_result"
    }
   ],
   "source": [
    "df.loc[1]['tweet']"
   ]
  },
  {
   "cell_type": "code",
   "execution_count": 17,
   "id": "831a615c",
   "metadata": {},
   "outputs": [
    {
     "data": {
      "text/plain": [
       "'finally transparant silicon case thanks uncle'"
      ]
     },
     "execution_count": 17,
     "metadata": {},
     "output_type": "execute_result"
    }
   ],
   "source": [
    "df.loc[1]['cleaned_tweet']"
   ]
  },
  {
   "cell_type": "code",
   "execution_count": 18,
   "id": "0f30fb09",
   "metadata": {},
   "outputs": [
    {
     "data": {
      "text/plain": [
       "\"$&@*# my ipod is all messed up and i haven't done nothing to it #$&@*# #MyLoss ! #Apple\""
      ]
     },
     "execution_count": 18,
     "metadata": {},
     "output_type": "execute_result"
    }
   ],
   "source": [
    "df.loc[26]['tweet']"
   ]
  },
  {
   "cell_type": "code",
   "execution_count": 19,
   "id": "92f3c413",
   "metadata": {},
   "outputs": [
    {
     "data": {
      "text/plain": [
       "'censored ipod all messed and have not done nothing'"
      ]
     },
     "execution_count": 19,
     "metadata": {},
     "output_type": "execute_result"
    }
   ],
   "source": [
    "df.loc[26]['cleaned_tweet']"
   ]
  },
  {
   "cell_type": "code",
   "execution_count": 20,
   "id": "0e1e2028",
   "metadata": {},
   "outputs": [
    {
     "data": {
      "text/plain": [
       "0                                                                      test\n",
       "1                             finally transparant silicon case thanks uncle\n",
       "2                                                       love this would you\n",
       "3                                       wired know george was made that way\n",
       "6                                                                 happy for\n",
       "7     new type charger cable new year cross young pic twitter com pjiwq wtc\n",
       "8                                       bout shopping again listening music\n",
       "9                                                                     photo\n",
       "13      just made another crazy purchase lol theory work hard play hard lol\n",
       "15                                                             from towards\n",
       "Name: cleaned_tweet, dtype: object"
      ]
     },
     "execution_count": 20,
     "metadata": {},
     "output_type": "execute_result"
    }
   ],
   "source": [
    "df[df['label'] == 0]['cleaned_tweet'].head(10)"
   ]
  },
  {
   "cell_type": "code",
   "execution_count": 21,
   "id": "85766c3d",
   "metadata": {},
   "outputs": [
    {
     "data": {
      "text/plain": [
       "4             what amazing service apple will not even talk about question have unless pay them for their stupid support\n",
       "5                                                            iphone software update fucked phone big time stupid iphones\n",
       "10                 hey when you make new ipod dont make new color inches thinner make not crash every five fuckin minite\n",
       "11                                 not heavy machinery but does what need apple really dropped the ball with that design\n",
       "12                                             contemplating giving the iphone bandwagon simply because has new androids\n",
       "14                             shaqlockholmes sam louise the battery painful charge overnight and lunchtime battery dead\n",
       "18                                                                        the reason not have one twitter com zpggd cazn\n",
       "19                                              how the apple store gunna out screens monday and the fucking apple store\n",
       "22                             have had this new ipod for four days and this button the back broke accidentally hit once\n",
       "23    when your iphone screen goes completely black and you keep getting texts all day but you cannot fucking check them\n",
       "Name: cleaned_tweet, dtype: object"
      ]
     },
     "execution_count": 21,
     "metadata": {},
     "output_type": "execute_result"
    }
   ],
   "source": [
    "df[df['label'] == 1]['cleaned_tweet'].head(10)"
   ]
  },
  {
   "cell_type": "code",
   "execution_count": null,
   "id": "09e0a4d3",
   "metadata": {},
   "outputs": [],
   "source": []
  },
  {
   "cell_type": "code",
   "execution_count": 22,
   "id": "7a2d3f44",
   "metadata": {},
   "outputs": [],
   "source": [
    "from nltk.corpus import stopwords\n",
    "from nltk.tokenize import word_tokenize"
   ]
  },
  {
   "cell_type": "code",
   "execution_count": 23,
   "id": "20e55e57",
   "metadata": {},
   "outputs": [
    {
     "name": "stderr",
     "output_type": "stream",
     "text": [
      "[nltk_data] Downloading package stopwords to\n",
      "[nltk_data]     C:\\Users\\A1\\AppData\\Roaming\\nltk_data...\n",
      "[nltk_data]   Package stopwords is already up-to-date!\n"
     ]
    },
    {
     "data": {
      "text/plain": [
       "True"
      ]
     },
     "execution_count": 23,
     "metadata": {},
     "output_type": "execute_result"
    }
   ],
   "source": [
    "import nltk\n",
    "nltk.download('stopwords')"
   ]
  },
  {
   "cell_type": "code",
   "execution_count": 24,
   "id": "3cc33e23",
   "metadata": {},
   "outputs": [],
   "source": [
    "def remove_stopwords(text):\n",
    "    stop_words = set(stopwords.words('english'))\n",
    "    words = word_tokenize(text)\n",
    "    filtered_words = [word for word in words if word.lower() not in stop_words]\n",
    "    return ' '.join(filtered_words)"
   ]
  },
  {
   "cell_type": "code",
   "execution_count": 25,
   "id": "b6875850",
   "metadata": {},
   "outputs": [],
   "source": [
    "df['cleaned_tweet'] = df['cleaned_tweet'].apply(remove_stopwords)"
   ]
  },
  {
   "cell_type": "code",
   "execution_count": 26,
   "id": "ff3b240f",
   "metadata": {},
   "outputs": [
    {
     "data": {
      "text/plain": [
       "0                                                                      test\n",
       "1                             finally transparant silicon case thanks uncle\n",
       "2                                                                love would\n",
       "3                                                wired know george made way\n",
       "6                                                                     happy\n",
       "7     new type charger cable new year cross young pic twitter com pjiwq wtc\n",
       "8                                             bout shopping listening music\n",
       "9                                                                     photo\n",
       "13           made another crazy purchase lol theory work hard play hard lol\n",
       "15                                                                  towards\n",
       "Name: cleaned_tweet, dtype: object"
      ]
     },
     "execution_count": 26,
     "metadata": {},
     "output_type": "execute_result"
    }
   ],
   "source": [
    "df[df['label'] == 0]['cleaned_tweet'].head(10)"
   ]
  },
  {
   "cell_type": "code",
   "execution_count": 27,
   "id": "d2cf18e1",
   "metadata": {},
   "outputs": [
    {
     "data": {
      "text/plain": [
       "4                           amazing service apple even talk question unless pay stupid support\n",
       "5                                  iphone software update fucked phone big time stupid iphones\n",
       "10    hey make new ipod dont make new color inches thinner make crash every five fuckin minite\n",
       "11                                       heavy machinery need apple really dropped ball design\n",
       "12                                   contemplating giving iphone bandwagon simply new androids\n",
       "14           shaqlockholmes sam louise battery painful charge overnight lunchtime battery dead\n",
       "18                                                           reason one twitter com zpggd cazn\n",
       "19                                        apple store gunna screens monday fucking apple store\n",
       "22                                       new ipod four days button back broke accidentally hit\n",
       "23                    iphone screen goes completely black keep getting texts day fucking check\n",
       "Name: cleaned_tweet, dtype: object"
      ]
     },
     "execution_count": 27,
     "metadata": {},
     "output_type": "execute_result"
    }
   ],
   "source": [
    "df[df['label'] == 1]['cleaned_tweet'].head(10)"
   ]
  },
  {
   "cell_type": "code",
   "execution_count": null,
   "id": "353ac700",
   "metadata": {},
   "outputs": [],
   "source": []
  },
  {
   "cell_type": "code",
   "execution_count": null,
   "id": "41f7061d",
   "metadata": {},
   "outputs": [],
   "source": []
  },
  {
   "cell_type": "code",
   "execution_count": null,
   "id": "ae3a8b3a",
   "metadata": {},
   "outputs": [],
   "source": []
  },
  {
   "cell_type": "code",
   "execution_count": null,
   "id": "1f472e73",
   "metadata": {},
   "outputs": [],
   "source": []
  },
  {
   "cell_type": "code",
   "execution_count": null,
   "id": "35e92d7b",
   "metadata": {},
   "outputs": [],
   "source": []
  },
  {
   "cell_type": "code",
   "execution_count": null,
   "id": "fddb1a6f",
   "metadata": {},
   "outputs": [],
   "source": []
  },
  {
   "cell_type": "code",
   "execution_count": null,
   "id": "7cd7e58e",
   "metadata": {},
   "outputs": [],
   "source": []
  },
  {
   "cell_type": "code",
   "execution_count": 28,
   "id": "2fb4f073",
   "metadata": {},
   "outputs": [],
   "source": [
    "df['len'] = df['cleaned_tweet'].apply(lambda x: len(x.split()))"
   ]
  },
  {
   "cell_type": "code",
   "execution_count": 29,
   "id": "8d11acac",
   "metadata": {},
   "outputs": [
    {
     "data": {
      "text/html": [
       "<div>\n",
       "<style scoped>\n",
       "    .dataframe tbody tr th:only-of-type {\n",
       "        vertical-align: middle;\n",
       "    }\n",
       "\n",
       "    .dataframe tbody tr th {\n",
       "        vertical-align: top;\n",
       "    }\n",
       "\n",
       "    .dataframe thead th {\n",
       "        text-align: right;\n",
       "    }\n",
       "</style>\n",
       "<table border=\"1\" class=\"dataframe\">\n",
       "  <thead>\n",
       "    <tr style=\"text-align: right;\">\n",
       "      <th></th>\n",
       "      <th>id</th>\n",
       "      <th>label</th>\n",
       "      <th>tweet</th>\n",
       "      <th>cleaned_tweet</th>\n",
       "      <th>len</th>\n",
       "    </tr>\n",
       "  </thead>\n",
       "  <tbody>\n",
       "    <tr>\n",
       "      <th>0</th>\n",
       "      <td>1</td>\n",
       "      <td>0</td>\n",
       "      <td>#fingerprint #Pregnancy Test https://goo.gl/h1MfQV #android #apps #beautiful #cute #health #igers #iphoneonly #iphonesia #iphone</td>\n",
       "      <td>test</td>\n",
       "      <td>1</td>\n",
       "    </tr>\n",
       "    <tr>\n",
       "      <th>1</th>\n",
       "      <td>2</td>\n",
       "      <td>0</td>\n",
       "      <td>Finally a transparant silicon case ^^ Thanks to my uncle :) #yay #Sony #Xperia #S #sonyexperias… http://instagram.com/p/YGEt5JC6JM/</td>\n",
       "      <td>finally transparant silicon case thanks uncle</td>\n",
       "      <td>6</td>\n",
       "    </tr>\n",
       "    <tr>\n",
       "      <th>2</th>\n",
       "      <td>3</td>\n",
       "      <td>0</td>\n",
       "      <td>We love this! Would you go? #talk #makememories #unplug #relax #iphone #smartphone #wifi #connect... http://fb.me/6N3LsUpCu</td>\n",
       "      <td>love would</td>\n",
       "      <td>2</td>\n",
       "    </tr>\n",
       "    <tr>\n",
       "      <th>3</th>\n",
       "      <td>4</td>\n",
       "      <td>0</td>\n",
       "      <td>I'm wired I know I'm George I was made that way ;) #iphone #cute #daventry #home http://instagr.am/p/Li_5_ujS4k/</td>\n",
       "      <td>wired know george made way</td>\n",
       "      <td>5</td>\n",
       "    </tr>\n",
       "    <tr>\n",
       "      <th>4</th>\n",
       "      <td>5</td>\n",
       "      <td>1</td>\n",
       "      <td>What amazing service! Apple won't even talk to me about a question I have unless I pay them $19.95 for their stupid support!</td>\n",
       "      <td>amazing service apple even talk question unless pay stupid support</td>\n",
       "      <td>10</td>\n",
       "    </tr>\n",
       "  </tbody>\n",
       "</table>\n",
       "</div>"
      ],
      "text/plain": [
       "   id  label  \\\n",
       "0   1      0   \n",
       "1   2      0   \n",
       "2   3      0   \n",
       "3   4      0   \n",
       "4   5      1   \n",
       "\n",
       "                                                                                                                                 tweet  \\\n",
       "0     #fingerprint #Pregnancy Test https://goo.gl/h1MfQV #android #apps #beautiful #cute #health #igers #iphoneonly #iphonesia #iphone   \n",
       "1  Finally a transparant silicon case ^^ Thanks to my uncle :) #yay #Sony #Xperia #S #sonyexperias… http://instagram.com/p/YGEt5JC6JM/   \n",
       "2          We love this! Would you go? #talk #makememories #unplug #relax #iphone #smartphone #wifi #connect... http://fb.me/6N3LsUpCu   \n",
       "3                     I'm wired I know I'm George I was made that way ;) #iphone #cute #daventry #home http://instagr.am/p/Li_5_ujS4k/   \n",
       "4         What amazing service! Apple won't even talk to me about a question I have unless I pay them $19.95 for their stupid support!   \n",
       "\n",
       "                                                        cleaned_tweet  len  \n",
       "0                                                                test    1  \n",
       "1                       finally transparant silicon case thanks uncle    6  \n",
       "2                                                          love would    2  \n",
       "3                                          wired know george made way    5  \n",
       "4  amazing service apple even talk question unless pay stupid support   10  "
      ]
     },
     "execution_count": 29,
     "metadata": {},
     "output_type": "execute_result"
    }
   ],
   "source": [
    "df.head()"
   ]
  },
  {
   "cell_type": "code",
   "execution_count": 30,
   "id": "a6cf049d",
   "metadata": {},
   "outputs": [
    {
     "data": {
      "text/plain": [
       "32"
      ]
     },
     "execution_count": 30,
     "metadata": {},
     "output_type": "execute_result"
    }
   ],
   "source": [
    "df['len'].max()"
   ]
  },
  {
   "cell_type": "code",
   "execution_count": 31,
   "id": "bb11c848",
   "metadata": {},
   "outputs": [
    {
     "data": {
      "text/plain": [
       "(array([2.428e+03, 2.282e+03, 1.773e+03, 1.134e+03, 2.180e+02, 6.100e+01,\n",
       "        1.400e+01, 6.000e+00, 3.000e+00, 1.000e+00]),\n",
       " array([ 0. ,  3.2,  6.4,  9.6, 12.8, 16. , 19.2, 22.4, 25.6, 28.8, 32. ]),\n",
       " <BarContainer object of 10 artists>)"
      ]
     },
     "execution_count": 31,
     "metadata": {},
     "output_type": "execute_result"
    },
    {
     "data": {
      "image/png": "[encoded data removed]",
      "text/plain": [
       "<Figure size 640x480 with 1 Axes>"
      ]
     },
     "metadata": {},
     "output_type": "display_data"
    }
   ],
   "source": [
    "plt.hist(x=df['len'].values)"
   ]
  },
  {
   "cell_type": "code",
   "execution_count": 32,
   "id": "bcf685ed",
   "metadata": {},
   "outputs": [
    {
     "name": "stdout",
     "output_type": "stream",
     "text": [
      "0th percentile is 0.0\n",
      "10th percentile is 2.0\n",
      "20th percentile is 2.0\n",
      "30th percentile is 3.0\n",
      "40th percentile is 4.0\n",
      "50th percentile is 5.0\n",
      "60th percentile is 7.0\n",
      "70th percentile is 8.0\n",
      "80th percentile is 9.0\n",
      "90th percentile is 11.0\n"
     ]
    }
   ],
   "source": [
    "for i in range(0, 100, 10):\n",
    "    print(f\"{i}th percentile is {df['len'].quantile(i/100)}\")"
   ]
  },
  {
   "cell_type": "code",
   "execution_count": 33,
   "id": "1bd4195a",
   "metadata": {},
   "outputs": [
    {
     "name": "stdout",
     "output_type": "stream",
     "text": [
      "91th percentile is 11.0\n",
      "92th percentile is 11.0\n",
      "93th percentile is 11.0\n",
      "94th percentile is 12.0\n",
      "95th percentile is 12.0\n",
      "96th percentile is 12.0\n",
      "97th percentile is 13.0\n",
      "98th percentile is 14.0\n",
      "99th percentile is 16.0\n",
      "100th percentile is 32.0\n"
     ]
    }
   ],
   "source": [
    "for i in range(91, 101, 1):\n",
    "    print(f\"{i}th percentile is {df['len'].quantile(i/100)}\")"
   ]
  },
  {
   "cell_type": "code",
   "execution_count": 119,
   "id": "c2dfc80f",
   "metadata": {},
   "outputs": [],
   "source": [
    "X = df['cleaned_tweet']\n",
    "y = df['label'].values"
   ]
  },
  {
   "cell_type": "code",
   "execution_count": 120,
   "id": "3f3b33fd",
   "metadata": {},
   "outputs": [],
   "source": [
    "from sklearn.model_selection import train_test_split\n",
    "x_tr,x_val,y_tr,y_val=train_test_split(X, y, test_size=0.2, random_state=0,shuffle=True, stratify=y)"
   ]
  },
  {
   "cell_type": "code",
   "execution_count": 121,
   "id": "961e7f34",
   "metadata": {},
   "outputs": [
    {
     "name": "stdout",
     "output_type": "stream",
     "text": [
      "1621\n",
      "4715\n"
     ]
    }
   ],
   "source": [
    "print(sum(y_tr==1))\n",
    "print(sum(y_tr==0))"
   ]
  },
  {
   "cell_type": "code",
   "execution_count": 122,
   "id": "54408e55",
   "metadata": {},
   "outputs": [
    {
     "data": {
      "text/plain": [
       "(6336,)"
      ]
     },
     "execution_count": 122,
     "metadata": {},
     "output_type": "execute_result"
    }
   ],
   "source": [
    "x_tr.shape"
   ]
  },
  {
   "cell_type": "code",
   "execution_count": 123,
   "id": "5840b2a1",
   "metadata": {},
   "outputs": [
    {
     "data": {
      "text/plain": [
       "(6336,)"
      ]
     },
     "execution_count": 123,
     "metadata": {},
     "output_type": "execute_result"
    }
   ],
   "source": [
    "y_tr.shape"
   ]
  },
  {
   "cell_type": "code",
   "execution_count": null,
   "id": "175e4c71",
   "metadata": {},
   "outputs": [],
   "source": []
  },
  {
   "cell_type": "code",
   "execution_count": 124,
   "id": "8ad064fa",
   "metadata": {},
   "outputs": [],
   "source": [
    "from imblearn.under_sampling import RandomUnderSampler\n",
    "# rus = RandomUnderSampler(random_state=0)\n",
    "# x_tr, y_tr = rus.fit_resample(x_tr, y_tr)"
   ]
  },
  {
   "cell_type": "code",
   "execution_count": null,
   "id": "41fc67b1",
   "metadata": {},
   "outputs": [],
   "source": []
  },
  {
   "cell_type": "code",
   "execution_count": null,
   "id": "5d9cdf73",
   "metadata": {},
   "outputs": [],
   "source": []
  },
  {
   "cell_type": "code",
   "execution_count": null,
   "id": "638a2511",
   "metadata": {},
   "outputs": [],
   "source": []
  },
  {
   "cell_type": "code",
   "execution_count": 125,
   "id": "2c987f9b",
   "metadata": {},
   "outputs": [
    {
     "data": {
      "text/plain": [
       "3050                           best day\n",
       "2531    wait upgrade iphone load bollox\n",
       "4239     thank making use way usual btw\n",
       "7762         rakua know bless following\n",
       "979                          suckerrrrr\n",
       "Name: cleaned_tweet, dtype: object"
      ]
     },
     "execution_count": 125,
     "metadata": {},
     "output_type": "execute_result"
    }
   ],
   "source": [
    "x_tr.head()"
   ]
  },
  {
   "cell_type": "code",
   "execution_count": 126,
   "id": "05e0d030",
   "metadata": {},
   "outputs": [],
   "source": [
    "from tensorflow.keras.preprocessing.text import Tokenizer\n",
    "from tensorflow.keras.preprocessing.sequence import pad_sequences \n",
    "\n",
    "#prepare a tokenizer\n",
    "x_tokenizer = Tokenizer() \n",
    "\n",
    "x_tokenizer.fit_on_texts(x_tr)"
   ]
  },
  {
   "cell_type": "code",
   "execution_count": 127,
   "id": "a5743c5d",
   "metadata": {},
   "outputs": [
    {
     "data": {
      "text/plain": [
       "{'twitter': 1,\n",
       " 'com': 2,\n",
       " 'new': 3,\n",
       " 'iphone': 4,\n",
       " 'apple': 5,\n",
       " 'phone': 6,\n",
       " 'follow': 7,\n",
       " 'pic': 8,\n",
       " 'love': 9,\n",
       " 'gain': 10,\n",
       " 'day': 11,\n",
       " 'got': 12,\n",
       " 'back': 13,\n",
       " 'like': 14,\n",
       " 'get': 15,\n",
       " 'happy': 16,\n",
       " 'censored': 17,\n",
       " 'time': 18,\n",
       " 'photo': 19,\n",
       " 'one': 20,\n",
       " 'everyone': 21,\n",
       " 'must': 22,\n",
       " 'make': 23,\n",
       " 'would': 24,\n",
       " 'app': 25,\n",
       " 'followers': 26,\n",
       " 'finally': 27,\n",
       " 'rts': 28,\n",
       " 'update': 29,\n",
       " 'work': 30,\n",
       " 'ipod': 31,\n",
       " 'case': 32,\n",
       " 'today': 33,\n",
       " 'itunes': 34,\n",
       " 'want': 35,\n",
       " 'thanks': 36,\n",
       " 'samsung': 37,\n",
       " 'ios': 38,\n",
       " 'good': 39,\n",
       " 'ipad': 40,\n",
       " 'every': 41,\n",
       " 'fuck': 42,\n",
       " 'hate': 43,\n",
       " 'fucking': 44,\n",
       " 'much': 45,\n",
       " 'still': 46,\n",
       " 'need': 47,\n",
       " 'life': 48,\n",
       " 'amazing': 49,\n",
       " 'thank': 50,\n",
       " 'ever': 51,\n",
       " 'know': 52,\n",
       " 'look': 53,\n",
       " 'charger': 54,\n",
       " 'buy': 55,\n",
       " 'use': 56,\n",
       " 'baby': 57,\n",
       " 'best': 58,\n",
       " 'going': 59,\n",
       " 'wish': 60,\n",
       " 'birthday': 61,\n",
       " 'really': 62,\n",
       " 'music': 63,\n",
       " 'last': 64,\n",
       " 'even': 65,\n",
       " 'first': 66,\n",
       " 'galaxy': 67,\n",
       " 'minute': 68,\n",
       " 'via': 69,\n",
       " 'year': 70,\n",
       " 'another': 71,\n",
       " 'old': 72,\n",
       " 'screen': 73,\n",
       " 'thing': 74,\n",
       " 'never': 75,\n",
       " 'right': 76,\n",
       " 'hey': 77,\n",
       " 'think': 78,\n",
       " 'people': 79,\n",
       " 'great': 80,\n",
       " 'instagram': 81,\n",
       " 'free': 82,\n",
       " 'home': 83,\n",
       " 'store': 84,\n",
       " 'well': 85,\n",
       " 'made': 86,\n",
       " 'sony': 87,\n",
       " 'mac': 88,\n",
       " 'android': 89,\n",
       " 'say': 90,\n",
       " 'apps': 91,\n",
       " 'check': 92,\n",
       " 'working': 93,\n",
       " 'everything': 94,\n",
       " 'laptop': 95,\n",
       " 'stupid': 96,\n",
       " 'keep': 97,\n",
       " 'na': 98,\n",
       " 'wait': 99,\n",
       " 'battery': 100,\n",
       " 'hours': 101,\n",
       " 'count': 102,\n",
       " 'products': 103,\n",
       " 'see': 104,\n",
       " 'getting': 105,\n",
       " 'since': 106,\n",
       " 'take': 107,\n",
       " 'guys': 108,\n",
       " 'download': 109,\n",
       " 'let': 110,\n",
       " 'better': 111,\n",
       " 'night': 112,\n",
       " 'bought': 113,\n",
       " 'game': 114,\n",
       " 'morning': 115,\n",
       " 'trying': 116,\n",
       " 'christmas': 117,\n",
       " 'lost': 118,\n",
       " 'put': 119,\n",
       " 'could': 120,\n",
       " 'always': 121,\n",
       " 'big': 122,\n",
       " 'week': 123,\n",
       " 'lol': 124,\n",
       " 'hour': 125,\n",
       " 'years': 126,\n",
       " 'come': 127,\n",
       " 'hello': 128,\n",
       " 'gon': 129,\n",
       " 'give': 130,\n",
       " 'deleted': 131,\n",
       " 'plus': 132,\n",
       " 'capetownsup': 133,\n",
       " 'way': 134,\n",
       " 'using': 135,\n",
       " 'days': 136,\n",
       " 'watch': 137,\n",
       " 'note': 138,\n",
       " 'little': 139,\n",
       " 'dear': 140,\n",
       " 'yeah': 141,\n",
       " 'hard': 142,\n",
       " 'computer': 143,\n",
       " 'two': 144,\n",
       " 'camera': 145,\n",
       " 'sucks': 146,\n",
       " 'fix': 147,\n",
       " 'world': 148,\n",
       " 'already': 149,\n",
       " 'coming': 150,\n",
       " 'service': 151,\n",
       " 'find': 152,\n",
       " 'took': 153,\n",
       " 'cool': 154,\n",
       " 'updated': 155,\n",
       " 'available': 156,\n",
       " 'share': 157,\n",
       " 'live': 158,\n",
       " 'please': 159,\n",
       " 'welcome': 160,\n",
       " 'macbook': 161,\n",
       " 'many': 162,\n",
       " 'charge': 163,\n",
       " 'gift': 164,\n",
       " 'came': 165,\n",
       " 'phones': 166,\n",
       " 'customer': 167,\n",
       " 'seriously': 168,\n",
       " 'enough': 169,\n",
       " 'pay': 170,\n",
       " 'jobs': 171,\n",
       " 'soon': 172,\n",
       " 'support': 173,\n",
       " 'piece': 174,\n",
       " 'man': 175,\n",
       " 'yes': 176,\n",
       " 'looks': 177,\n",
       " 'family': 178,\n",
       " 'cute': 179,\n",
       " 'yet': 180,\n",
       " 'product': 181,\n",
       " 'photos': 182,\n",
       " 'girl': 183,\n",
       " 'things': 184,\n",
       " 'may': 185,\n",
       " 'making': 186,\n",
       " 'code': 187,\n",
       " 'anything': 188,\n",
       " 'makes': 189,\n",
       " 'pro': 190,\n",
       " 'arrived': 191,\n",
       " 'cases': 192,\n",
       " 'loving': 193,\n",
       " 'reason': 194,\n",
       " 'stuff': 195,\n",
       " 'next': 196,\n",
       " 'upgrade': 197,\n",
       " 'wifi': 198,\n",
       " 'ready': 199,\n",
       " 'yay': 200,\n",
       " 'anyone': 201,\n",
       " 'pictures': 202,\n",
       " 'ago': 203,\n",
       " 'text': 204,\n",
       " 'miss': 205,\n",
       " 'try': 206,\n",
       " 'restore': 207,\n",
       " 'real': 208,\n",
       " 'something': 209,\n",
       " 'play': 210,\n",
       " 'minutes': 211,\n",
       " 'shit': 212,\n",
       " 'done': 213,\n",
       " 'long': 214,\n",
       " 'sweet': 215,\n",
       " 'someone': 216,\n",
       " 'video': 217,\n",
       " 'company': 218,\n",
       " 'sure': 219,\n",
       " 'bad': 220,\n",
       " 'worst': 221,\n",
       " 'gone': 222,\n",
       " 'lock': 223,\n",
       " 'suck': 224,\n",
       " 'nothing': 225,\n",
       " 'users': 226,\n",
       " 'rhymes': 227,\n",
       " 'money': 228,\n",
       " 'haha': 229,\n",
       " 'months': 230,\n",
       " 'broken': 231,\n",
       " 'sync': 232,\n",
       " 'friends': 233,\n",
       " 'password': 234,\n",
       " 'sale': 235,\n",
       " 'stop': 236,\n",
       " 'present': 237,\n",
       " 'nice': 238,\n",
       " 'used': 239,\n",
       " 'turn': 240,\n",
       " 'retweet': 241,\n",
       " 'button': 242,\n",
       " 'steemit': 243,\n",
       " 'black': 244,\n",
       " 'start': 245,\n",
       " 'beautiful': 246,\n",
       " 'tomorrow': 247,\n",
       " 'waiting': 248,\n",
       " 'steve': 249,\n",
       " 'actually': 250,\n",
       " 'taken': 251,\n",
       " 'white': 252,\n",
       " 'face': 253,\n",
       " 'without': 254,\n",
       " 'mine': 255,\n",
       " 'broke': 256,\n",
       " 'away': 257,\n",
       " 'chargers': 258,\n",
       " 'selfie': 259,\n",
       " 'help': 260,\n",
       " 'mobile': 261,\n",
       " 'house': 262,\n",
       " 'early': 263,\n",
       " 'might': 264,\n",
       " 'whole': 265,\n",
       " 'headphones': 266,\n",
       " 'hope': 267,\n",
       " 'songs': 268,\n",
       " 'break': 269,\n",
       " 'tell': 270,\n",
       " 'looking': 271,\n",
       " 'iphones': 272,\n",
       " 'random': 273,\n",
       " 'cover': 274,\n",
       " 'call': 275,\n",
       " 'awesome': 276,\n",
       " 'dont': 277,\n",
       " 'unlocked': 278,\n",
       " 'god': 279,\n",
       " 'giving': 280,\n",
       " 'friday': 281,\n",
       " 'needs': 282,\n",
       " 'dad': 283,\n",
       " 'also': 284,\n",
       " 'news': 285,\n",
       " 'smartphone': 286,\n",
       " 'taking': 287,\n",
       " 'games': 288,\n",
       " 'design': 289,\n",
       " 'times': 290,\n",
       " 'goes': 291,\n",
       " 'fast': 292,\n",
       " 'data': 293,\n",
       " 'problem': 294,\n",
       " 'device': 295,\n",
       " 'song': 296,\n",
       " 'friend': 297,\n",
       " 'windows': 298,\n",
       " 'less': 299,\n",
       " 'switch': 300,\n",
       " 'cable': 301,\n",
       " 'updates': 302,\n",
       " 'smile': 303,\n",
       " 'pcs': 304,\n",
       " 'show': 305,\n",
       " 'else': 306,\n",
       " 'click': 307,\n",
       " 'send': 308,\n",
       " 'job': 309,\n",
       " 'month': 310,\n",
       " 'went': 311,\n",
       " 'cant': 312,\n",
       " 'top': 313,\n",
       " 'wow': 314,\n",
       " 'favorite': 315,\n",
       " 'fun': 316,\n",
       " 'literally': 317,\n",
       " 'said': 318,\n",
       " 'care': 319,\n",
       " 'feel': 320,\n",
       " 'feeling': 321,\n",
       " 'full': 322,\n",
       " 'bit': 323,\n",
       " 'order': 324,\n",
       " 'guess': 325,\n",
       " 'happiness': 326,\n",
       " 'change': 327,\n",
       " 'link': 328,\n",
       " 'ugh': 329,\n",
       " 'wont': 330,\n",
       " 'works': 331,\n",
       " 'fixed': 332,\n",
       " 'version': 333,\n",
       " 'jun': 334,\n",
       " 'set': 335,\n",
       " 'different': 336,\n",
       " 'yesterday': 337,\n",
       " 'buying': 338,\n",
       " 'delete': 339,\n",
       " 'charging': 340,\n",
       " 'says': 341,\n",
       " 'imessage': 342,\n",
       " 'excited': 343,\n",
       " 'power': 344,\n",
       " 'thought': 345,\n",
       " 'keeps': 346,\n",
       " 'mom': 347,\n",
       " 'almost': 348,\n",
       " 'totally': 349,\n",
       " 'post': 350,\n",
       " 'decided': 351,\n",
       " 'annoying': 352,\n",
       " 'youtube': 353,\n",
       " 'mini': 354,\n",
       " 'email': 355,\n",
       " 'word': 356,\n",
       " 'tonight': 357,\n",
       " 'brand': 358,\n",
       " 'shitty': 359,\n",
       " 'siri': 360,\n",
       " 'lot': 361,\n",
       " 'book': 362,\n",
       " 'air': 363,\n",
       " 'blue': 364,\n",
       " 'dead': 365,\n",
       " 'price': 366,\n",
       " 'party': 367,\n",
       " 'moment': 368,\n",
       " 'red': 369,\n",
       " 'blackberry': 370,\n",
       " 'gets': 371,\n",
       " 'true': 372,\n",
       " 'keyboard': 373,\n",
       " 'software': 374,\n",
       " 'exquisite': 375,\n",
       " 'squishy': 376,\n",
       " 'charm': 377,\n",
       " 'straps': 378,\n",
       " 'decor': 379,\n",
       " 'crap': 380,\n",
       " 'user': 381,\n",
       " 'listen': 382,\n",
       " 'google': 383,\n",
       " 'tweet': 384,\n",
       " 'poem': 385,\n",
       " 'contacts': 386,\n",
       " 'tab': 387,\n",
       " 'monday': 388,\n",
       " 'toy': 389,\n",
       " 'microsoft': 390,\n",
       " 'line': 391,\n",
       " 'summer': 392,\n",
       " 'fact': 393,\n",
       " 'oneplus': 394,\n",
       " 'release': 395,\n",
       " 'sunset': 396,\n",
       " 'weekend': 397,\n",
       " 'stay': 398,\n",
       " 'least': 399,\n",
       " 'problems': 400,\n",
       " 'sorry': 401,\n",
       " 'loves': 402,\n",
       " 'guy': 403,\n",
       " 'texts': 404,\n",
       " 'space': 405,\n",
       " 'calendar': 406,\n",
       " 'saying': 407,\n",
       " 'reallyreal': 408,\n",
       " 'left': 409,\n",
       " 'car': 410,\n",
       " 'purchase': 411,\n",
       " 'art': 412,\n",
       " 'boy': 413,\n",
       " 'fucked': 414,\n",
       " 'super': 415,\n",
       " 'tech': 416,\n",
       " 'cause': 417,\n",
       " 'past': 418,\n",
       " 'gear': 419,\n",
       " 'glad': 420,\n",
       " 'ordered': 421,\n",
       " 'able': 422,\n",
       " 'gold': 423,\n",
       " 'though': 424,\n",
       " 'message': 425,\n",
       " 'running': 426,\n",
       " 'valentine': 427,\n",
       " 'card': 428,\n",
       " 'account': 429,\n",
       " 'icloud': 430,\n",
       " 'kids': 431,\n",
       " 'smart': 432,\n",
       " 'choose': 433,\n",
       " 'repair': 434,\n",
       " 'wan': 435,\n",
       " 'memory': 436,\n",
       " 'later': 437,\n",
       " 'usb': 438,\n",
       " 'touch': 439,\n",
       " 'forgot': 440,\n",
       " 'part': 441,\n",
       " 'playing': 442,\n",
       " 'sleep': 443,\n",
       " 'drop': 444,\n",
       " 'cracked': 445,\n",
       " 'end': 446,\n",
       " 'blog': 447,\n",
       " 'messages': 448,\n",
       " 'crazy': 449,\n",
       " 'pretty': 450,\n",
       " 'numbers': 451,\n",
       " 'storage': 452,\n",
       " 'weeks': 453,\n",
       " 'facebook': 454,\n",
       " 'picture': 455,\n",
       " 'features': 456,\n",
       " 'mode': 457,\n",
       " 'tried': 458,\n",
       " 'daddy': 459,\n",
       " 'team': 460,\n",
       " 'ask': 461,\n",
       " 'wrong': 462,\n",
       " 'nokia': 463,\n",
       " 'tablet': 464,\n",
       " 'half': 465,\n",
       " 'devices': 466,\n",
       " 'cuz': 467,\n",
       " 'girls': 468,\n",
       " 'couple': 469,\n",
       " 'india': 470,\n",
       " 'type': 471,\n",
       " 'okay': 472,\n",
       " 'latest': 473,\n",
       " 'slow': 474,\n",
       " 'together': 475,\n",
       " 'bring': 476,\n",
       " 'far': 477,\n",
       " 'rid': 478,\n",
       " 'heart': 479,\n",
       " 'found': 480,\n",
       " 'pissed': 481,\n",
       " 'bye': 482,\n",
       " 'shipping': 483,\n",
       " 'flash': 484,\n",
       " 'mind': 485,\n",
       " 'run': 486,\n",
       " 'reposting': 487,\n",
       " 'room': 488,\n",
       " 'visit': 489,\n",
       " 'green': 490,\n",
       " 'throw': 491,\n",
       " 'quote': 492,\n",
       " 'beauty': 493,\n",
       " 'added': 494,\n",
       " 'replaced': 495,\n",
       " 'fans': 496,\n",
       " 'freaking': 497,\n",
       " 'told': 498,\n",
       " 'shoppinglist': 499,\n",
       " 'replace': 500,\n",
       " 'ta': 501,\n",
       " 'believe': 502,\n",
       " 'comes': 503,\n",
       " 'sent': 504,\n",
       " 'patent': 505,\n",
       " 'anymore': 506,\n",
       " 'small': 507,\n",
       " 'library': 508,\n",
       " 'ebay': 509,\n",
       " 'drive': 510,\n",
       " 'stand': 511,\n",
       " 'around': 512,\n",
       " 'mother': 513,\n",
       " 'save': 514,\n",
       " 'needed': 515,\n",
       " 'happened': 516,\n",
       " 'learn': 517,\n",
       " 'sunday': 518,\n",
       " 'spent': 519,\n",
       " 'moto': 520,\n",
       " 'coffee': 521,\n",
       " 'worth': 522,\n",
       " 'tim': 523,\n",
       " 'apparently': 524,\n",
       " 'sim': 525,\n",
       " 'experience': 526,\n",
       " 'gave': 527,\n",
       " 'dropped': 528,\n",
       " 'date': 529,\n",
       " 'wtf': 530,\n",
       " 'longer': 531,\n",
       " 'special': 532,\n",
       " 'load': 533,\n",
       " 'june': 534,\n",
       " 'maybe': 535,\n",
       " 'unique': 536,\n",
       " 'questions': 537,\n",
       " 'bullshit': 538,\n",
       " 'complete': 539,\n",
       " 'pink': 540,\n",
       " 'completely': 541,\n",
       " 'stuck': 542,\n",
       " 'lose': 543,\n",
       " 'pics': 544,\n",
       " 'listening': 545,\n",
       " 'search': 546,\n",
       " 'magic': 547,\n",
       " 'delivery': 548,\n",
       " 'shop': 549,\n",
       " 'hand': 550,\n",
       " 'number': 551,\n",
       " 'hot': 552,\n",
       " 'till': 553,\n",
       " 'cake': 554,\n",
       " 'sell': 555,\n",
       " 'worse': 556,\n",
       " 'three': 557,\n",
       " 'videos': 558,\n",
       " 'silly': 559,\n",
       " 'shopping': 560,\n",
       " 'wiped': 561,\n",
       " 'mommy': 562,\n",
       " 'emoji': 563,\n",
       " 'etc': 564,\n",
       " 'takes': 565,\n",
       " 'enjoy': 566,\n",
       " 'rolling': 567,\n",
       " 'thx': 568,\n",
       " 'shot': 569,\n",
       " 'beach': 570,\n",
       " 'agree': 571,\n",
       " 'either': 572,\n",
       " 'deleting': 573,\n",
       " 'forever': 574,\n",
       " 'tweets': 575,\n",
       " 'planet': 576,\n",
       " 'simple': 577,\n",
       " 'htc': 578,\n",
       " 'security': 579,\n",
       " 'place': 580,\n",
       " 'tree': 581,\n",
       " 'huge': 582,\n",
       " 'ipads': 583,\n",
       " 'january': 584,\n",
       " 'bar': 585,\n",
       " 'internet': 586,\n",
       " 'cost': 587,\n",
       " 'charged': 588,\n",
       " 'gifts': 589,\n",
       " 'factory': 590,\n",
       " 'model': 591,\n",
       " 'providing': 592,\n",
       " 'wireless': 593,\n",
       " 'hair': 594,\n",
       " 'perfect': 595,\n",
       " 'applesupport': 596,\n",
       " 'managed': 597,\n",
       " 'open': 598,\n",
       " 'everywhere': 599,\n",
       " 'key': 600,\n",
       " 'deal': 601,\n",
       " 'merry': 602,\n",
       " 'father': 603,\n",
       " 'customers': 604,\n",
       " 'win': 605,\n",
       " 'cables': 606,\n",
       " 'info': 607,\n",
       " 'sales': 608,\n",
       " 'playstation': 609,\n",
       " 'fall': 610,\n",
       " 'useless': 611,\n",
       " 'forget': 612,\n",
       " 'future': 613,\n",
       " 'funny': 614,\n",
       " 'eyes': 615,\n",
       " 'online': 616,\n",
       " 'upgraded': 617,\n",
       " 'cook': 618,\n",
       " 'wants': 619,\n",
       " 'discount': 620,\n",
       " 'idea': 621,\n",
       " 'friendly': 622,\n",
       " 'move': 623,\n",
       " 'mins': 624,\n",
       " 'talk': 625,\n",
       " 'sick': 626,\n",
       " 'contact': 627,\n",
       " 'saturday': 628,\n",
       " 'crashing': 629,\n",
       " 'read': 630,\n",
       " 'system': 631,\n",
       " 'doug': 632,\n",
       " 'decides': 633,\n",
       " 'daughter': 634,\n",
       " 'alcensored': 635,\n",
       " 'reset': 636,\n",
       " 'wonderful': 637,\n",
       " 'lte': 638,\n",
       " 'downloaded': 639,\n",
       " 'goodbye': 640,\n",
       " 'person': 641,\n",
       " 'kid': 642,\n",
       " 'happen': 643,\n",
       " 'bed': 644,\n",
       " 'fan': 645,\n",
       " 'genius': 646,\n",
       " 'beats': 647,\n",
       " 'fine': 648,\n",
       " 'seeing': 649,\n",
       " 'samsungmobile': 650,\n",
       " 'lovely': 651,\n",
       " 'dark': 652,\n",
       " 'toys': 653,\n",
       " 'million': 654,\n",
       " 'wanted': 655,\n",
       " 'normal': 656,\n",
       " 'market': 657,\n",
       " 'voice': 658,\n",
       " 'mean': 659,\n",
       " 'display': 660,\n",
       " 'words': 661,\n",
       " 'quality': 662,\n",
       " 'wedding': 663,\n",
       " 'late': 664,\n",
       " 'maps': 665,\n",
       " 'losing': 666,\n",
       " 'entire': 667,\n",
       " 'high': 668,\n",
       " 'nearly': 669,\n",
       " 'ones': 670,\n",
       " 'doesnt': 671,\n",
       " 'august': 672,\n",
       " 'screw': 673,\n",
       " 'motorola': 674,\n",
       " 'brother': 675,\n",
       " 'second': 676,\n",
       " 'died': 677,\n",
       " 'add': 678,\n",
       " 'wall': 679,\n",
       " 'wallpaper': 680,\n",
       " 'connect': 681,\n",
       " 'husband': 682,\n",
       " 'wonder': 683,\n",
       " 'technology': 684,\n",
       " 'sexy': 685,\n",
       " 'sky': 686,\n",
       " 'cut': 687,\n",
       " 'glcensored': 688,\n",
       " 'thats': 689,\n",
       " 'side': 690,\n",
       " 'answer': 691,\n",
       " 'finger': 692,\n",
       " 'error': 693,\n",
       " 'movie': 694,\n",
       " 'course': 695,\n",
       " 'locked': 696,\n",
       " 'watching': 697,\n",
       " 'light': 698,\n",
       " 'february': 699,\n",
       " 'crappy': 700,\n",
       " 'inch': 701,\n",
       " 'angry': 702,\n",
       " 'started': 703,\n",
       " 'beat': 704,\n",
       " 'receive': 705,\n",
       " 'min': 706,\n",
       " 'appstore': 707,\n",
       " 'hold': 708,\n",
       " 'sound': 709,\n",
       " 'changes': 710,\n",
       " 'december': 711,\n",
       " 'facetime': 712,\n",
       " 'woman': 713,\n",
       " 'catch': 714,\n",
       " 'missed': 715,\n",
       " 'effin': 716,\n",
       " 'pick': 717,\n",
       " 'scratch': 718,\n",
       " 'mashable': 719,\n",
       " 'stopped': 720,\n",
       " 'ear': 721,\n",
       " 'meet': 722,\n",
       " 'machine': 723,\n",
       " 'michelle': 724,\n",
       " 'freezing': 725,\n",
       " 'november': 726,\n",
       " 'october': 727,\n",
       " 'telling': 728,\n",
       " 'self': 729,\n",
       " 'spend': 730,\n",
       " 'cat': 731,\n",
       " 'round': 732,\n",
       " 'released': 733,\n",
       " 'stops': 734,\n",
       " 'wallpapers': 735,\n",
       " 'rather': 736,\n",
       " 'speed': 737,\n",
       " 'dreams': 738,\n",
       " 'worked': 739,\n",
       " 'starting': 740,\n",
       " 'page': 741,\n",
       " 'deals': 742,\n",
       " 'offer': 743,\n",
       " 'business': 744,\n",
       " 'headphone': 745,\n",
       " 'ball': 746,\n",
       " 'officially': 747,\n",
       " 'brain': 748,\n",
       " 'close': 749,\n",
       " 'appointment': 750,\n",
       " 'city': 751,\n",
       " 'easter': 752,\n",
       " 'zeta': 753,\n",
       " 'supplies': 754,\n",
       " 'absolutely': 755,\n",
       " 'crashes': 756,\n",
       " 'stock': 757,\n",
       " 'sometimes': 758,\n",
       " 'wake': 759,\n",
       " 'redbubble': 760,\n",
       " 'mama': 761,\n",
       " 'dual': 762,\n",
       " 'remove': 763,\n",
       " 'hopefully': 764,\n",
       " 'breakfast': 765,\n",
       " 'feels': 766,\n",
       " 'received': 767,\n",
       " 'pop': 768,\n",
       " 'gaming': 769,\n",
       " 'verizon': 770,\n",
       " 'middle': 771,\n",
       " 'generation': 772,\n",
       " 'upload': 773,\n",
       " 'center': 774,\n",
       " 'sun': 775,\n",
       " 'water': 776,\n",
       " 'rose': 777,\n",
       " 'access': 778,\n",
       " 'official': 779,\n",
       " 'leave': 780,\n",
       " 'offers': 781,\n",
       " 'unboxing': 782,\n",
       " 'crash': 783,\n",
       " 'computers': 784,\n",
       " 'winter': 785,\n",
       " 'cellphone': 786,\n",
       " 'failed': 787,\n",
       " 'issue': 788,\n",
       " 'profile': 789,\n",
       " 'tag': 790,\n",
       " 'fresh': 791,\n",
       " 'rest': 792,\n",
       " 'none': 793,\n",
       " 'proud': 794,\n",
       " 'inside': 795,\n",
       " 'april': 796,\n",
       " 'boyfriend': 797,\n",
       " 'currently': 798,\n",
       " 'pie': 799,\n",
       " 'luxury': 800,\n",
       " 'fruit': 801,\n",
       " 'connected': 802,\n",
       " 'collection': 803,\n",
       " 'recover': 804,\n",
       " 'quite': 805,\n",
       " 'bigger': 806,\n",
       " 'install': 807,\n",
       " 'cry': 808,\n",
       " 'launch': 809,\n",
       " 'sitting': 810,\n",
       " 'restoring': 811,\n",
       " 'protective': 812,\n",
       " 'skin': 813,\n",
       " 'resistance': 814,\n",
       " 'join': 815,\n",
       " 'refused': 816,\n",
       " 'warranty': 817,\n",
       " 'four': 818,\n",
       " 'shoot': 819,\n",
       " 'freakin': 820,\n",
       " 'safari': 821,\n",
       " 'others': 822,\n",
       " 'killing': 823,\n",
       " 'starts': 824,\n",
       " 'xmas': 825,\n",
       " 'cos': 826,\n",
       " 'colors': 827,\n",
       " 'blast': 828,\n",
       " 'box': 829,\n",
       " 'dream': 830,\n",
       " 'bro': 831,\n",
       " 'apply': 832,\n",
       " 'lightning': 833,\n",
       " 'sold': 834,\n",
       " 'terrible': 835,\n",
       " 'replacement': 836,\n",
       " 'plan': 837,\n",
       " 'march': 838,\n",
       " 'trending': 839,\n",
       " 'paying': 840,\n",
       " 'newyear': 841,\n",
       " 'omg': 842,\n",
       " 'swear': 843,\n",
       " 'response': 844,\n",
       " 'instead': 845,\n",
       " 'match': 846,\n",
       " 'jul': 847,\n",
       " 'pre': 848,\n",
       " 'earlier': 849,\n",
       " 'block': 850,\n",
       " 'iii': 851,\n",
       " 'popular': 852,\n",
       " 'puppy': 853,\n",
       " 'recovery': 854,\n",
       " 'lovin': 855,\n",
       " 'hehehe': 856,\n",
       " 'aug': 857,\n",
       " 'mail': 858,\n",
       " 'auto': 859,\n",
       " 'color': 860,\n",
       " 'beta': 861,\n",
       " 'xxoo': 862,\n",
       " 'tablets': 863,\n",
       " 'updating': 864,\n",
       " 'five': 865,\n",
       " 'seconds': 866,\n",
       " 'imac': 867,\n",
       " 'ride': 868,\n",
       " 'feature': 869,\n",
       " 'media': 870,\n",
       " 'yea': 871,\n",
       " 'edition': 872,\n",
       " 'due': 873,\n",
       " 'stores': 874,\n",
       " 'helpful': 875,\n",
       " 'notes': 876,\n",
       " 'plastic': 877,\n",
       " 'shaw': 878,\n",
       " 'event': 879,\n",
       " 'wasted': 880,\n",
       " 'shirt': 881,\n",
       " 'garden': 882,\n",
       " 'brevity': 883,\n",
       " 'boxed': 884,\n",
       " 'hands': 885,\n",
       " 'possible': 886,\n",
       " 'smell': 887,\n",
       " 'kinda': 888,\n",
       " 'emails': 889,\n",
       " 'previous': 890,\n",
       " 'choice': 891,\n",
       " 'unlock': 892,\n",
       " 'newest': 893,\n",
       " 'probably': 894,\n",
       " 'boot': 895,\n",
       " 'bbm': 896,\n",
       " 'given': 897,\n",
       " 'fit': 898,\n",
       " 'kind': 899,\n",
       " 'prank': 900,\n",
       " 'website': 901,\n",
       " 'syncing': 902,\n",
       " 'social': 903,\n",
       " 'process': 904,\n",
       " 'wife': 905,\n",
       " 'vote': 906,\n",
       " 'randomly': 907,\n",
       " 'bright': 908,\n",
       " 'bluetooth': 909,\n",
       " 'door': 910,\n",
       " 'important': 911,\n",
       " 'dinner': 912,\n",
       " 'apart': 913,\n",
       " 'installing': 914,\n",
       " 'whatever': 915,\n",
       " 'droid': 916,\n",
       " 'yup': 917,\n",
       " 'paid': 918,\n",
       " 'laugh': 919,\n",
       " 'rain': 920,\n",
       " 'trump': 921,\n",
       " 'means': 922,\n",
       " 'pcensored': 923,\n",
       " 'changed': 924,\n",
       " 'instapic': 925,\n",
       " 'mimmo': 926,\n",
       " 'calls': 927,\n",
       " 'netflix': 928,\n",
       " 'tho': 929,\n",
       " 'architecture': 930,\n",
       " 'ate': 931,\n",
       " 'didnt': 932,\n",
       " 'personal': 933,\n",
       " 'level': 934,\n",
       " 'safe': 935,\n",
       " 'amazon': 936,\n",
       " 'tracks': 937,\n",
       " 'onto': 938,\n",
       " 'bag': 939,\n",
       " 'screens': 940,\n",
       " 'setup': 941,\n",
       " 'fantastic': 942,\n",
       " 'compatible': 943,\n",
       " 'pair': 944,\n",
       " 'remember': 945,\n",
       " 'double': 946,\n",
       " 'usual': 947,\n",
       " 'shooting': 948,\n",
       " 'santa': 949,\n",
       " 'ridiculous': 950,\n",
       " 'court': 951,\n",
       " 'trade': 952,\n",
       " 'lets': 953,\n",
       " 'write': 954,\n",
       " 'low': 955,\n",
       " 'dang': 956,\n",
       " 'jailbreak': 957,\n",
       " 'settings': 958,\n",
       " 'sooooo': 959,\n",
       " 'office': 960,\n",
       " 'eat': 961,\n",
       " 'talking': 962,\n",
       " 'theme': 963,\n",
       " 'closed': 964,\n",
       " 'easy': 965,\n",
       " 'ram': 966,\n",
       " 'brick': 967,\n",
       " 'mad': 968,\n",
       " 'flower': 969,\n",
       " 'kill': 970,\n",
       " 'woke': 971,\n",
       " 'rush': 972,\n",
       " 'books': 973,\n",
       " 'satisfied': 974,\n",
       " 'function': 975,\n",
       " 'called': 976,\n",
       " 'mouse': 977,\n",
       " 'reality': 978,\n",
       " 'backup': 979,\n",
       " 'september': 980,\n",
       " 'healthy': 981,\n",
       " 'knows': 982,\n",
       " 'test': 983,\n",
       " 'twice': 984,\n",
       " 'yey': 985,\n",
       " 'mouth': 986,\n",
       " 'impressed': 987,\n",
       " 'die': 988,\n",
       " 'view': 989,\n",
       " 'transfer': 990,\n",
       " 'figure': 991,\n",
       " 'con': 992,\n",
       " 'hahaha': 993,\n",
       " 'killed': 994,\n",
       " 'ahh': 995,\n",
       " 'united': 996,\n",
       " 'issues': 997,\n",
       " 'driver': 998,\n",
       " 'sonyxperia': 999,\n",
       " 'bout': 1000,\n",
       " ...}"
      ]
     },
     "execution_count": 127,
     "metadata": {},
     "output_type": "execute_result"
    }
   ],
   "source": [
    "x_tokenizer.word_index"
   ]
  },
  {
   "cell_type": "code",
   "execution_count": 128,
   "id": "7616b27d",
   "metadata": {},
   "outputs": [
    {
     "data": {
      "text/plain": [
       "8541"
      ]
     },
     "execution_count": 128,
     "metadata": {},
     "output_type": "execute_result"
    }
   ],
   "source": [
    "len(x_tokenizer.word_index)"
   ]
  },
  {
   "cell_type": "code",
   "execution_count": 129,
   "id": "05317e15",
   "metadata": {},
   "outputs": [
    {
     "data": {
      "text/plain": [
       "odict_items([('best', 71), ('day', 251), ('wait', 49), ('upgrade', 27), ('iphone', 645), ('load', 10), ('bollox', 1), ('thank', 80), ('making', 28), ('use', 72), ('way', 37), ('usual', 5), ('btw', 3), ('rakua', 1), ('know', 75), ('bless', 1), ('following', 2), ('suckerrrrr', 1), ('lol', 39), ('nicked', 1), ('iamnickd', 1), ('says', 17), ('great', 59), ('apple', 619), ('ipad', 100), ('suck', 24), ('lola', 1), ('house', 21), ('loay', 1), ('bohol', 1), ('love', 314), ('first', 66), ('time', 168), ('shooting', 5), ('phone', 604), ('signal', 2), ('internet', 9), ('wifi', 27), ('steve', 22), ('jobs', 30), ('must', 139), ('haunting', 1), ('owning', 1), ('last', 67), ('one', 161), ('think', 60), ('sums', 2), ('feelings', 2), ('obnoxious', 1), ('fanatics', 1), ('jocelynb', 2), ('radio', 4), ('broadcasts', 1), ('ethnogenesis', 1), ('blaz', 1), ('blue', 16), ('extended', 1), ('soul', 4), ('sacrifice', 1), ('members', 3), ('december', 7), ('santa', 5), ('early', 21), ('year', 65), ('hail', 1), ('loathing', 1), ('multiplied', 1), ('apocalyptic', 1), ('levels', 2), ('ridiculous', 5), ('decision', 4), ('german', 1), ('court', 5), ('banning', 2), ('samsung', 104), ('tab', 15), ('june', 10), ('sis', 4), ('catherinehong', 1), ('picked', 4), ('snazzy', 1), ('thing', 63), ('today', 114), ('screenshot', 2), ('characters', 1), ('made', 57), ('commercial', 4), ('twitter', 853), ('com', 833), ('ykysvmleci', 1), ('imessage', 17), ('messes', 3), ('shahreen', 1), ('zaman', 1), ('work', 116), ('facetime', 7), ('good', 102), ('woman', 7), ('might', 21), ('watch', 36), ('excited', 17), ('get', 234), ('miss', 26), ('happy', 194), ('monday', 15), ('yllcbxd', 1), ('jncs', 1), ('never', 62), ('frustrated', 3), ('icloud', 13), ('added', 11), ('kids', 13), ('sweatshirt', 1), ('collection', 6), ('products', 48), ('check', 53), ('recover', 6), ('files', 4), ('applenws', 4), ('would', 130), ('trade', 5), ('computer', 35), ('smart', 13), ('christmas', 41), ('present', 23), ('mac', 55), ('back', 237), ('replaced', 11), ('logic', 3), ('board', 4), ('battery', 49), ('fans', 11), ('heat', 2), ('sensor', 1), ('cost', 9), ('catch', 7), ('client', 1), ('requests', 1), ('purchase', 14), ('got', 243), ('beatssuck', 1), ('charged', 9), ('power', 17), ('beats', 8), ('gym', 2), ('reuters', 1), ('schiller', 1), ('blasts', 3), ('android', 55), ('galaxy', 66), ('eve', 1), ('innovate', 1), ('keep', 50), ('quite', 6), ('say', 54), ('hello', 38), ('new', 722), ('toy', 15), ('platform', 3), ('panic', 2), ('visitcozumel', 1), ('case', 115), ('missed', 7), ('look', 74), ('lower', 1), ('right', 62), ('corner', 2), ('pic', 442), ('qemwlzv', 1), ('photo', 165), ('thought', 17), ('periwinkle', 1), ('wooden', 1), ('bird', 2), ('feeder', 1), ('gardening', 1), ('gifts', 9), ('scottish', 1), ('birds', 2), ('bigger', 6), ('duo', 1), ('microsoft', 15), ('fine', 8), ('line', 15), ('hate', 97), ('every', 99), ('install', 6), ('ios', 103), ('keeps', 17), ('lockingitin', 1), ('dfu', 1), ('mode', 12), ('tried', 12), ('lets', 5), ('try', 26), ('restore', 26), ('write', 5), ('began', 1), ('goes', 19), ('low', 5), ('freaking', 11), ('fast', 19), ('agh', 1), ('summer', 15), ('actually', 22), ('cry', 6), ('fact', 15), ('hour', 39), ('gayyyyyy', 1), ('launch', 6), ('gayyyyy', 1), ('dang', 5), ('told', 11), ('gon', 38), ('na', 50), ('dad', 20), ('soon', 30), ('lost', 41), ('effin', 7), ('txt', 2), ('msg', 3), ('hist', 1), ('data', 19), ('pix', 1), ('apps', 54), ('fun', 18), ('jailbreak', 5), ('ipod', 116), ('sitting', 6), ('restoring', 6), ('factory', 9), ('settings', 5), ('daddy', 12), ('sheer', 1), ('annoyance', 2), ('seeing', 8), ('appear', 3), ('attempt', 4), ('literally', 18), ('need', 82), ('fuck', 98), ('getting', 47), ('usage', 3), ('nice', 23), ('rauxhzd', 1), ('chinese', 1), ('birthday', 69), ('thyn', 1), ('hahahah', 3), ('finally', 123), ('note', 36), ('samsungmobile', 8), ('sooooo', 5), ('nxdwhjmcke', 1), ('night', 43), ('lovely', 8), ('mom', 17), ('lymom', 1), ('greece', 2), ('taken', 22), ('instagram', 59), ('maybe', 10), ('occasion', 2), ('remark', 1), ('joining', 2), ('team', 12), ('nothing', 24), ('like', 237), ('joyful', 1), ('zero', 2), ('dark', 8), ('thirty', 1), ('office', 5), ('izeq', 1), ('cac', 1), ('pick', 7), ('two', 35), ('white', 22), ('toys', 8), ('smoke', 3), ('another', 65), ('amazing', 81), ('themall', 1), ('bighope', 1), ('allah', 1), ('eat', 5), ('fistful', 1), ('retard', 2), ('sandwiches', 1), ('meal', 1), ('ahead', 1), ('free', 59), ('amanda', 1), ('wonderland', 4), ('million', 8), ('protective', 6), ('choose', 13), ('model', 9), ('buy', 73), ('unique', 10), ('piece', 29), ('art', 14), ('skin', 6), ('also', 20), ('providing', 9), ('scratch', 7), ('resistance', 6), ('mkta', 1), ('ydasy', 1), ('stunning', 2), ('flight', 2), ('shaqlockholmes', 1), ('sam', 4), ('louise', 1), ('painful', 2), ('charge', 31), ('overnight', 2), ('lunchtime', 1), ('dead', 16), ('answers', 4), ('live', 32), ('ask', 12), ('questions', 10), ('shoppinglist', 11), ('lvfbrlickj', 1), ('dnt', 1), ('trust', 1), ('gift', 31), ('talking', 5), ('cupi', 1), ('dmcconachie', 1), ('giffgaff', 1), ('emily', 2), ('mashable', 7), ('used', 23), ('old', 65), ('sony', 57), ('ericsson', 3), ('topplepassel', 1), ('theme', 5), ('appleton', 1), ('cydia', 1), ('monty', 1), ('macciti', 2), ('downloads', 3), ('already', 34), ('going', 71), ('join', 6), ('code', 28), ('wtfinmxdjf', 1), ('bunch', 3), ('crooks', 1), ('refused', 6), ('repair', 13), ('replace', 11), ('wireless', 9), ('problem', 19), ('rubber', 1), ('mic', 2), ('coming', 34), ('microphones', 1), ('stopped', 7), ('working', 53), ('said', 18), ('warranty', 6), ('void', 1), ('ear', 7), ('looked', 3), ('chewed', 1), ('bullshit', 10), ('animals', 1), ('chew', 1), ('anything', 28), ('put', 41), ('gfgvquepuc', 1), ('electro', 1), ('neven', 1), ('dayone', 1), ('zet', 1), ('ili', 1), ('wif', 1), ('mid', 1), ('valley', 2), ('newly', 1), ('reno', 1), ('well', 58), ('done', 25), ('woohoo', 1), ('yeh', 1), ('wan', 13), ('ignore', 2), ('wrong', 12), ('illegal', 2), ('trading', 1), ('standards', 1), ('involved', 2), ('caf', 1), ('larue', 1), ('fils', 1), ('swimming', 1), ('closed', 5), ('long', 25), ('hair', 9), ('care', 18), ('feel', 18), ('whole', 21), ('upsets', 1), ('automatically', 1), ('capitalizes', 1), ('easy', 5), ('atmosphere', 1), ('rome', 3), ('headphones', 21), ('real', 26), ('plaza', 3), ('piura', 1), ('fisher', 1), ('price', 16), ('aeihvv', 1), ('jmmtldxzwk', 1), ('edge', 3), ('meet', 7), ('female', 1), ('mayor', 1), ('lounge', 1), ('almost', 17), ('complete', 10), ('four', 6), ('ready', 27), ('rachcon', 1), ('hahah', 3), ('much', 94), ('ram', 5), ('congrats', 2), ('users', 24), ('valescapgaiola', 2), ('fenix', 3), ('party', 16), ('ta', 11), ('til', 3), ('home', 59), ('download', 44), ('uploading', 1), ('virtual', 3), ('machine', 7), ('unsupported', 1), ('drivers', 1), ('joy', 4), ('carrying', 1), ('brick', 5), ('little', 36), ('boy', 14), ('technically', 1), ('dressed', 2), ('man', 29), ('something', 26), ('totally', 17), ('gvpxx', 1), ('wdkw', 1), ('make', 136), ('rich', 2), ('endlich', 1), ('jackpot', 1), ('gamecenter', 1), ('support', 30), ('shoot', 6), ('heads', 3), ('douchebags', 1), ('post', 17), ('runs', 4), ('smooth', 3), ('moment', 16), ('loaded', 1), ('device', 19), ('memory', 13), ('intensive', 2), ('hiccup', 1), ('abt', 1), ('mad', 5), ('myy', 1), ('havin', 1), ('malfunction', 1), ('freakin', 6), ('ughhh', 2), ('michelle', 7), ('came', 31), ('safari', 6), ('browser', 4), ('keynote', 3), ('thingy', 2), ('orljntqc', 1), ('pink', 10), ('flower', 5), ('song', 19), ('makes', 28), ('dear', 36), ('others', 6), ('friend', 19), ('oneplus', 15), ('wanted', 8), ('hours', 49), ('later', 13), ('completely', 10), ('fucked', 14), ('pamelaisanchez', 2), ('life', 82), ('hope', 21), ('using', 37), ('bust', 1), ('phones', 31), ('xle', 1), ('gkul', 1), ('gain', 253), ('followers', 124), ('follow', 445), ('everyone', 153), ('rts', 121), ('believe', 11), ('sweet', 25), ('instant', 3), ('emergency', 4), ('portable', 4), ('powered', 2), ('usb', 13), ('port', 2), ('itunes', 113), ('windows', 19), ('screwed', 3), ('stuck', 10), ('killing', 6), ('everything', 53), ('normal', 8), ('yes', 29), ('flagship', 2), ('market', 8), ('nokia', 12), ('touch', 13), ('frozen', 4), ('logo', 3), ('starts', 6), ('lose', 10), ('demi', 1), ('music', 68), ('pics', 10), ('kill', 5), ('someone', 25), ('red', 16), ('beanie', 1), ('camera', 35), ('tablet', 12), ('xmas', 6), ('voice', 8), ('assistant', 3), ('dykocex', 1), ('mean', 8), ('blackberry', 16), ('powerful', 2), ('yayyy', 2), ('laptop', 52), ('listening', 10), ('perfect', 9), ('let', 44), ('fly', 4), ('tastes', 2), ('could', 41), ('cos', 6), ('feeling', 18), ('crook', 1), ('since', 45), ('woke', 5), ('morning', 42), ('underbrush', 1), ('rhymes', 24), ('tush', 1), ('gush', 1), ('hush', 1), ('lush', 1), ('mush', 1), ('rush', 5), ('sarbearrobertz', 1), ('height', 1), ('brought', 2), ('languages', 2), ('discovered', 2), ('prompt', 2), ('display', 8), ('colors', 6), ('looks', 29), ('selfieeee', 1), ('lance', 2), ('whitney', 1), ('lancewhit', 1), ('sentiment', 2), ('score', 4), ('nlxjmxn', 1), ('face', 22), ('hysteria', 1), ('pjtpb', 1), ('xsrc', 1), ('ever', 76), ('promo', 4), ('susanko', 2), ('words', 8), ('describe', 2), ('really', 69), ('ynkbs', 1), ('xbf', 1), ('fallen', 3), ('experia', 1), ('applesupport', 9), ('yeah', 36), ('gets', 16), ('frustrating', 4), ('bqtbojtiic', 1), ('update', 117), ('sucks', 35), ('freaked', 1), ('updated', 33), ('less', 19), ('half', 12), ('songs', 21), ('comp', 4), ('freezing', 7), ('wish', 71), ('minute', 66), ('count', 49), ('november', 7), ('trolled', 1), ('credits', 2), ('gagpic', 1), ('hzdi', 1), ('zth', 1), ('managed', 9), ('break', 21), ('samsunguk', 3), ('applaud', 1), ('store', 59), ('customer', 31), ('service', 34), ('quality', 8), ('wedding', 8), ('pro', 28), ('served', 3), ('fantastically', 1), ('years', 39), ('sabotaging', 1), ('open', 9), ('standard', 4), ('digital', 4), ('books', 5), ('october', 7), ('thanks', 107), ('telling', 7), ('forgot', 13), ('tell', 21), ('take', 45), ('late', 8), ('satisfied', 5), ('priceless', 4), ('switch', 19), ('pvvh', 1), ('qroqe', 1), ('scared', 3), ('devices', 12), ('everywhere', 9), ('news', 20), ('blast', 6), ('arrived', 28), ('designer', 2), ('perfumes', 1), ('varvatos', 1), ('dior', 1), ('cheries', 1), ('prada', 1), ('issey', 1), ('miyake', 1), ('jpl', 1), ('flat', 2), ('accessories', 4), ('tempered', 3), ('glass', 1), ('cases', 28), ('cable', 19), ('bezzie', 1), ('wwfj', 1), ('samsungus', 1), ('preparing', 2), ('release', 15), ('motorolaus', 1), ('filed', 1), ('patten', 1), ('self', 7), ('repairing', 1), ('screen', 65), ('function', 5), ('obsessed', 3), ('earring', 1), ('santiago', 1), ('bay', 2), ('sunset', 15), ('better', 44), ('censored', 174), ('cuz', 12), ('want', 110), ('alllllll', 2), ('money', 24), ('via', 66), ('teeenytiny', 1), ('awkward', 2), ('town', 2), ('called', 5), ('total', 4), ('differnt', 1), ('maps', 8), ('family', 29), ('cmarie', 1), ('girls', 12), ('decided', 17), ('haha', 24), ('smartphone', 20), ('kings', 3), ('pros', 2), ('cons', 2), ('part', 13), ('ohxn', 1), ('wrg', 1), ('looking', 21), ('search', 10), ('cute', 29), ('fromm', 1), ('earth', 4), ('spend', 7), ('gwqqkujnb', 1), ('goodmorning', 2), ('weekend', 15), ('mighty', 3), ('mouse', 5), ('lithium', 2), ('magic', 10), ('comes', 11), ('alkaline', 1), ('yay', 27), ('bae', 2), ('csc', 1), ('uapj', 1), ('status', 3), ('shipment', 1), ('fedex', 1), ('vehicle', 1), ('delivery', 10), ('without', 22), ('adaptor', 3), ('empty', 3), ('box', 6), ('phantom', 2), ('opera', 2), ('lmprodevents', 2), ('presents', 3), ('stage', 1), ('pmivqqvdxy', 1), ('rcglfhvibq', 1), ('couple', 12), ('super', 14), ('loving', 28), ('current', 4), ('shaky', 2), ('maze', 1), ('lite', 1), ('review', 4), ('dream', 6), ('true', 16), ('enter', 2), ('full', 18), ('frame', 4), ('riii', 1), ('chennai', 1), ('winnipeg', 1), ('realize', 3), ('charger', 74), ('reality', 5), ('agnee', 2), ('shop', 10), ('qskhree', 1), ('updates', 19), ('months', 24), ('annoying', 17), ('hand', 10), ('fold', 1), ('puzzle', 3), ('bit', 18), ('india', 12), ('oneplustech', 2), ('mugeownsv', 1), ('alpha', 1), ('wave', 4), ('drewvw', 1), ('trains', 1), ('always', 40), ('smile', 19), ('knowing', 1), ('protected', 3), ('protectors', 1), ('qijfxk', 1), ('tdw', 1), ('favotite', 1), ('app', 128), ('accumulate', 2), ('playing', 13), ('please', 32), ('apparent', 1), ('reason', 28), ('baby', 72), ('mine', 22), ('casa', 3), ('trying', 42), ('slit', 1), ('wrists', 1), ('losing', 8), ('coach', 1), ('backup', 5), ('brings', 2), ('location', 1), ('vespert', 1), ('order', 18), ('soemthin', 2), ('alternate', 2), ('see', 48), ('sent', 11), ('bro', 6), ('welcome', 32), ('september', 5), ('class', 1), ('entire', 8), ('sonyelectronics', 2), ('sleep', 13), ('key', 9), ('ingredient', 1), ('healthy', 5), ('productive', 1), ('lives', 2), ('dvzjkp', 1), ('hvh', 1), ('passion', 3), ('patent', 11), ('wars', 1), ('explained', 1), ('infographic', 3), ('bacterial', 1), ('serial', 2), ('cereal', 1), ('apply', 6), ('keyboard', 16), ('type', 12), ('letters', 3), ('anymore', 11), ('anyone', 27), ('knows', 5), ('fix', 35), ('filled', 3), ('okay', 12), ('remote', 1), ('fucking', 96), ('small', 11), ('find', 34), ('icecream', 1), ('beginning', 2), ('test', 5), ('number', 10), ('hot', 10), ('deal', 9), ('high', 8), ('tech', 14), ('lightning', 6), ('feet', 4), ('mizfancybanks', 1), ('penniesbymail', 1), ('tequieronelly', 1), ('video', 25), ('youtube', 17), ('destroying', 3), ('adventures', 1), ('stay', 15), ('tuned', 2), ('nwzw', 1), ('eug', 1), ('drop', 13), ('least', 15), ('twice', 5), ('cracked', 13), ('yet', 29), ('suprised', 1), ('understand', 3), ('product', 29), ('erased', 3), ('turn', 23), ('merry', 9), ('cat', 7), ('sold', 6), ('iphones', 21), ('days', 37), ('eeps', 1), ('library', 11), ('ashleyriach', 1), ('broke', 22), ('wed', 1), ('guess', 18), ('terrible', 6), ('software', 16), ('calendars', 1), ('announces', 1), ('companies', 3), ('give', 38), ('away', 22), ('contests', 2), ('huh', 2), ('nearly', 8), ('thy', 1), ('problems', 15), ('ways', 4), ('stronger', 1), ('happiness', 18), ('yey', 5), ('pzyyacc', 1), ('bought', 43), ('fame', 1), ('kickboxing', 1), ('pgfxwcuo', 1), ('mishref', 1), ('favourite', 3), ('cglb', 1), ('appleofficlal', 3), ('accept', 4), ('mouth', 5), ('scent', 2), ('round', 7), ('ring', 3), ('jointed', 1), ('eggbutt', 1), ('yehey', 1), ('tito', 1), ('father', 9), ('pcs', 19), ('exquisite', 16), ('squishy', 16), ('random', 21), ('charm', 16), ('straps', 16), ('decor', 16), ('glsmyykkow', 1), ('till', 10), ('mini', 17), ('micro', 3), ('mega', 1), ('retweet', 23), ('cover', 21), ('ebay', 11), ('pcmag', 1), ('report', 4), ('pulls', 2), ('sex', 3), ('replacement', 6), ('impressed', 5), ('took', 34), ('end', 13), ('peeps', 2), ('change', 18), ('gusto', 1), ('khlarie', 1), ('xyril', 1), ('approved', 3), ('dzq', 2), ('cxo', 2), ('tail', 1), ('plan', 6), ('consumer', 3), ('electronics', 2), ('show', 19), ('vegas', 2), ('hub', 3), ('hdmi', 2), ('reader', 2), ('glkchuvfq', 1), ('akovocifsq', 1), ('clue', 4), ('samneff', 1), ('wating', 1), ('march', 6), ('madness', 2), ('qbcxa', 1), ('die', 5), ('olympics', 1), ('brands', 2), ('maintain', 1), ('value', 2), ('taking', 20), ('season', 4), ('inbox', 3), ('dpttthmuel', 1), ('cake', 10), ('released', 7), ('caligurl', 1), ('cards', 3), ('radben', 1), ('wisely', 2), ('view', 5), ('point', 3), ('dkasperowicz', 1), ('sell', 10), ('iranian', 1), ('customers', 9), ('antiquarius', 1), ('grill', 3), ('unbelievably', 1), ('earphones', 4), ('trial', 3), ('xtreme', 1), ('big', 40), ('photos', 29), ('charybutes', 1), ('email', 17), ('failing', 1), ('hard', 36), ('core', 4), ('proof', 4), ('concept', 3), ('trending', 6), ('jailbroken', 3), ('plain', 2), ('broken', 24), ('amusement', 1), ('hahaah', 1), ('tries', 3), ('drive', 11), ('plug', 3), ('refuses', 2), ('sync', 24), ('actual', 4), ('sorry', 15), ('paying', 6), ('uncertified', 1), ('stuff', 28), ('pzrqqbwh', 1), ('transfer', 5), ('pictures', 27), ('figure', 5), ('world', 35), ('seriously', 31), ('stand', 11), ('somewhere', 2), ('else', 19), ('trapped', 2), ('blocking', 1), ('aisle', 1), ('win', 9), ('latest', 12), ('releases', 1), ('available', 33), ('fue', 1), ('uhjtu', 1), ('newyear', 6), ('absolute', 3), ('bastards', 1), ('existing', 2), ('slow', 12), ('older', 2), ('excuse', 4), ('preserve', 1), ('force', 3), ('worse', 10), ('geekiest', 1), ('marriage', 3), ('proposals', 1), ('including', 3), ('ndpeznqgk', 1), ('imports', 1), ('sunrise', 2), ('lwtptmubxv', 1), ('mummy', 2), ('sigh', 3), ('assfaces', 1), ('shlft', 1), ('stupid', 51), ('assholes', 3), ('flaking', 1), ('enee', 1), ('handstand', 1), ('mas', 1), ('lucha', 1), ('con', 5), ('cables', 9), ('wee', 3), ('three', 10), ('rescued', 1), ('cause', 14), ('muh', 1), ('movin', 1), ('vry', 1), ('omg', 6), ('swear', 6), ('word', 17), ('around', 11), ('antennae', 1), ('failure', 2), ('response', 6), ('methods', 1), ('comparable', 1), ('advanced', 2), ('antenna', 1), ('shipped', 3), ('blog', 13), ('deleted', 38), ('instead', 6), ('cares', 3), ('speaker', 2), ('call', 21), ('match', 6), ('mayralovee', 1), ('pactaughtme', 1), ('provider', 1), ('link', 18), ('zoj', 1), ('kosmonatik', 1), ('map', 2), ('suckkkksssss', 1), ('ugh', 18), ('downgrade', 2), ('even', 67), ('exactly', 3), ('tiefin', 1), ('company', 25), ('disturb', 2), ('together', 12), ('hey', 61), ('guys', 45), ('sapphire', 1), ('arte', 1), ('luxus', 1), ('handy', 1), ('jul', 6), ('hahaha', 5), ('loves', 15), ('button', 23), ('stops', 7), ('braid', 1), ('peri', 1), ('lwfhxta', 1), ('killed', 5), ('nobody', 2), ('public', 3), ('apologies', 2), ('wont', 18), ('bring', 12), ('excidement', 2), ('unraveling', 4), ('plot', 2), ('works', 18), ('stays', 2), ('mans', 1), ('ukucvm', 1), ('friends', 24), ('retrieve', 1), ('messages', 13), ('european', 1), ('guides', 1), ('frm', 1), ('canadian', 1), ('web', 4), ('connection', 3), ('confirming', 1), ('american', 4), ('info', 9), ('password', 24), ('racing', 3), ('industry', 3), ('anti', 4), ('corruption', 1), ('shesofficiall', 1), ('hype', 2), ('beatles', 2), ('awesome', 21), ('mother', 11), ('copies', 1), ('booo', 1), ('game', 43), ('selection', 1), ('dynamic', 2), ('wallpapers', 7), ('rubbish', 2), ('ones', 8), ('imrecessionista', 1), ('ahh', 5), ('opposite', 1), ('zune', 4), ('desktop', 2), ('palm', 3), ('pre', 6), ('robertcaldecott', 1), ('sure', 25), ('sue', 4), ('large', 4), ('producers', 1), ('claiming', 1), ('visited', 2), ('earlier', 6), ('hwxpuracjl', 1), ('turning', 4), ('samsungmobileus', 4), ('videos', 10), ('loveeeeee', 1), ('pure', 4), ('innocence', 1), ('comment', 2), ('lip', 2), ('wired', 2), ('george', 2), ('guy', 15), ('mall', 4), ('rather', 7), ('stranded', 1), ('sea', 2), ('angel', 3), ('come', 39), ('save', 11), ('tonight', 17), ('moon', 4), ('speed', 7), ('needed', 11), ('planeis', 1), ('dont', 21), ('happened', 11), ('reinstall', 1), ('doesnt', 8), ('pulled', 3), ('editor', 2), ('rhumovz', 1), ('tmobile', 4), ('silly', 10), ('bestie', 1), ('gracias', 2), ('babubi', 1), ('ronnie', 1), ('factitious', 1), ('crus', 1), ('russe', 1), ('vicious', 1), ('click', 19), ('august', 8), ('natepgilbraith', 1), ('send', 19), ('texts', 15), ('sued', 3), ('block', 6), ('sales', 9), ('iii', 6), ('united', 5), ('states', 3), ('samsungpayus', 1), ('enough', 31), ('npdkeg', 1), ('fwj', 1), ('cold', 4), ('trench', 1), ('coat', 4), ('jour', 2), ('fylde', 1), ('college', 2), ('stroll', 1), ('tomson', 1), ('pudong', 1), ('golf', 2), ('runners', 2), ('issues', 5), ('filter', 4), ('sweat', 2), ('soooooo', 4), ('spoiled', 3), ('girl', 29), ('mmmmmeeeee', 2), ('gamer', 3), ('popular', 6), ('shite', 4), ('far', 12), ('discs', 2), ('candies', 2), ('suppose', 2), ('draft', 1), ('fantasy', 4), ('laptoppp', 1), ('upgrading', 3), ('puppy', 6), ('souped', 1), ('types', 1), ('zazzlesale', 1), ('nocturnal', 1), ('doings', 1), ('steemit', 23), ('royal', 1), ('panecea', 1), ('hotel', 4), ('gumbet', 1), ('forcing', 4), ('learn', 11), ('tri', 1), ('wing', 2), ('screw', 8), ('driver', 5), ('batter', 1), ('fixed', 18), ('recovery', 6), ('flashed', 2), ('sale', 24), ('plus', 38), ('germany', 2), ('succesfully', 1), ('sonyxperia', 5), ('omigosh', 1), ('lovin', 6), ('hehehe', 6), ('classy', 2), ('original', 4), ('black', 23), ('dreams', 7), ('standing', 3), ('sirri', 1), ('iously', 1), ('bad', 25), ('cheap', 4), ('res', 1), ('uczq', 1), ('wdlh', 1), ('past', 14), ('shat', 1), ('worked', 7), ('chargers', 22), ('releasing', 3), ('starting', 7), ('bout', 5), ('shopping', 10), ('sunday', 11), ('messed', 4), ('crying', 2), ('wiped', 10), ('sixth', 1), ('setting', 5), ('gig', 2), ('retarded', 2), ('fuckup', 1), ('recycle', 1), ('nah', 2), ('whatev', 1), ('playstation', 9), ('wat', 1), ('pay', 31), ('premium', 4), ('rid', 12), ('roll', 4), ('mommy', 10), ('samsungtweets', 2), ('samsungsupport', 1), ('superiority', 1), ('killin', 1), ('job', 19), ('wiki', 1), ('page', 7), ('sad', 5), ('still', 92), ('selfie', 22), ('rooze', 1), ('selfi', 1), ('toon', 1), ('mobarak', 1), ('disneyland', 1), ('sports', 2), ('games', 20), ('pocket', 5), ('nzpc', 1), ('extra', 4), ('layer', 1), ('protection', 3), ('celebrate', 3), ('mental', 1), ('fragile', 1), ('whore', 1), ('titanium', 1), ('dirty', 1), ('secret', 3), ('demos', 1), ('flintstone', 1), ('tender', 1), ('toes', 1), ('ordinateur', 1), ('offend', 1), ('anybody', 4), ('statement', 1), ('crap', 16), ('serving', 1), ('janellemonae', 1), ('realness', 1), ('yik', 1), ('sxoz', 1), ('capetownsup', 38), ('tit', 1), ('fall', 9), ('spent', 11), ('tuck', 1), ('silver', 5), ('unlocked', 21), ('aug', 6), ('purfect', 1), ('ignor', 1), ('ppl', 3), ('busy', 4), ('followup', 1), ('especially', 4), ('mail', 6), ('written', 1), ('ceo', 3), ('madeleinemain', 1), ('awks', 1), ('auto', 6), ('correct', 5), ('shame', 4), ('bitch', 3), ('brand', 17), ('shinny', 1), ('oppocarein', 2), ('oppomobileindia', 4), ('oppo', 2), ('stable', 1), ('version', 18), ('color', 6), ('beta', 6), ('useless', 9), ('help', 22), ('pronounce', 1), ('generic', 1), ('mexican', 4), ('fanta', 2), ('delish', 1), ('lindsaytweets', 1), ('xxoo', 6), ('thai', 1), ('electronic', 3), ('ltd', 1), ('empire', 1), ('tower', 2), ('jake', 1), ('deals', 7), ('offer', 7), ('tablets', 6), ('whatsapp', 3), ('nationwide', 1), ('payment', 1), ('hgjc', 1), ('whn', 1), ('attention', 5), ('hates', 2), ('macs', 4), ('forget', 9), ('phznlzpgys', 1), ('updating', 6), ('ruined', 4), ('marshmallow', 2), ('manually', 2), ('five', 6), ('seconds', 6), ('snapping', 1), ('ago', 27), ('wondering', 3), ('jeans', 2), ('god', 21), ('user', 16), ('hillary', 1), ('clinton', 2), ('wins', 4), ('listen', 16), ('dym', 1), ('ehrujq', 1), ('tunnels', 2), ('woah', 1), ('spotify', 4), ('accepted', 2), ('nite', 2), ('crazy', 13), ('theory', 1), ('play', 26), ('gear', 14), ('interest', 1), ('idmkwq', 1), ('blj', 1), ('capture', 3), ('briiirosee', 1), ('glad', 14), ('shitty', 17), ('business', 7), ('headphone', 7), ('adapter', 4), ('umd', 1), ('xsmw', 1), ('servers', 3), ('melt', 2), ('catastrophic', 1), ('loss', 2), ('corporate', 1), ('information', 3), ('ensues', 1), ('bday', 5), ('month', 19), ('loud', 4), ('start', 23), ('living', 2), ('lifestyle', 1), ('recommend', 3), ('motorola', 8), ('moto', 11), ('lunar', 1), ('grey', 1), ('jun', 18), ('imac', 6), ('wakes', 1), ('beachball', 1), ('mobile', 22), ('ebony', 2), ('coffee', 11), ('table', 5), ('final', 4), ('quentavure', 1), ('land', 4), ('syeqivxxzz', 1), ('fur', 3), ('ball', 7), ('dlvo', 1), ('uninstall', 1), ('kies', 1), ('file', 5), ('options', 5), ('canoe', 2), ('ride', 6), ('officially', 7), ('build', 1), ('source', 5), ('coffe', 1), ('papitasfritas', 1), ('helping', 1), ('cool', 34), ('custom', 2), ('pins', 2), ('infinity', 1), ('sketch', 1), ('cycle', 2), ('beast', 4), ('siri', 17), ('feature', 6), ('future', 9), ('designs', 4), ('nature', 3), ('multitasking', 1), ('brain', 7), ('media', 6), ('sand', 1), ('poly', 1), ('kcwjtyr', 1), ('awful', 2), ('crashed', 4), ('barely', 5), ('precious', 2), ('ordered', 14), ('qgm', 1), ('slim', 4), ('design', 20), ('eldycgcck', 1), ('batman', 2), ('rescue', 2), ('laurencopeland', 1), ('people', 60), ('timmytoma', 1), ('reports', 1), ('profits', 3), ('ten', 5), ('pets', 1), ('chaz', 1), ('customized', 1), ('classic', 2), ('mood', 5), ('clicklnt', 1), ('casemate', 1), ('gymxwp', 1), ('awn', 1), ('funny', 9), ('mccarthyjessie', 1), ('minutes', 26), ('close', 7), ('eyes', 9), ('lights', 4), ('awake', 3), ('joshbates', 1), ('yea', 6), ('blieve', 1), ('kick', 3), ('dissapeared', 1), ('edition', 6), ('lenovo', 3), ('ideacentre', 3), ('performance', 3), ('scotty', 1), ('mccreery', 1), ('seem', 5), ('able', 14), ('due', 6), ('compatibility', 1), ('hash', 5), ('tags', 5), ('appointment', 7), ('lead', 4), ('leftocentre', 2), ('gaycarboys', 2), ('slsandpet', 2), ('capitalteacher', 2), ('gusface', 2), ('redux', 2), ('defo', 2), ('stores', 6), ('arsed', 1), ('driving', 4), ('trafford', 1), ('gangs', 1), ('enables', 1), ('beler', 1), ('fps', 1), ('backend', 1), ('ravi', 1), ('teja', 1), ('raja', 1), ('tixzbjku', 1), ('conned', 1), ('wand', 1), ('pond', 2), ('fond', 2), ('bond', 2), ('frond', 1), ('blond', 1), ('heart', 12), ('evening', 5), ('macbook', 32), ('bff', 1), ('giving', 21), ('chocolate', 5), ('princess', 3), ('caramelb', 1), ('promotes', 1), ('portrait', 4), ('secure', 1), ('study', 1), ('shows', 4), ('malware', 1), ('pdf', 2), ('exploits', 1), ('dia', 2), ('rabon', 1), ('bowers', 1), ('fishes', 2), ('founders', 1), ('pdsmtuiufx', 1), ('found', 12), ('somehow', 3), ('manages', 1), ('wipe', 3), ('expacting', 1), ('lot', 17), ('advance', 4), ('caption', 2), ('freak', 2), ('monsters', 1), ('emoji', 10), ('manudsg', 1), ('cirebon', 1), ('city', 7), ('friday', 21), ('everyday', 4), ('needs', 21), ('times', 20), ('drinking', 3), ('ducky', 1), ('eov', 1), ('cxxj', 1), ('guessing', 1), ('celebrating', 2), ('easter', 7), ('network', 5), ('fill', 3), ('blanks', 1), ('wasting', 2), ('poor', 4), ('loyalty', 2), ('crapple', 3), ('ieiiiii', 1), ('incredibly', 2), ('patient', 1), ('helpful', 6), ('thumbs', 1), ('documents', 2), ('pdfs', 1), ('notes', 6), ('etc', 10), ('pleased', 2), ('prgdfy', 1), ('nai', 1), ('plastic', 6), ('shaw', 6), ('zeta', 7), ('supplies', 7), ('lunch', 5), ('takes', 10), ('theres', 2), ('newer', 5), ('androidworld', 1), ('xtssgtl', 1), ('careful', 2), ('aware', 1), ('surroundings', 1), ('ducks', 2), ('marthabrulotte', 1), ('razr', 2), ('maxx', 1), ('idon', 1), ('tgiveafuxk', 1), ('allycensored', 1), ('stoned', 1), ('soo', 4), ('jokes', 1), ('congratulations', 2), ('hidayah', 1), ('buggy', 3), ('lovepic', 1), ('qekqdwgk', 1), ('persians', 1), ('versions', 3), ('phonecase', 2), ('brother', 8), ('xig', 1), ('absolutely', 7), ('cam', 3), ('anyways', 2), ('puts', 1), ('nail', 1), ('coffin', 1), ('muxywcolqu', 1), ('online', 9), ('multiplayer', 1), ('worth', 11), ('redownload', 1), ('donut', 1), ('enjoy', 10), ('werpmehdzm', 1), ('annoys', 1), ('imessages', 2), ('minha', 1), ('linda', 1), ('shoes', 1), ('anytime', 3), ('alerts', 2), ('second', 8), ('neighborhood', 1), ('space', 15), ('madrid', 1), ('bgxzlhq', 1), ('oaa', 1), ('emim', 1), ('macbookpro', 3), ('sharp', 2), ('edges', 3), ('holly', 3), ('shit', 26), ('pissed', 12), ('crashes', 7), ('chica', 2), ('picking', 3), ('pieces', 1), ('caseee', 1), ('joshtetley', 1), ('wah', 2), ('hated', 5), ('worst', 25), ('raising', 1), ('watched', 3), ('event', 6), ('renaming', 1), ('things', 29), ('exist', 1), ('set', 18), ('style', 5), ('dirt', 1), ('hilarious', 3), ('dias', 1), ('mejelenajensen', 1), ('aha', 1), ('gold', 14), ('upgraded', 9), ('ide', 3), ('lick', 1), ('hole', 4), ('road', 3), ('necessary', 1), ('romzmcfyu', 1), ('favs', 1), ('beautiful', 23), ('rolling', 10), ('hear', 5), ('ability', 2), ('rattling', 1), ('deejayshai', 1), ('elusivelee', 1), ('talks', 2), ('purchased', 5), ('cent', 1), ('earned', 2), ('cash', 3), ('platypus', 4), ('sing', 4), ('wasted', 6), ('rigged', 1), ('drain', 3), ('thx', 10), ('wasmohuerta', 1), ('shirt', 6), ('dammit', 3), ('hardyoupieceofcensored', 1), ('billie', 1), ('unrelated', 2), ('diandraaaaa', 1), ('anywhere', 2), ('contract', 4), ('stock', 7), ('hitachi', 1), ('disk', 2), ('evo', 5), ('ssd', 1), ('relief', 1), ('gone', 25), ('died', 8), ('tim', 11), ('cook', 9), ('abah', 1), ('loads', 3), ('garden', 6), ('vnwsqrcitz', 1), ('meson', 1), ('anand', 1), ('mahindra', 1), ('complaining', 1), ('brevity', 6), ('boxed', 6), ('calendar', 15), ('pisses', 2), ('qfrkuiu', 1), ('hands', 6), ('patrick', 1), ('accidentally', 3), ('vozdepueblopr', 1), ('wants', 9), ('cellphones', 2), ('consumers', 1), ('aux', 1), ('jack', 5), ('add', 8), ('bye', 12), ('thousands', 3), ('possible', 6), ('owner', 3), ('pretty', 13), ('dudes', 1), ('haaaappy', 1), ('jlv', 1), ('nasty', 1), ('horrible', 2), ('though', 14), ('vtntitplzt', 1), ('ing', 3), ('sweetness', 2), ('discount', 9), ('henry', 1), ('nisahlee', 1), ('cashmusic', 1), ('drink', 4), ('homemade', 1), ('soda', 1), ('manage', 2), ('reporting', 1), ('station', 4), ('honest', 2), ('reinstalling', 1), ('readwriteupdate', 1), ('sometimes', 7), ('wake', 7), ('smell', 6), ('roses', 2), ('orv', 1), ('svbhs', 1), ('qea', 1), ('amazes', 1), ('morocco', 1), ('shot', 10), ('sonyalpha', 1), ('rii', 1), ('master', 4), ('dspa', 1), ('qgeug', 1), ('blonde', 1), ('citizen', 1), ('fairy', 2), ('tale', 1), ('kingdom', 2), ('worldwide', 1), ('shipping', 12), ('ppxjlbaz', 1), ('forward', 4), ('pastaval', 1), ('oghzq', 1), ('sgsp', 1), ('cringe', 1), ('idea', 9), ('shadow', 3), ('wall', 8), ('laura', 1), ('nyork', 1), ('boost', 2), ('mobiles', 3), ('wunc', 1), ('stjwh', 1), ('anguyoops', 1), ('vinyl', 3), ('reload', 1), ('bumper', 2), ('obsolete', 3), ('kinda', 6), ('yujuj', 1), ('ioioo', 1), ('ippp', 1), ('allenchoo', 1), ('fits', 3), ('wuipnk', 1), ('erase', 2), ('private', 3), ('friendly', 9), ('approach', 1), ('transparant', 1), ('silicon', 2), ('uncle', 4), ('barr', 1), ('walsall', 1), ('nadine', 1), ('griffin', 1), ('text', 27), ('numbers', 13), ('indulge', 1), ('swim', 2), ('tomorrow', 23), ('blueberry', 1), ('lemon', 1), ('caramel', 2), ('beach', 10), ('hiroshimap', 1), ('lbcvg', 1), ('allure', 1), ('surges', 1), ('common', 1), ('phrase', 1), ('yaaayyyy', 1), ('kaitfayee', 1), ('bestfriend', 2), ('kennylutz', 2), ('alydiano', 2), ('wirelessly', 1), ('uspic', 5), ('tjig', 1), ('dfzv', 1), ('julieday', 1), ('agree', 10), ('programmed', 3), ('basic', 3), ('stephanie', 1), ('sanz', 1), ('pandora', 2), ('either', 10), ('shut', 5), ('rewinded', 1), ('message', 14), ('switched', 4), ('google', 16), ('cats', 3), ('tasty', 1), ('discoverjulibox', 1), ('move', 9), ('went', 19), ('different', 18), ('djfunky', 1), ('appleofficialll', 3), ('jokers', 1), ('ill', 2), ('deleting', 10), ('emails', 6), ('anonymous', 2), ('acting', 1), ('monopolize', 1), ('suggestions', 1), ('winder', 1), ('anyway', 3), ('dictionary', 1), ('tick', 1), ('tack', 1), ('ist', 2), ('hoping', 1), ('firewire', 1), ('fairies', 1), ('redbubble', 7), ('spell', 1), ('mistyped', 1), ('quickest', 2), ('quackiest', 1), ('alternative', 3), ('often', 2), ('surprise', 4), ('eukfmxiu', 1), ('mins', 9), ('previous', 6), ('splash', 3), ('may', 29), ('carlyherriot', 1), ('dies', 5), ('quicker', 2), ('listless', 1), ('tons', 2), ('stuffs', 1), ('overly', 2), ('complicated', 5), ('unreliable', 1), ('indulgent', 1), ('wrapped', 1), ('expensive', 3), ('wrapper', 1), ('typical', 2), ('apparently', 11), ('eventually', 1), ('keypad', 1), ('fails', 5), ('bns', 1), ('wiediasetiani', 1), ('greatness', 1), ('choice', 6), ('ynv', 1), ('yew', 1), ('nolan', 1), ('mama', 7), ('eliminate', 1), ('competition', 2), ('wallpaper', 8), ('niokgallego', 1), ('ivanyuan', 1), ('orangutans', 2), ('citags', 1), ('loljk', 1), ('tambun', 1), ('useful', 4), ('led', 5), ('flash', 12), ('shortcut', 2), ('topics', 2), ('rumors', 2), ('cinco', 1), ('mayo', 1), ('biggest', 5), ('anxiety', 1), ('attack', 2), ('saying', 15), ('producerstewart', 1), ('definitely', 5), ('zip', 1), ('hoodie', 3), ('cant', 19), ('unlock', 6), ('ace', 2), ('although', 2), ('mind', 12), ('hell', 2), ('ufteryou', 2), ('ogochocinco', 1), ('antoine', 3), ('ent', 1), ('vtnavd', 1), ('gorgeous', 3), ('conversion', 1), ('lucknow', 1), ('streets', 1), ('hlhpq', 1), ('egb', 1), ('ordering', 3), ('duos', 2), ('dual', 7), ('sim', 11), ('eating', 4), ('inbbbox', 1), ('dribbble', 2), ('vsartcjayk', 1), ('clanks', 1), ('manx', 1), ('wanks', 1), ('ranks', 1), ('tanks', 2), ('banks', 1), ('yanks', 1), ('andrew', 1), ('book', 17), ('obwdyqogkn', 1), ('ixwyngbtvm', 1), ('bullcensored', 5), ('melted', 1), ('wednesday', 3), ('upppp', 1), ('share', 33), ('hehe', 5), ('parking', 2), ('babes', 1), ('newest', 6), ('employee', 4), ('heard', 4), ('nexus', 5), ('refugees', 1), ('chrismuso', 1), ('alomran', 1), ('fkn', 1), ('sims', 1), ('chance', 5), ('connect', 8), ('run', 12), ('grandma', 3), ('ass', 5), ('resync', 1), ('remove', 7), ('zsofimonster', 1), ('thinner', 3), ('faster', 4), ('hopefully', 7), ('atlanta', 1), ('breakfast', 7), ('pyajo', 1), ('kbi', 1), ('amjune', 2), ('followbacg', 5), ('next', 28), ('phablet', 1), ('seen', 5), ('yahootech', 1), ('holidays', 5), ('reallyreal', 15), ('picovb', 2), ('hwp', 1), ('wwv', 1), ('rgjiklyw', 1), ('unlocking', 1), ('pissing', 4), ('meeeeeee', 1), ('concussion', 1), ('pathetic', 4), ('overheats', 1), ('nails', 2), ('oijh', 1), ('fave', 1), ('brighter', 1), ('husband', 8), ('aand', 1), ('probably', 6), ('lem', 1), ('straight', 3), ('therefore', 2), ('creating', 4), ('annual', 3), ('talk', 9), ('artist', 2), ('ffiphonesia', 1), ('ffinstagood', 1), ('ffigers', 1), ('ffinstagramhub', 1), ('mgcnpxy', 1), ('decent', 3), ('wonder', 8), ('reminds', 1), ('leonmaughan', 1), ('iaeji', 1), ('qevr', 1), ('feels', 7), ('forever', 10), ('kingofarsenal', 1), ('lool', 2), ('flipcover', 1), ('doutzen', 1), ('kingston', 2), ('lacy', 1), ('mistakes', 2), ('specifically', 2), ('italy', 1), ('goooooo', 1), ('anniversary', 3), ('mainly', 1), ('purposes', 1), ('recommendations', 1), ('prayer', 1), ('hayden', 1), ('clean', 3), ('accelerate', 1), ('blackamex', 1), ('letting', 3), ('lmbo', 1), ('casetify', 1), ('sick', 9), ('hearing', 2), ('courtship', 1), ('age', 4), ('technology', 8), ('contact', 9), ('left', 15), ('mike', 1), ('gennaro', 1), ('simply', 5), ('avi', 1), ('smash', 1), ('explode', 3), ('resist', 2), ('growing', 2), ('beard', 2), ('sexy', 8), ('saturday', 9), ('bracket', 1), ('monitor', 2), ('whimsy', 1), ('xonkotkpst', 1), ('hitting', 2), ('irishazada', 1), ('photography', 5), ('photograpytrick', 1), ('tweets', 10), ('htt', 3), ('playful', 1), ('lazy', 1), ('pug', 1), ('yesterday', 18), ('incredible', 3), ('thrill', 1), ('experience', 11), ('reposting', 12), ('lexzaronis', 3), ('sky', 8), ('breaks', 3), ('uswo', 1), ('ppsez', 1), ('health', 2), ('warning', 5), ('upon', 3), ('boot', 6), ('running', 14), ('fruity', 1), ('socks', 2), ('ibra', 1), ('glyn', 1), ('bbm', 6), ('chuck', 5), ('history', 4), ('church', 5), ('bandana', 1), ('behaves', 1), ('cut', 8), ('pushes', 1), ('constanstly', 1), ('lock', 25), ('gave', 11), ('given', 6), ('cheers', 2), ('ory', 1), ('mtf', 1), ('sit', 2), ('punctual', 1), ('itemsineed', 1), ('orchard', 1), ('midnight', 2), ('resize', 2), ('permanently', 2), ('fit', 6), ('notebook', 4), ('size', 5), ('convos', 1), ('bru', 1), ('room', 12), ('scientists', 1), ('zap', 1), ('played', 2), ('flour', 1), ('name', 5), ('snapchat', 4), ('glcensored', 8), ('wraps', 1), ('fish', 2), ('mercatometropolitano', 1), ('ifttt', 2), ('instagrampic', 3), ('qhrdo', 1), ('hearts', 3), ('stop', 24), ('crashing', 9), ('twit', 1), ('read', 9), ('invented', 4), ('buying', 18), ('shortly', 1), ('tis', 1), ('hrs', 3), ('spinning', 2), ('death', 4), ('mile', 1), ('homestead', 2), ('week', 40), ('froggyradio', 1), ('hostages', 2), ('jlm', 1), ('hlb', 1), ('hiv', 1), ('vaa', 1), ('abfad', 1), ('thats', 8), ('shout', 1), ('dropped', 11), ('valentine', 14), ('rewards', 1), ('fashionably', 1), ('ripped', 2), ('eff', 2), ('quick', 4), ('kind', 6), ('manners', 1), ('damage', 1), ('image', 4), ('cosy', 1), ('tine', 1), ('weather', 5), ('craziest', 2), ('piano', 2), ('ounce', 1), ('hacking', 3), ('prank', 6), ('heaven', 4), ('diamond', 3), ('vgnknrspfx', 1), ('host', 2), ('many', 32), ('checked', 1), ('rehab', 1), ('tennis', 2), ('food', 4), ('pattern', 4), ('pvitbn', 1), ('newegg', 1), ('visit', 12), ('volume', 2), ('buttons', 2), ('espngolic', 1), ('espngreeny', 1), ('mikeandmike', 1), ('hairy', 2), ('chest', 2), ('waxed', 1), ('legit', 2), ('proposal', 2), ('shelly', 1), ('sydney', 1), ('manly', 1), ('lhearahu', 1), ('testing', 2), ('car', 15), ('hftyt', 1), ('iyat', 1), ('juabuksomd', 1), ('pod', 2), ('billyidol', 1), ('rpm', 1), ('jjiet', 1), ('elk', 1), ('website', 6), ('side', 8), ('crack', 5), ('rainbow', 2), ('magicland', 1), ('motherfucker', 2), ('idgaf', 1), ('pokemon', 2), ('covers', 3), ('pinkish', 1), ('appointments', 2), ('hrhp', 1), ('voucher', 1), ('omws', 1), ('hikrx', 1), ('card', 14), ('flipkart', 1), ('received', 7), ('syncing', 6), ('pods', 1), ('http', 2), ('bites', 2), ('dust', 3), ('bucks', 4), ('pop', 7), ('associated', 1), ('americans', 1), ('social', 6), ('kickoff', 1), ('buddies', 1), ('dnkkxub', 1), ('difficult', 3), ('amplicatetl', 1), ('zepeihszmu', 1), ('gaming', 7), ('system', 9), ('imo', 1), ('gpbxdnq', 1), ('jhfhp', 1), ('process', 6), ('developing', 1), ('shall', 1), ('streaming', 5), ('cmon', 1), ('inject', 1), ('cancer', 2), ('lack', 2), ('storage', 13), ('metallic', 1), ('inlay', 1), ('wood', 1), ('fppkkf', 1), ('jsmf', 1), ('area', 3), ('comedian', 1), ('paul', 2), ('scheer', 1), ('wife', 6), ('trend', 3), ('answer', 8), ('donkey', 1), ('ness', 1), ('verizon', 7), ('arrives', 1), ('planet', 10), ('doug', 9), ('personally', 2), ('freely', 1), ('jswgwbfvik', 1), ('resend', 1), ('tweet', 16), ('ied', 1), ('mubarrak', 1), ('chord', 4), ('progression', 1), ('hundreds', 1), ('progressions', 1), ('overheating', 1), ('aimed', 2), ('squarely', 1), ('idiot', 3), ('crowd', 1), ('simple', 10), ('changer', 1), ('nearing', 2), ('conclusion', 3), ('middle', 7), ('finger', 8), ('fair', 3), ('unseat', 1), ('sen', 1), ('waiting', 23), ('gram', 1), ('boredddddd', 1), ('error', 8), ('thus', 2), ('cries', 1), ('weeks', 13), ('jill', 1), ('holmes', 1), ('departs', 1), ('west', 1), ('express', 2), ('upset', 5), ('development', 3), ('underway', 2), ('quhlc', 2), ('implemented', 1), ('absurd', 1), ('androidheadline', 2), ('htc', 10), ('npolls', 1), ('latin', 1), ('lovers', 3), ('italians', 1), ('french', 2), ('hottest', 1), ('adh', 1), ('lkusxf', 1), ('along', 5), ('router', 2), ('realised', 2), ('jokrw', 1), ('loogee', 1), ('jcfischer', 1), ('porn', 2), ('gbram', 1), ('gbhd', 1), ('hiresmattdisplay', 1), ('sleeve', 2), ('missing', 3), ('generation', 7), ('rare', 2), ('july', 4), ('ahhh', 4), ('group', 3), ('chat', 3), ('owns', 1), ('facebook', 13), ('chart', 1), ('biancalissette', 1), ('nuts', 1), ('window', 5), ('hubby', 4), ('siemenscs', 1), ('sme', 1), ('launching', 2), ('jelly', 1), ('bean', 1), ('ics', 2), ('yogobogoiow', 1), ('several', 1), ('errors', 1), ('punch', 2), ('firstdayfall', 1), ('noncommittal', 1), ('deqgbqjkgz', 1), ('auuhkx', 1), ('protect', 2), ('potion', 2), ('chill', 5), ('pills', 1), ('saxv', 1), ('kup', 1), ('jtffnivzam', 1), ('idrhvyxcbi', 1), ('calm', 3), ('security', 10), ('goodness', 1), ('protector', 3), ('liess', 1), ('brill', 1), ('tueasmthcw', 1), ('overall', 1), ('iwh', 1), ('lzbgfi', 1), ('lotion', 1), ('hitler', 4), ('informed', 1), ('rants', 1), ('matches', 1), ('googles', 2), ('indexing', 2), ('avvqn', 2), ('jfp', 2), ('mishap', 1), ('preview', 4), ('albums', 4), ('stereo', 2), ('exact', 1), ('top', 19), ('poem', 16), ('perhaps', 1), ('coolest', 1), ('upload', 7), ('vote', 6), ('waking', 1), ('scream', 1), ('flooding', 1), ('place', 10), ('randomly', 6), ('att', 2), ('unlimited', 5), ('sloooooows', 1), ('define', 1), ('pharrell', 3), ('williams', 2), ('italian', 2), ('cynical', 1), ('moving', 5), ('sticker', 2), ('promised', 1), ('bright', 6), ('ttdswpv', 1), ('valentines', 3), ('nataliehart', 1), ('oanq', 1), ('wautkfgi', 1), ('ascii', 1), ('miracleofsound', 1), ('specific', 1), ('movie', 8), ('wow', 19), ('occured', 1), ('downloading', 4), ('worthless', 3), ('peices', 1), ('erases', 1), ('wear', 2), ('retards', 1), ('msc', 1), ('forces', 1), ('icon', 3), ('clearly', 3), ('alcala', 1), ('ann', 1), ('touching', 2), ('bend', 1), ('responding', 2), ('prestigemedia', 1), ('katchafire', 1), ('cko', 1), ('jio', 1), ('suddenly', 1), ('fail', 3), ('postcard', 2), ('lecco', 2), ('favorite', 19), ('pumps', 1), ('tourist', 1), ('edryi', 1), ('leca', 1), ('sounds', 1), ('rotten', 1), ('cancel', 2), ('subscription', 4), ('delete', 18), ('playlists', 4), ('lists', 1), ('marble', 2), ('air', 17), ('cast', 1), ('concrete', 1), ('jyu', 1), ('ove', 2), ('blocks', 1), ('oettl', 1), ('shocked', 3), ('meee', 3), ('weee', 1), ('fifth', 1), ('avenue', 1), ('ladygaga', 2), ('lanadelray', 1), ('sign', 5), ('dancing', 2), ('drama', 2), ('restored', 5), ('contacts', 16), ('nose', 2), ('dive', 2), ('spending', 4), ('recovering', 1), ('posting', 2), ('vids', 2), ('adm', 2), ('sbw', 1), ('hacker', 3), ('overpriced', 4), ('bluetooth', 6), ('airplay', 1), ('course', 8), ('example', 1), ('locked', 8), ('everytime', 2), ('blurry', 1), ('vibes', 3), ('ipbbdtvsyx', 1), ('ilence', 1), ('yesterdayy', 1), ('project', 4), ('spank', 1), ('skate', 2), ('favor', 1), ('tweeting', 2), ('spike', 1), ('looming', 2), ('windowsphone', 2), ('mywindowsphone', 1), ('decides', 9), ('ksr', 1), ('gin', 1), ('juice', 4), ('kom', 1), ('huort', 1), ('center', 7), ('michael', 3), ('gnu', 2), ('darwin', 2), ('action', 5), ('zipper', 3), ('gen', 3), ('looooong', 1), ('sunny', 3), ('gothenburg', 1), ('stealing', 1), ('gta', 1), ('pushing', 2), ('front', 5), ('door', 6), ('daughter', 9), ('lily', 1), ('xxx', 1), ('lady', 4), ('watching', 8), ('dogs', 4), ('dbes', 1), ('uuuuuuuuuuuuuuuuu', 1), ('film', 2), ('building', 3), ('lapse', 1), ('eceiaine', 1), ('upsessed', 1), ('light', 8), ('simone', 2), ('six', 2), ('bloodborne', 1), ('psn', 5), ('craft', 1), ('green', 12), ('inner', 2), ('acc', 1), ('february', 8), ('idk', 4), ('series', 3), ('doctor', 4), ('lmbefgz', 1), ('keeping', 3), ('important', 6), ('sabo', 2), ('uriq', 1), ('tree', 10), ('plated', 1), ('butt', 4), ('arseholes', 1), ('dinner', 6), ('uuuu', 1), ('coz', 3), ('ofcourse', 2), ('sun', 7), ('compete', 1), ('sweetest', 1), ('iso', 1), ('difference', 3), ('prettiest', 1), ('strong', 4), ('huge', 10), ('savings', 1), ('pack', 3), ('mfi', 1), ('certified', 1), ('connector', 2), ('opwn', 1), ('sara', 2), ('coe', 1), ('neeeded', 1), ('ufjvhv', 1), ('mmm', 2), ('cupcake', 2), ('pst', 2), ('pxbvq', 1), ('jenniferabbey', 1), ('lawilliams', 1), ('lauren', 1), ('guru', 1), ('apart', 6), ('donna', 1), ('alcensored', 9), ('water', 7), ('basment', 1), ('ceiling', 1), ('zgfdu', 1), ('gsj', 1), ('fuming', 1), ('warcraft', 1), ('lrmepqf', 1), ('picture', 13), ('natal', 1), ('losers', 2), ('nowhere', 2), ('lethal', 1), ('bluangel', 1), ('omgggg', 1), ('lame', 2), ('log', 4), ('option', 3), ('sumt', 1), ('capsule', 1), ('vzhxbkemin', 1), ('cheesing', 1), ('silence', 2), ('lookout', 1), ('addiction', 4), ('majsi', 1), ('andreaslarszon', 1), ('fam', 2), ('honestly', 3), ('breno', 1), ('objzj', 1), ('fvlr', 1), ('xperia', 5), ('forgiveness', 1), ('photoshoot', 1), ('carry', 2), ('husfpkp', 1), ('soooo', 5), ('constellation', 1), ('milk', 2), ('annabelle', 1), ('shermaine', 1), ('bump', 1), ('baba', 1), ('turned', 5), ('tired', 4), ('crappy', 8), ('alexa', 1), ('kate', 2), ('recognize', 3), ('ucmukthmf', 1), ('vaio', 2), ('aaron', 2), ('woods', 1), ('swing', 2), ('browsing', 2), ('based', 3), ('ipads', 10), ('invest', 2), ('obsession', 2), ('installed', 3), ('rose', 7), ('workout', 3), ('umairsandhu', 1), ('uses', 2), ('signs', 2), ('boss', 3), ('secretly', 1), ('epewnxupvj', 1), ('replacing', 2), ('hjctrlwqw', 1), ('zen', 2), ('details', 5), ('emerge', 1), ('itard', 1), ('andrewwk', 1), ('step', 1), ('eight', 1), ('throw', 12), ('steps', 1), ('pardon', 1), ('hashtags', 1), ('damnthassjewell', 1), ('announce', 3), ('fiction', 1), ('havent', 1), ('texted', 1), ('reset', 9), ('snow', 4), ('desert', 2), ('access', 7), ('enable', 2), ('modest', 1), ('elpoliedro', 1), ('hannahhendzel', 1), ('ben', 1), ('promote', 1), ('avoid', 5), ('installing', 6), ('zebra', 1), ('economy', 1), ('orders', 1), ('charging', 18), ('shabby', 1), ('fishing', 2), ('amor', 1), ('prohibido', 1), ('forbidden', 1), ('adorable', 3), ('jizzy', 1), ('date', 11), ('hannahcallaghan', 1), ('han', 1), ('stnght', 1), ('pel', 1), ('yumm', 1), ('kedaiartha', 1), ('stalinkay', 1), ('checkout', 1), ('arrows', 1), ('addictive', 1), ('shooter', 2), ('vday', 1), ('freedom', 2), ('coque', 2), ('backface', 1), ('jokn', 1), ('ocgcdxddvr', 1), ('rightly', 2), ('gentle', 1), ('creative', 4), ('children', 3), ('universe', 2), ('refund', 2), ('covent', 1), ('butterfly', 2), ('zazzle', 2), ('sylrom', 1), ('imyffge', 1), ('cart', 2), ('intense', 2), ('ulyssesseen', 1), ('yorker', 1), ('ulysses', 1), ('unh', 1), ('hunger', 1), ('simpsons', 1), ('coverage', 1), ('informer', 1), ('marvel', 1), ('noxbox', 1), ('ovahere', 1), ('gamerrtservicepic', 1), ('zhex', 1), ('mqs', 1), ('browse', 2), ('whatever', 6), ('fell', 3), ('nemo', 1), ('instrumental', 1), ('ending', 5), ('yelling', 1), ('corrects', 1), ('cuss', 1), ('proclaimed', 1), ('tamed', 1), ('lamed', 1), ('gamed', 1), ('named', 1), ('famed', 1), ('mountain', 5), ('lion', 5), ('fuq', 1), ('initiative', 1), ('nartl', 2), ('testers', 1), ('worries', 1), ('fab', 1), ('jess', 1), ('zayas', 1), ('pgkyh', 1), ('bhy', 1), ('regram', 1), ('xqvqpvijfm', 1), ('suitable', 1), ('normally', 2), ('supply', 1), ('copy', 3), ('wwfcfancast', 1), ('whats', 5), ('rss', 1), ('feed', 1), ('podcast', 2), ('cater', 2), ('plugged', 4), ('sudden', 1), ('sway', 1), ('droid', 6), ('husky', 1), ('americanair', 1), ('struggling', 1), ('accessory', 5), ('jjyrxzfi', 1), ('sense', 3), ('gurrr', 1), ('iman', 1), ('unexpected', 1), ('ninong', 1), ('vicpaul', 1), ('netbook', 1), ('violy', 1), ('pacot', 1), ('plate', 1), ('andrewprevost', 1), ('yup', 6), ('sueing', 4), ('fricken', 1), ('entry', 1), ('weebly', 1), ('alibakes', 1), ('reestablish', 1), ('srsly', 2), ('inspire', 1), ('advantage', 2), ('track', 5), ('gljkms', 1), ('oliyoung', 1), ('hanging', 1), ('johnny', 1), ('depp', 1), ('lawyer', 1), ('alleges', 1), ('amber', 1), ('cameras', 2), ('nikonusa', 1), ('canonusa', 1), ('panasonicusa', 1), ('ietthltbr', 1), ('fnact', 1), ('bienvenido', 1), ('familia', 2), ('luv', 2), ('jcensored', 1), ('smiles', 5), ('besides', 1), ('lake', 3), ('bberry', 1), ('garskin', 1), ('inch', 8), ('becoming', 2), ('emulated', 1), ('qqht', 1), ('lsrm', 1), ('north', 5), ('korea', 2), ('freedoms', 1), ('dates', 1), ('ivp', 1), ('kidbm', 1), ('paid', 6), ('crossing', 1), ('mark', 3), ('progress', 4), ('gchijyt', 1), ('iftar', 1), ('bersama', 1), ('fmly', 1), ('resetting', 1), ('expo', 1), ('mcgi', 1), ('org', 1), ('zhoh', 1), ('foj', 1), ('bpgjry', 1), ('official', 7), ('inc', 5), ('iteration', 1), ('junk', 3), ('leave', 7), ('alone', 2), ('permanent', 1), ('markers', 1), ('font', 1), ('girly', 1), ('laugh', 6), ('harrym', 1), ('mag', 1), ('cakes', 1), ('sides', 1), ('bahaha', 2), ('xiaomiindia', 2), ('offers', 7), ('range', 2), ('chegou', 1), ('wonderful', 9), ('tuesday', 4), ('gsm', 4), ('lte', 9), ('refined', 4), ('rugged', 4), ('messing', 4), ('incompatible', 2), ('star', 2), ('rated', 3), ('mon', 2), ('misspell', 1), ('january', 10), ('graphics', 2), ('addition', 2), ('qjkelfyjyh', 1), ('havenlust', 2), ('saving', 3), ('registering', 1), ('reception', 3), ('fucken', 3), ('blah', 3), ('micr', 1), ('ozhk', 1), ('finding', 5), ('pointless', 4), ('hardware', 4), ('chicco', 3), ('operator', 1), ('captive', 1), ('leaving', 1), ('angry', 8), ('gorgeousdiior', 1), ('dessert', 4), ('crumble', 2), ('topped', 2), ('ice', 3), ('cream', 3), ('coco', 2), ('inspiration', 2), ('article', 5), ('wouldnt', 1), ('native', 2), ('beg', 1), ('john', 1), ('clarke', 1), ('razihel', 1), ('cooking', 3), ('mum', 3), ('dkmzphbj', 1), ('started', 8), ('unboxing', 7), ('bkxw', 1), ('rkwxptzw', 1), ('fake', 4), ('traffic', 2), ('site', 3), ('pmjune', 2), ('buggered', 1), ('sematalba', 1), ('nope', 1), ('sorting', 1), ('yep', 3), ('developers', 2), ('adjust', 1), ('comming', 2), ('onedayatatimer', 1), ('survive', 1), ('storm', 2), ('dance', 4), ('rain', 6), ('sakes', 1), ('asking', 4), ('ffs', 4), ('negative', 2), ('boars', 1), ('gore', 1), ('swords', 1), ('iphonex', 3), ('blehebbrrn', 1), ('probs', 1), ('plans', 1), ('trump', 6), ('attacks', 1), ('completed', 1), ('connecting', 2), ('gps', 1), ('reluctantly', 1), ('yayy', 2), ('muax', 1), ('quote', 12), ('achi', 2), ('gently', 1), ('press', 2), ('rooney', 1), ('lmao', 4), ('sannim', 1), ('born', 4), ('brah', 1), ('manikin', 1), ('ooooo', 2), ('underwater', 1), ('redcoffe', 1), ('homie', 2), ('rac', 1), ('scotters', 1), ('loyal', 4), ('rim', 2), ('ground', 2), ('hop', 3), ('bus', 3), ('louisville', 1), ('duel', 1), ('revolution', 1), ('bother', 2), ('commenting', 1), ('body', 2), ('zonbies', 1), ('bunakenchacha', 1), ('captured', 1), ('photowalk', 1), ('tfsmlmb', 1), ('insufficient', 1), ('funds', 1), ('grand', 2), ('matters', 1), ('telcel', 1), ('altabrisa', 1), ('cod', 1), ('riqxgijj', 1), ('dats', 1), ('crash', 7), ('referrals', 1), ('valid', 2), ('zqwtadxnhm', 1), ('bloke', 1), ('dpfrqemf', 1), ('horace', 1), ('wtf', 11), ('prez', 1), ('rivals', 1), ('longer', 11), ('osx', 2), ('mvsy', 1), ('pose', 2), ('thooooo', 1), ('goodly', 1), ('portion', 1), ('contents', 2), ('refrigerator', 1), ('vvqxiasfoe', 1), ('hxuam', 1), ('spread', 2), ('reveal', 1), ('qciyu', 1), ('sehunday', 1), ('lilrabbit', 1), ('kane', 1), ('traiin', 1), ('switching', 4), ('defective', 3), ('eye', 2), ('lens', 3), ('instaxonline', 1), ('prettylidiann', 1), ('program', 5), ('computers', 7), ('winter', 7), ('shouting', 2), ('booing', 1), ('labour', 1), ('sflsocialgeeks', 1), ('envious', 1), ('cock', 2), ('clothes', 3), ('stole', 2), ('hongmi', 1), ('rice', 2), ('ditched', 1), ('functionality', 2), ('invisiblehole', 1), ('proving', 1), ('assfuck', 1), ('idealofsweden', 2), ('gzjj', 1), ('ykjnp', 1), ('legally', 1), ('smoother', 1), ('third', 1), ('chrome', 3), ('science', 2), ('magazine', 1), ('kdewitt', 1), ('villamorra', 1), ('cvibdzjrxw', 1), ('shrine', 1), ('valenti', 1), ('idevice', 1), ('criils', 1), ('clients', 3), ('unusable', 4), ('lend', 1), ('thier', 1), ('beat', 8), ('purupuru', 1), ('downloaded', 9), ('finds', 2), ('nearest', 2), ('pinkberry', 1), ('etat', 1), ('comme', 1), ('neuve', 1), ('safest', 1), ('bar', 10), ('iqeewt', 1), ('midsummer', 1), ('hun', 2), ('yosemite', 3), ('aarrrggghhhh', 1), ('lzs', 1), ('zgi', 1), ('unveil', 1), ('main', 4), ('factors', 1), ('jzy', 1), ('dysoek', 1), ('candace', 1), ('relationship', 5), ('smdh', 1), ('ygsuke', 1), ('ces', 2), ('cameronporter', 1), ('prework', 1), ('nougat', 2), ('latte', 1), ('skiwife', 1), ('eank', 1), ('hsxt', 1), ('shannonkennaxx', 1), ('damn', 2), ('iasmin', 1), ('sista', 1), ('fone', 2), ('ghante', 1), ('rha', 1), ('gvlovelady', 1), ('scandal', 1), ('bill', 2), ('football', 3), ('achievement', 1), ('bombay', 1), ('central', 4), ('shawnnadior', 1), ('means', 6), ('goodbye', 9), ('honey', 1), ('pcensored', 6), ('disabled', 2), ('changed', 6), ('buddy', 3), ('yeay', 3), ('picot', 1), ('atelier', 1), ('regulateur', 1), ('mens', 1), ('wrist', 1), ('analogue', 1), ('automatic', 1), ('reserve', 1), ('son', 2), ('boxworld', 1), ('instapic', 6), ('mimmo', 6), ('lug', 1), ('sboteesxws', 1), ('josh', 1), ('duggar', 2), ('televised', 1), ('foreground', 1), ('izdwurkuzx', 1), ('badly', 1), ('strip', 1), ('features', 13), ('surface', 4), ('solid', 3), ('competitors', 1), ('nobauerm', 1), ('hooked', 2), ('promise', 4), ('burned', 4), ('moby', 5), ('tengo', 1), ('cof', 2), ('pays', 3), ('lugging', 1), ('creation', 1), ('rcwcb', 1), ('smen', 1), ('protecteur', 1), ('cellulaire', 1), ('bwcb', 1), ('macpro', 1), ('organize', 1), ('logistics', 1), ('nicolemarie', 1), ('dvd', 3), ('duranduran', 2), ('australia', 2), ('grips', 1), ('avikalchhetri', 1), ('mujumdar', 1), ('aditya', 2), ('jayesh', 1), ('belive', 2), ('planning', 2), ('calls', 6), ('correlation', 1), ('village', 2), ('liverpool', 2), ('natural', 1), ('habitat', 1), ('ywy', 1), ('pjk', 1), ('aah', 1), ('totem', 2), ('blewwk', 1), ('tiq', 1), ('obvious', 1), ('mushkat', 1), ('figured', 1), ('articles', 1), ('rshackelford', 1), ('knocks', 1), ('fitbit', 1), ('park', 4), ('woo', 2), ('receive', 8), ('shove', 2), ('worried', 1), ('changing', 3), ('begin', 1), ('courtesy', 2), ('fara', 1), ('banged', 1), ('qlxxci', 1), ('cyf', 1), ('dress', 3), ('shops', 3), ('liked', 5), ('iphon', 1), ('pain', 4), ('kxxkmrw', 1), ('shine', 2), ('umfhy', 1), ('girlfriend', 5), ('salmon', 1), ('hammer', 1), ('shotgun', 1), ('paint', 2), ('pretentious', 2), ('tempted', 1), ('marketinguk', 1), ('thnx', 2), ('reconsider', 1), ('ulz', 1), ('rzxs', 1), ('dude', 3), ('reading', 5), ('thanh', 1), ('xuan', 1), ('quan', 1), ('capitan', 1), ('mistake', 2), ('min', 8), ('twesbpic', 3), ('ecedhqiin', 1), ('increase', 2), ('teasting', 1), ('cellphone', 7), ('goodnight', 2), ('appstore', 8), ('adult', 2), ('youfearspear', 1), ('proven', 1), ('arrogant', 1), ('unhelpful', 2), ('patronized', 1), ('surprising', 1), ('dailytech', 1), ('unimpressive', 1), ('ifa', 1), ('defiant', 1), ('innovation', 2), ('larry', 1), ('hwan', 1), ('gilmore', 3), ('netflix', 6), ('talkin', 1), ('applepic', 1), ('ohuwyy', 1), ('admit', 2), ('doubt', 3), ('reveals', 2), ('faculdade', 1), ('uninstalls', 1), ('synnnnnnched', 1), ('hurcules', 1), ('livelynow', 1), ('mystery', 4), ('grassroots', 2), ('kava', 2), ('cracks', 1), ('rkqcynesf', 1), ('illlala', 1), ('imovie', 3), ('edit', 1), ('assembly', 1), ('adding', 2), ('scale', 1), ('comedy', 1), ('uluqufaelm', 1), ('fim', 1), ('boat', 2), ('casizwsb', 1), ('deepeshalways', 1), ('ndtvgadgets', 1), ('challenge', 1), ('jury', 3), ('ans', 1), ('debating', 2), ('peasant', 1), ('tomm', 1), ('smh', 4), ('blame', 1), ('club', 3), ('lls', 1), ('bonding', 2), ('rakim', 1), ('sexychelly', 1), ('orangecafe', 1), ('rst', 1), ('jay', 3), ('karlie', 2), ('tho', 6), ('disappointed', 3), ('shirty', 1), ('fuckin', 3), ('decide', 2), ('rdenker', 2), ('davidgerhard', 4), ('major', 5), ('bulk', 1), ('geroi', 1), ('ejo', 1), ('shittiest', 1), ('geniuses', 1), ('asked', 3), ('backed', 2), ('breakers', 1), ('armageddon', 1), ('toppie', 1), ('slime', 2), ('school', 5), ('winning', 2), ('fri', 1), ('holiday', 3), ('pan', 2), ('rerouted', 1), ('failed', 7), ('recourse', 1), ('cops', 1), ('person', 9), ('pickup', 1), ('generator', 1), ('pfbjut', 1), ('restart', 3), ('oioz', 1), ('gog', 1), ('whiny', 1), ('quickly', 2), ('vibrating', 1), ('constantly', 5), ('cutting', 2), ('trivia', 1), ('dint', 1), ('demo', 1), ('issue', 7), ('crackdown', 1), ('euro', 1), ('kid', 9), ('gaza', 1), ('seaport', 1), ('resort', 1), ('rcbqlqyzhf', 1), ('beauty', 12), ('profile', 7), ('graphic', 2), ('macrumors', 1), ('described', 1), ('designed', 3), ('complains', 1), ('ugly', 5), ('annoyed', 2), ('yall', 1), ('affordable', 2), ('uwxqnq', 1), ('bosnia', 1), ('tribute', 1), ('david', 2), ('bowie', 1), ('architecture', 6), ('tag', 7), ('amazed', 1), ('married', 5), ('knight', 1), ('parody', 1), ('glue', 1), ('gel', 1), ('solder', 1), ('otherwise', 1), ('internals', 1), ('inaccessible', 1), ('ate', 6), ('hihi', 1), ('fresh', 7), ('edm', 1), ('dropping', 2), ('heating', 1), ('shutting', 3), ('turns', 5), ('xiaomi', 4), ('worry', 2), ('among', 3), ('millions', 4), ('bestsellers', 1), ('forgotten', 2), ('fiasco', 1), ('salam', 1), ('predecessor', 1), ('idiots', 2), ('utter', 1), ('bio', 5), ('apparel', 2), ('blackfriday', 1), ('quit', 3), ('turkey', 2), ('happens', 4), ('seems', 5), ('feedback', 1), ('grrr', 2), ('hoped', 1), ('distracted', 1), ('bugging', 2), ('stunt', 1), ('spendy', 1), ('london', 4), ('anji', 1), ('empiretheatres', 1), ('ease', 2), ('purchasing', 1), ('tickets', 1), ('learned', 1), ('arrive', 4), ('besties', 1), ('frahadhianp', 1), ('didnt', 6), ('ahahahaha', 1), ('gray', 3), ('slippers', 1), ('iphoneonly', 1), ('brandon', 1), ('caples', 1), ('freezes', 3), ('clears', 1), ('grateful', 2), ('ssw', 1), ('speak', 5), ('ynkcvwvbaz', 1), ('watson', 1), ('grab', 5), ('carving', 2), ('tools', 4), ('tiny', 4), ('tots', 1), ('cider', 1), ('shuts', 1), ('restarts', 1), ('per', 3), ('hurts', 1), ('baking', 1), ('harlem', 2), ('training', 1), ('fwagegfp', 1), ('grapes', 1), ('bitchesssss', 1), ('rise', 5), ('grind', 1), ('rto', 1), ('lnvh', 1), ('police', 2), ('risk', 1), ('hamilton', 1), ('alexx', 1), ('lucero', 1), ('dtaxttip', 1), ('pee', 2), ('vwzfwxw', 1), ('makin', 1), ('causin', 1), ('hectic', 1), ('todo', 1), ('rest', 7), ('todoistpic', 1), ('jvmv', 1), ('compres', 1), ('fetes', 1), ('scary', 1), ('ladies', 1), ('insert', 1), ('versus', 1), ('bait', 1), ('wicked', 1), ('broadway', 1), ('gershwin', 1), ('shade', 1), ('ink', 2), ('eats', 2), ('drinks', 1), ('vertu', 1), ('signature', 1), ('toque', 1), ('mpx', 1), ('learning', 3), ('indeed', 2), ('learnt', 1), ('valuable', 1), ('lesson', 2), ('conversations', 2), ('tshirt', 1), ('none', 7), ('lalmerve', 1), ('meeting', 1), ('dating', 5), ('caused', 1), ('overrated', 3), ('infant', 1), ('asleep', 2), ('folds', 1), ('cushion', 1), ('mimics', 1), ('breathing', 1), ('patterns', 2), ('awwwww', 1), ('mirmee', 1), ('cutest', 2), ('shits', 1), ('corrupt', 1), ('targeting', 2), ('dpjshrsns', 1), ('meadowhall', 1), ('sorted', 5), ('selina', 1), ('gfkco', 1), ('mqm', 1), ('blake', 1), ('mortimer', 1), ('grims', 1), ('gtfcchink', 1), ('chilling', 2), ('jgqb', 1), ('pigeon', 1), ('eiwra', 1), ('easily', 2), ('unreal', 2), ('hit', 3), ('bobevansfarms', 1), ('bob', 2), ('airplane', 1), ('charges', 3), ('moments', 4), ('transformed', 1), ('treasured', 1), ('memories', 2), ('abay', 1), ('imaginary', 1), ('mznmxvpc', 1), ('calling', 3), ('unemployment', 1), ('hold', 8), ('rate', 3), ('customisation', 1), ('fawxhtubev', 1), ('create', 2), ('burgundy', 1), ('mfortphoto', 1), ('shiny', 4), ('plant', 1), ('ghv', 1), ('sorrento', 1), ('compared', 2), ('alhamdulillah', 1), ('theappleinc', 1), ('cooks', 1), ('apology', 2), ('general', 1), ('gay', 4), ('goals', 4), ('mmyprxx', 1), ('hints', 2), ('okie', 1), ('emojis', 5), ('strolling', 1), ('sweetcase', 1), ('effort', 1), ('firmware', 2), ('jason', 1), ('van', 2), ('wyk', 1), ('advised', 1), ('joined', 2), ('spring', 3), ('izzi', 1), ('orbit', 1), ('delivers', 1), ('notch', 1), ('bahahahahahahah', 1), ('gunna', 2), ('happen', 9), ('brebre', 1), ('ibesmilin', 1), ('wine', 3), ('amaliexmaria', 1), ('gbeusyed', 1), ('penny', 1), ('desk', 3), ('ieeeey', 1), ('byeakbc', 1), ('treehugger', 1), ('docks', 1), ('vintage', 4), ('jaymiheimbuch', 1), ('encouraging', 1), ('marital', 1), ('bliss', 1), ('beluljkh', 1), ('kidding', 5), ('seven', 1), ('percent', 3), ('marketing', 1), ('suckers', 1), ('phillipdorset', 1), ('deeply', 2), ('attached', 1), ('delimma', 1), ('purple', 2), ('datchet', 1), ('trouble', 4), ('ages', 3), ('heading', 1), ('gfvrmtx', 1), ('application', 2), ('account', 14), ('deletes', 5), ('filling', 1), ('train', 3), ('abxq', 1), ('sending', 4), ('acquisto', 1), ('del', 1), ('gril', 1), ('jubilation', 1), ('daisies', 1), ('anchorage', 1), ('alaska', 1), ('followback', 5), ('grenade', 1), ('required', 2), ('personal', 6), ('delivering', 1), ('thursday', 2), ('pivotal', 1), ('pivots', 1), ('proprietary', 2), ('eco', 1), ('target', 1), ('redeem', 2), ('gyrx', 1), ('ulauv', 1), ('rpn', 1), ('shareholders', 1), ('minorities', 1), ('urged', 1), ('acct', 1), ('created', 5), ('eli', 1), ('pirates', 3), ('outfit', 3), ('evidently', 1), ('teaching', 1), ('berniesanders', 1), ('supporters', 1), ('socialism', 1), ('forced', 2), ('asks', 2), ('scrap', 1), ('formatted', 1), ('unless', 2), ('hevwavqbzu', 1), ('act', 2), ('whether', 3), ('afford', 1), ('gzyqmmul', 1), ('sound', 8), ('editing', 2), ('brooklyn', 1), ('xoakt', 1), ('breakup', 1), ('erasing', 2), ('dinosaur', 1), ('cinema', 2), ('ers', 1), ('puso', 1), ('blues', 4), ('royalty', 1), ('jgbbrtvoqa', 1), ('culture', 3), ('universal', 4), ('hldplmhqmc', 1), ('form', 2), ('ontop', 1), ('onora', 1), ('nytmetro', 1), ('nypostopinion', 1), ('vfzl', 1), ('crolx', 1), ('blow', 5), ('dugan', 1), ('ruled', 1), ('origin', 1), ('jbckxc', 1), ('auh', 1), ('znowxgyu', 1), ('happyowlstudio', 1), ('cashbox', 1), ('modern', 2), ('waited', 2), ('wks', 1), ('hav', 2), ('luck', 4), ('usually', 1), ('judge', 1), ('koh', 1), ('denies', 1), ('request', 2), ('ban', 1), ('orlando', 1), ('bloom', 1), ('hung', 2), ('audio', 4), ('lighting', 3), ('pageant', 2), ('samsungusa', 2), ('facial', 3), ('recognition', 2), ('clutch', 1), ('ups', 3), ('dmv', 1), ('schedule', 1), ('downtown', 2), ('discover', 3), ('charlieputh', 3), ('voicenotes', 3), ('bincqtfd', 1), ('stupidest', 1), ('invention', 1), ('jdwenzel', 1), ('lejamez', 1), ('chose', 3), ('temptation', 1), ('knowledge', 2), ('roguestorm', 1), ('kensington', 1), ('palace', 1), ('gfkn', 1), ('yec', 1), ('piss', 1), ('tweethearts', 1), ('treat', 4), ('pid', 1), ('som', 1), ('thurs', 1), ('list', 2), ('lkxdmzwjjz', 1), ('tinder', 1), ('threesomes', 1), ('alert', 3), ('romantic', 3), ('passbook', 1), ('previews', 1), ('kush', 1), ('packs', 1), ('allison', 1), ('mariah', 1), ('kiss', 5), ('permission', 2), ('fourth', 2), ('boyle', 1), ('awe', 1), ('bestest', 1), ('exciting', 1), ('wigmore', 1), ('hall', 1), ('wheel', 1), ('happening', 4), ('kingdomhearts', 1), ('squareenixusa', 1), ('disneygames', 1), ('disney', 1), ('squareenix', 1), ('tearspic', 1), ('xmojjufjoy', 1), ('hight', 1), ('sierra', 1), ('nick', 2), ('jimmy', 1), ('finish', 2), ('pamela', 3), ('neighbours', 3), ('cturn', 1), ('hlf', 1), ('terms', 1), ('breaking', 4), ('arse', 1), ('bed', 9), ('ociewadley', 1), ('yestrask', 1), ('dumb', 4), ('niggas', 1), ('dying', 3), ('imadnaffa', 1), ('readying', 1), ('goog', 1), ('proud', 7), ('siriouslysusan', 1), ('rant', 3), ('synch', 1), ('outlook', 1), ('entourage', 1), ('devil', 1), ('segregation', 1), ('obviously', 2), ('regret', 3), ('digging', 2), ('non', 4), ('mqx', 1), ('managing', 1), ('nokiaus', 1), ('attpremier', 1), ('gigs', 1), ('dictators', 1), ('gaddafi', 1), ('stevejobs', 2), ('greatcall', 1), ('jitterbug', 1), ('senior', 1), ('daily', 5), ('hafta', 1), ('ggnuvxbv', 1), ('omfg', 4), ('takin', 1), ('malfunctions', 1), ('rocks', 4), ('credit', 5), ('outage', 1), ('campaign', 4), ('boils', 1), ('disservice', 1), ('changes', 8), ('warned', 1), ('hack', 4), ('hboshcupcakes', 2), ('hadron', 1), ('collider', 1), ('glitter', 2), ('aztec', 2), ('appfabulous', 1), ('zambiaman', 1), ('plybxyvy', 1), ('relaxing', 1), ('fdegizceti', 1), ('hoax', 1), ('fan', 9), ('tjkmoksd', 1), ('properly', 3), ('gzv', 1), ('hkgf', 1), ('michaelalynne', 1), ('autofix', 1), ('crackers', 1), ('nation', 1), ('infamous', 1), ('blendpic', 1), ('blend', 2), ('archive', 2), ('texting', 3), ('tapping', 1), ('sonytv', 1), ('completing', 1), ('terrific', 1), ('hahahaha', 5), ('bbcnews', 1), ('record', 4), ('borrow', 1), ('shining', 1), ('amsterdam', 1), ('storewide', 1), ('queens', 1), ('inside', 7), ('leadingthewayau', 1), ('jst', 2), ('listened', 2), ('nmwzqlphtu', 1), ('dagger', 1), ('wet', 1), ('involves', 1), ('risen', 1), ('fire', 4), ('april', 7), ('paskha', 1), ('sloyom', 1), ('jigthebeak', 1), ('perphone', 1), ('aimrggouij', 1), ('yrs', 3), ('honge', 1), ('juda', 1), ('hum', 1), ('cristiana', 1), ('carpe', 1), ('arrr', 1), ('yipee', 1), ('babies', 3), ('dvwpaktygv', 1), ('xglaenttrk', 1), ('renamed', 1), ('itough', 1), ('split', 2), ('knuckle', 1), ('punching', 1), ('flip', 3), ('pete', 1), ('holding', 5), ('fed', 1), ('seat', 1), ('predict', 1), ('yan', 1), ('expect', 4), ('hhjttnzxrp', 1), ('nephews', 1), ('locing', 1), ('wip', 1), ('delivered', 5), ('leanamarie', 1), ('posing', 2), ('neat', 1), ('rings', 1), ('kerry', 1), ('lasts', 1), ('halfway', 1), ('human', 3), ('story', 4), ('blender', 1), ('sushi', 1), ('sculpture', 1), ('xkgxe', 1), ('level', 6), ('reached', 3), ('epic', 1), ('proportions', 1), ('burns', 1), ('sues', 1), ('remind', 1), ('begging', 1), ('timcookappleceo', 1), ('jgun', 1), ('enhance', 2), ('khalsir', 1), ('fork', 2), ('ehhmm', 1), ('boyfriend', 7), ('scored', 2), ('loose', 4), ('ape', 1), ('fckin', 1), ('ughh', 3), ('tha', 5), ('agony', 1), ('quootes', 1), ('safe', 6), ('hampton', 1), ('seek', 1), ('fuzzy', 1), ('effect', 3), ('basketball', 4), ('appaltas', 2), ('nmjnftl', 1), ('minecraft', 1), ('cupcakes', 1), ('aynfj', 1), ('delet', 1), ('concert', 2), ('cave', 1), ('xsunstreakx', 1), ('macdraw', 1), ('claris', 1), ('macintosh', 1), ('manuals', 1), ('amazon', 6), ('academic', 1), ('staff', 3), ('applestores', 1), ('transferred', 2), ('flawless', 1), ('dsxl', 1), ('nintendouk', 1), ('selly', 1), ('geek', 3), ('infested', 1), ('wolfgangwolfe', 1), ('goddamned', 1), ('barbiee', 1), ('chorizo', 1), ('sausage', 2), ('fabulous', 1), ('treasure', 1), ('lolz', 2), ('atlantic', 1), ('refugee', 1), ('wooohooo', 1), ('bitches', 2), ('xlhslb', 1), ('ccktks', 1), ('idol', 1), ('frikkin', 1), ('rulemakers', 1), ('dismiss', 1), ('mcilroy', 1), ('harley', 1), ('tracks', 6), ('quepublishing', 1), ('delicious', 4), ('ugjciqhhs', 1), ('skripal', 1), ('melancholy', 1), ('british', 1), ('ywrma', 1), ('knew', 3), ('jlh', 1), ('agyea', 1), ('instal', 1), ('looooove', 2), ('urban', 1), ('creativebanana', 1), ('fzkgx', 1), ('fight', 2), ('vgh', 1), ('yhl', 1), ('wishing', 3), ('cartridge', 1), ('greatest', 1), ('unxurl', 1), ('wtoenfd', 1), ('control', 3), ('galvanic', 1), ('vic', 1), ('sic', 1), ('tic', 1), ('ich', 2), ('mick', 1), ('hick', 1), ('fixing', 3), ('washing', 2), ('fehbcninvp', 1), ('reasons', 5), ('renew', 1), ('informations', 1), ('booked', 1), ('vacation', 1), ('copped', 1), ('backyard', 2), ('troll', 1), ('qvtdm', 1), ('agustus', 1), ('smartwatch', 2), ('slot', 1), ('meeee', 2), ('ysfvny', 1), ('quad', 1), ('adequately', 1), ('hatred', 1), ('bigamusic', 1), ('skys', 1), ('nothin', 1), ('skies', 1), ('vhpelqb', 1), ('childhood', 1), ('chinadollxo', 1), ('certain', 2), ('yuufr', 1), ('hxl', 1), ('odjjyq', 1), ('employees', 2), ('serve', 2), ('docking', 1), ('exodus', 1), ('atm', 1), ('truely', 1), ('dominant', 1), ('tells', 4), ('omfgitswhitt', 1), ('vgffarde', 1), ('globally', 1), ('average', 1), ('joe', 4), ('yaaa', 1), ('appliance', 1), ('hrdgxjpbw', 1), ('koba', 1), ('senate', 1), ('passing', 1), ('gun', 2), ('vihbaapiq', 1), ('lcizoq', 1), ('fwd', 1), ('uqftylcb', 1), ('theellenshow', 2), ('dodson', 1), ('strings', 1), ('empowered', 1), ('dypds', 1), ('jujv', 1), ('kibzw', 1), ('superman', 1), ('individual', 1), ('accidental', 1), ('stamps', 1), ('xsbotxf', 1), ('lookking', 1), ('soft', 4), ('grip', 2), ('powerplus', 2), ('snugly', 2), ('andinobrand', 2), ('magna', 1), ('carta', 1), ('holy', 3), ('grail', 1), ('ravpower', 1), ('filehub', 1), ('limited', 1), ('enviitreasure', 1), ('agreeing', 1), ('duqkmcdoph', 1), ('sighhh', 1), ('millionth', 1), ('expert', 1), ('temple', 1), ('techy', 1), ('dee', 2), ('patents', 3), ('include', 1), ('rounded', 1), ('pinch', 2), ('zoom', 5), ('touchscreen', 3), ('bare', 2), ('minimum', 2), ('zvgbxciqwk', 1), ('rge', 1), ('zealand', 1), ('lands', 2), ('safely', 1), ('shae', 1), ('transported', 1), ('cxe', 1), ('eqp', 1), ('config', 2), ('miserably', 1), ('figuring', 1), ('smith', 1), ('selling', 3), ('materials', 2), ('according', 1), ('analyst', 1), ('genius', 9), ('incompetent', 1), ('mentally', 1), ('insane', 3), ('imagine', 3), ('firefox', 1), ('hits', 2), ('subscribe', 1), ('leigh', 1), ('mnightshyamalan', 1), ('scene', 4), ('showreel', 1), ('extract', 1), ('naimapohler', 1), ('ambreroch', 1), ('nicolashutteau', 1), ('nationalities', 1), ('blowout', 1), ('blu', 1), ('coast', 1), ('sssssttttt', 1), ('stilte', 1), ('wandeling', 1), ('groet', 1), ('cafe', 1), ('york', 4), ('lucky', 5), ('throat', 1), ('jarstalking', 1), ('lisa', 1), ('mrs', 4), ('presentation', 2), ('creepy', 2), ('ferociously', 1), ('deep', 3), ('burning', 1), ('exploring', 1), ('currently', 7), ('shuffle', 4), ('hating', 4), ('breath', 2), ('geesh', 1), ('martinju', 1), ('canteras', 1), ('yesi', 1), ('healer', 1), ('quest', 2), ('yaaammmm', 1), ('fcbzlaj', 1), ('console', 2), ('camper', 2), ('lowered', 1), ('cds', 2), ('burn', 2), ('onto', 6), ('effing', 5), ('acquisition', 1), ('holaaaa', 1), ('vlaany', 1), ('leather', 4), ('todat', 1), ('hmmm', 2), ('sucking', 3), ('geohot', 1), ('debugging', 1), ('ethernet', 1), ('thinking', 5), ('wasnt', 2), ('mandaboo', 1), ('straightened', 1), ('optics', 1), ('cnauw', 1), ('iqf', 1), ('suite', 1), ('vxdsrxksej', 1), ('coldplay', 1), ('viva', 1), ('vida', 1), ('jacket', 1), ('auction', 1), ('beacuse', 1), ('olhr', 1), ('mjjnomhpy', 1), ('beby', 1), ('muach', 1), ('yxakkych', 1), ('newlyweds', 1), ('clauocho', 1), ('tanklankenau', 1), ('thirdparty', 1), ('caught', 3), ('whimsical', 1), ('hxv', 1), ('gfnu', 1), ('vhb', 1), ('jsmnchvz', 1), ('dwouauo', 1), ('clouds', 2), ('roller', 1), ('gmkg', 1), ('beam', 1), ('dreaming', 1), ('correctly', 2), ('rustic', 1), ('iaelrvqnxg', 1), ('directly', 1), ('whyyyy', 1), ('accountpic', 1), ('nyb', 1), ('eyqe', 1), ('econbizfin', 1), ('rebel', 1), ('constant', 1), ('launches', 3), ('upgrades', 1), ('pepper', 1), ('solved', 4), ('input', 1), ('andyger', 1), ('roy', 1), ('everyt', 1), ('seb', 1), ('cell', 4), ('kimkardashian', 3), ('crisis', 1), ('conspiracy', 2), ('bootlogos', 1), ('oldpic', 1), ('dcxpgic', 1), ('evvhmdtj', 1), ('animated', 2), ('jessa', 1), ('pens', 1), ('trip', 5), ('ptjd', 1), ('holliebizkit', 1), ('taylor', 2), ('swift', 2), ('waste', 5), ('droids', 1), ('thankyou', 3), ('templatic', 1), ('physical', 1), ('seal', 1), ('ukpmqbuyux', 1), ('lookalikes', 1), ('executives', 1), ('suggest', 1), ('scans', 2), ('slightly', 1), ('evaded', 1), ('tax', 3), ('horrendous', 1), ('boring', 1), ('unimaginative', 1), ('tso', 1), ('period', 1), ('unplug', 1), ('significant', 2), ('nqbv', 1), ('tecnologies', 1), ('ludysakura', 1), ('cantinho', 1), ('spaz', 1), ('short', 2), ('sneeze', 1), ('loathed', 1), ('loathe', 1), ('aww', 3), ('savvysossa', 1), ('uploaded', 1), ('scape', 2), ('holla', 1), ('eva', 1), ('erace', 1), ('dat', 1), ('loved', 4), ('miz', 1), ('tdggpbr', 1), ('feb', 3), ('cxifijj', 1), ('dex', 1), ('pad', 3), ('wearing', 2), ('hugo', 2), ('optikmelawai', 1), ('busted', 2), ('mass', 1), ('producing', 1), ('samsungnewsroom', 1), ('perfekt', 1), ('batterie', 1), ('hxp', 1), ('ierjm', 1), ('pjeg', 1), ('ohl', 1), ('samn', 1), ('bbc', 4), ('clash', 1), ('looses', 1), ('messaged', 3), ('reply', 1), ('players', 1), ('mouaaaaah', 1), ('muppets', 1), ('beautifffull', 1), ('tunes', 3), ('bcbradio', 1), ('selfies', 2), ('skewed', 1), ('loner', 1), ('ayaq', 1), ('heheh', 1), ('player', 5), ('angecox', 1), ('album', 5), ('ale', 1), ('ebciu', 1), ('lisakatharina', 1), ('happypic', 1), ('dyzfchrizv', 1), ('momma', 3), ('halloween', 1), ('mbg', 1), ('brilliant', 4), ('ego', 1), ('success', 4), ('nxtrvqdwpo', 1), ('asthma', 1), ('allergies', 1), ('banking', 1), ('ohmann', 1), ('hab', 1), ('noticed', 1), ('watchface', 1), ('fdsdc', 1), ('zfev', 1), ('allowing', 1), ('sin', 1), ('falta', 1), ('routine', 1), ('thru', 2), ('xpfay', 1), ('fiim', 1), ('ghost', 1), ('snapchatprobbz', 2), ('perk', 1), ('tvs', 1), ('showing', 5), ('myjobpic', 1), ('fxvihd', 1), ('glare', 1), ('whenever', 4), ('prom', 1), ('grad', 1), ('finna', 2), ('mouthful', 2), ('hrf', 1), ('studying', 2), ('tourism', 1), ('antonliv', 1), ('samsungexynos', 1), ('exynos', 1), ('cont', 3), ('amani', 2), ('peace', 4), ('ofmylife', 2), ('vkcataugw', 1), ('plague', 1), ('trolls', 2), ('lawsuits', 2), ('orange', 2), ('fxsyb', 1), ('cosmosquito', 1), ('karebear', 1), ('diy', 3), ('cord', 3), ('airente', 1), ('gunslugs', 1), ('boo', 3), ('ragin', 1), ('insta', 2), ('luzurtrdxu', 1), ('pgrinteractive', 1), ('playblackjack', 1), ('mania', 1), ('retweetgamers', 1), ('bathroom', 4), ('squid', 1), ('octo', 1), ('wallofwallstreet', 1), ('crowdfire', 3), ('deutschland', 1), ('zbwr', 1), ('mihihi', 1), ('teddy', 2), ('bjornen', 1), ('abfadofficial', 1), ('fuckers', 5), ('dhrosen', 1), ('overwhelming', 2), ('indirectly', 1), ('disses', 1), ('brainwash', 1), ('petunia', 1), ('hong', 1), ('kong', 1), ('twats', 1), ('outside', 1), ('mack', 1), ('intruder', 1), ('popurry', 1), ('boom', 1), ('cncqmqh', 1), ('tales', 1), ('maj', 1), ('eyal', 1), ('gelato', 1), ('reaction', 1), ('cavs', 1), ('title', 3), ('torture', 1), ('vista', 1), ('purposely', 1), ('cuts', 1), ('saw', 5), ('field', 3), ('kecxl', 1), ('crystalindaxo', 1), ('harmon', 1), ('restarting', 1), ('mix', 1), ('wzwrktvleg', 1), ('fukami', 1), ('mavericks', 1), ('cloud', 4), ('opt', 2), ('shiniest', 1), ('reddest', 1), ('peaked', 1), ('screwing', 2), ('crampy', 1), ('print', 3), ('xxqygqybdp', 1), ('mpiccinato', 1), ('manager', 1), ('aswell', 1), ('sort', 4), ('inconvenience', 1), ('ndb', 1), ('ysuhc', 1), ('realcasepeace', 1), ('hahkfkowl', 1), ('thatsshem', 1), ('hacked', 1), ('mere', 1), ('scan', 1), ('scam', 2), ('lil', 4), ('sissy', 1), ('aniccas', 1), ('sister', 4), ('stylish', 1), ('mechanism', 1), ('ujq', 1), ('rlffjq', 1), ('heck', 1), ('majestic', 1), ('differently', 1), ('amp', 1), ('bull', 1), ('fist', 2), ('finaly', 1), ('starbucks', 5), ('charcharbrench', 1), ('massive', 2), ('lair', 1), ('welp', 1), ('introduce', 2), ('thesamsungside', 1), ('prize', 2), ('mygalaxys', 1), ('gcht', 1), ('photooftheday', 1), ('natgeotravel', 2), ('travel', 3), ('nepal', 1), ('thwonder', 1), ('bsgcvuf', 1), ('skip', 1), ('jesus', 2), ('humans', 1), ('inspired', 1), ('intelligence', 1), ('lulipeacepic', 1), ('dhyuad', 1), ('walk', 2), ('timed', 1), ('grime', 1), ('teknoaxe', 1), ('tdrewk', 1), ('enthusiast', 1), ('preferred', 1), ('zgjkv', 1), ('insurance', 1), ('helped', 2), ('fear', 4), ('blank', 2), ('backups', 2), ('lhnexn', 1), ('robert', 2), ('deano', 1), ('tgranot', 1), ('subtle', 1), ('becomes', 4), ('towarxwhuc', 1), ('sexier', 1), ('band', 1), ('der', 2), ('singer', 1), ('mhj', 1), ('jmea', 1), ('eqlecrrhoz', 1), ('sexta', 1), ('poser', 2), ('tyleredits', 1), ('sir', 4), ('dare', 1), ('pie', 7), ('preference', 1), ('draank', 1), ('berries', 1), ('whereas', 1), ('segment', 1), ('knw', 1), ('itouch', 2), ('bodoh', 1), ('sia', 1), ('qekujvp', 1), ('flexible', 1), ('span', 2), ('pbs', 1), ('marker', 1), ('awh', 1), ('recovered', 1), ('jtzx', 1), ('qcy', 1), ('displeased', 1), ('eased', 1), ('teased', 1), ('seized', 1), ('breezed', 1), ('wheezed', 1), ('tweezed', 1), ('mentor', 1), ('cookies', 1), ('dope', 1), ('wiping', 1), ('bag', 6), ('hihihi', 1), ('rati', 1), ('trishala', 1), ('turtle', 2), ('neck', 1), ('delaaaaaay', 1), ('ecxited', 1), ('introducing', 1), ('popsockets', 1), ('rcylvx', 1), ('playstationeu', 1), ('interface', 2), ('creators', 1), ('tap', 2), ('kli', 1), ('vxicp', 1), ('carlos', 1), ('brendan', 1), ('brady', 1), ('advert', 1), ('related', 2), ('seyueguo', 1), ('maknae', 1), ('geforce', 1), ('gtx', 1), ('leak', 1), ('paobokv', 1), ('scottiwata', 3), ('smartphones', 3), ('torn', 1), ('pesos', 1), ('againpic', 1), ('yjawvltcc', 1), ('relate', 2), ('miami', 1), ('dade', 1), ('claus', 1), ('utrwmjc', 1), ('ftie', 1), ('sda', 1), ('synced', 2), ('purpose', 4), ('bako', 1), ('arrivals', 1), ('crytaecds', 1), ('mvd', 1), ('pwarpz', 1), ('peanut', 1), ('fades', 1), ('finalcutpro', 1), ('stream', 3), ('superhd', 1), ('appletv', 1), ('trailer', 2), ('jpeg', 1), ('mrn', 1), ('yeapp', 1), ('skills', 1), ('bejeweled', 1), ('odosytgabd', 1), ('colingreen', 1), ('studios', 1), ('sharing', 2), ('huntington', 1), ('dog', 3), ('orafewmonths', 1), ('remem', 1), ('lenz', 1), ('ryanromback', 1), ('lmfaooooo', 1), ('confirmed', 1), ('username', 1), ('splinkio', 1), ('prjx', 1), ('fwkr', 1), ('syrussingh', 1), ('errands', 1), ('golden', 1), ('state', 2), ('warriors', 2), ('cheerleading', 1), ('decisions', 5), ('twwitter', 1), ('budget', 3), ('dads', 1), ('sprint', 3), ('motor', 1), ('migration', 1), ('seamless', 1), ('pumpkin', 3), ('spice', 1), ('cup', 2), ('nailpolish', 1), ('pywkyow', 1), ('invested', 2), ('prime', 5), ('arriving', 2), ('visual', 1), ('feast', 1), ('hbgurpw', 1), ('frustration', 1), ('dealing', 2), ('novice', 1), ('googler', 1), ('hannibal', 1), ('buress', 1), ('joins', 3), ('spider', 3), ('newphoneselfie', 1), ('luca', 1), ('laying', 2), ('api', 2), ('publicly', 1), ('documented', 1), ('rejecting', 1), ('fest', 1), ('everlunastore', 1), ('etsy', 2), ('fav', 1), ('asjq', 1), ('aud', 1), ('aus', 1), ('usd', 2), ('america', 5), ('verymuch', 1), ('fathers', 1), ('jfgw', 1), ('embarrcensored', 1), ('tween', 1), ('asshole', 2), ('restores', 1), ('hide', 2), ('crapples', 1), ('whipping', 1), ('tool', 1), ('lawsuit', 1), ('joke', 3), ('fingered', 1), ('statue', 1), ('arab', 1), ('emirates', 1), ('uae', 1), ('flag', 5), ('qoagdkmpp', 1), ('blackberrys', 1), ('redundant', 1), ('across', 2), ('television', 1), ('sockets', 1), ('special', 11), ('union', 1), ('wygvgqkw', 1), ('ueljfih', 1), ('gotcha', 1), ('happyjoyjoy', 1), ('cheese', 2), ('fecking', 1), ('irritating', 2), ('conversation', 3), ('painting', 1), ('impossible', 5), ('thrue', 1), ('electrically', 1), ('deven', 1), ('emagi', 1), ('quidco', 1), ('rub', 1), ('inose', 1), ('icashback', 1), ('icensored', 1), ('iannoying', 1), ('mary', 1), ('iamkatieq', 1), ('sonypictures', 2), ('papa', 4), ('surprised', 3), ('wtxzbizyee', 1), ('localisation', 1), ('homepage', 3), ('eilidhpat', 1), ('stoked', 1), ('shes', 1), ('beaut', 1), ('luxury', 7), ('equivalent', 1), ('ridiculously', 1), ('zone', 2), ('mission', 3), ('accomplished', 1), ('bridge', 2), ('odjwji', 1), ('dish', 2), ('aka', 2), ('keivwgdxyv', 1), ('swirls', 1), ('shattered', 2), ('saved', 2), ('sleeping', 5), ('hunff', 1), ('tips', 4), ('negotiator', 1), ('ativ', 1), ('neo', 2), ('tattoo', 2), ('senza', 1), ('gracelessly', 1), ('dwnld', 1), ('earn', 1), ('pts', 1), ('mlxqeqfyo', 1), ('sink', 1), ('thegoodwife', 1), ('cbs', 1), ('greysabc', 1), ('cockhead', 1), ('enormous', 1), ('lrxhex', 1), ('portugal', 1), ('huawei', 2), ('ascend', 1), ('momentos', 1), ('felices', 1), ('humble', 1), ('indiadewitxpic', 1), ('pciwzs', 1), ('pen', 1), ('sorts', 1), ('traditionally', 1), ('seing', 1), ('diamondtouch', 1), ('mitsubishi', 1), ('wtofg', 1), ('strawberry', 1), ('propper', 1), ('fancy', 2), ('centre', 2), ('queuing', 1), ('dollar', 2), ('hardest', 1), ('jensen', 1), ('awhile', 1), ('fruit', 7), ('tht', 3), ('watches', 1), ('fashion', 1), ('afemnqqs', 1), ('wfewc', 1), ('natureandads', 1), ('vzfok', 1), ('tip', 5), ('candle', 1), ('hesterstfair', 1), ('looove', 2), ('bigbang', 2), ('sole', 1), ('rating', 2), ('rainsmell', 1), ('khadija', 1), ('gouttay', 1), ('sparkling', 1), ('vlu', 1), ('wcmaxk', 1), ('vid', 1), ('jimmycarr', 1), ('xxxxxxxx', 1), ('lasted', 1), ('pixel', 1), ('nlyjkjzgb', 1), ('wallet', 3), ('taita', 1), ('alive', 5), ('srore', 1), ('fatality', 1), ('jenny', 1), ('swede', 1), ('sweeet', 1), ('desire', 1), ('sweden', 1), ('assume', 1), ('lavr', 1), ('billion', 1), ('prior', 1), ('partying', 1), ('justdrihhh', 1), ('detroyed', 1), ('hehehehe', 1), ('language', 2), ('psychic', 1), ('headed', 1), ('manszelmerlow', 1), ('uktqzrl', 1), ('dabball', 2), ('alsparkles', 1), ('explain', 3), ('agencies', 1), ('machines', 2), ('insatiable', 1), ('hotties', 1), ('asses', 1), ('stud', 1), ('threesome', 1), ('orpheus', 1), ('eurydice', 1), ('fpjdifdgij', 1), ('everybody', 5), ('newyearforeverybody', 1), ('hilton', 1), ('cartagena', 1), ('topcell', 3), ('rbioh', 1), ('ehyg', 1), ('mmsohatcn', 1), ('fml', 5), ('milestone', 1), ('bugs', 2), ('outta', 4), ('liberal', 1), ('gaasperpark', 1), ('alexcornellier', 1), ('monitoring', 2), ('cardigan', 1), ('karloh', 1), ('boxes', 2), ('lines', 1), ('net', 2), ('sublimation', 2), ('vest', 1), ('lolololololollllll', 1), ('simultaneously', 1), ('refers', 1), ('zdrxznomgj', 1), ('como', 1), ('clear', 3), ('para', 1), ('xtldsjwpz', 1), ('towards', 3), ('strain', 1), ('friendship', 1), ('elliotronen', 1), ('cookpic', 1), ('nkdnh', 1), ('tea', 4), ('megansum', 1), ('uhykm', 1), ('coupon', 1), ('cross', 3), ('nsb', 1), ('packaging', 1), ('janeenycole', 1), ('louis', 2), ('vuitton', 1), ('evil', 2), ('linux', 1), ('hiring', 1), ('linus', 1), ('torvalds', 1), ('furr', 1), ('screens', 6), ('waiter', 1), ('soup', 2), ('bars', 1), ('symbol', 2), ('timeline', 1), ('graft', 1), ('vgvulbrz', 1), ('meeeee', 1), ('copying', 1), ('allowed', 1), ('cinnamon', 4), ('banana', 2), ('smoothie', 2), ('bowl', 4), ('lzlwt', 1), ('xlnp', 1), ('daniels', 2), ('intelenet', 1), ('floor', 4), ('pantry', 1), ('trials', 1), ('crapbook', 1), ('spouse', 2), ('sezup', 1), ('pdbah', 1), ('bpwj', 1), ('wre', 1), ('smoking', 2), ('designing', 1), ('simplicity', 1), ('justify', 1), ('contortions', 1), ('carter', 1), ('babe', 5), ('larger', 2), ('enkil', 1), ('andy', 1), ('demanding', 1), ('redmi', 3), ('become', 4), ('accomplish', 2), ('facts', 1), ('awaiting', 1), ('stitches', 1), ('bike', 3), ('subscribers', 1), ('xkivar', 1), ('paula', 2), ('cheered', 2), ('knocked', 1), ('ooohhhh', 1), ('happyness', 1), ('pka', 1), ('ldadhq', 1), ('virus', 2), ('supersu', 1), ('shortcuts', 1), ('oohh', 1), ('combo', 2), ('hourse', 1), ('restarted', 1), ('honored', 1), ('stockpile', 1), ('sirocco', 2), ('smog', 1), ('setup', 6), ('cqcd', 1), ('pumxz', 1), ('child', 3), ('opened', 1), ('pls', 2), ('stickers', 2), ('zwckahsl', 1), ('loverly', 1), ('gpw', 1), ('nfuzwh', 1), ('bounty', 1), ('hunter', 1), ('quarter', 1), ('genevievermrz', 1), ('smileykidd', 1), ('nero', 1), ('task', 1), ('inanimate', 1), ('object', 1), ('paper', 2), ('hoo', 2), ('wilmer', 1), ('stands', 1), ('fantastic', 6), ('corrector', 1), ('corrected', 2), ('bent', 2), ('dognngmpwv', 1), ('milad', 1), ('khosseini', 1), ('unsplash', 1), ('noy', 1), ('speculating', 1), ('twirling', 1), ('happily', 2), ('yfsiwcv', 1), ('immediately', 1), ('installs', 1), ('prices', 1), ('rumored', 1), ('assuming', 1), ('adore', 1), ('chern', 1), ('chloe', 3), ('iphoneography', 1), ('movies', 3), ('south', 1), ('africa', 1), ('tqzy', 1), ('rtmy', 1), ('mctrendsphoto', 1), ('loveable', 1), ('swfm', 1), ('qhrxrvwtbv', 1), ('wild', 1), ('bedtime', 1), ('mmh', 1), ('mackenzie', 1), ('apw', 1), ('annieb', 1), ('beckyheth', 1), ('however', 1), ('reckon', 1), ('infuriating', 1), ('single', 5), ('otw', 1), ('fqo', 1), ('wxe', 1), ('minomonsters', 1), ('arghhhhhh', 1), ('hannastatkewicz', 1), ('regrann', 1), ('drones', 1), ('uavs', 1), ('avxtdkdkss', 1), ('ayob', 1), ('ufd', 1), ('reson', 1), ('rrabg', 1), ('pmrh', 1), ('joseluisbaraja', 1), ('uzij', 1), ('swtd', 1), ('aysku', 1), ('shopcrabtree', 1), ('gnr', 1), ('mariahljay', 1), ('eatsmith', 2), ('bmarie', 1), ('yeeeeh', 1), ('unjail', 1), ('sum', 2), ('marry', 2), ('wilderness', 1), ('beyond', 4), ('ykt', 1), ('pakcik', 1), ('requires', 2), ('diff', 1), ('checking', 1), ('isbdqbhj', 1), ('laggy', 2), ('sooo', 4), ('manual', 1), ('jordan', 1), ('nelsonn', 1), ('mines', 2), ('vine', 1), ('welshkris', 1), ('notice', 2), ('birth', 1), ('iping', 1), ('akargosrani', 1), ('ping', 1), ('shatters', 1), ('everyminute', 1), ('gqvkyno', 1), ('bash', 1), ('reduced', 1), ('laptops', 4), ('quietly', 1), ('tracking', 1), ('tricky', 1), ('xcode', 3), ('distribution', 1), ('provisioning', 1), ('disables', 1), ('guerrero', 1), ('bethanysmile', 1), ('chats', 1), ('wowzas', 1), ('ideas', 2), ('revival', 1), ('luke', 2), ('cleaning', 1), ('injured', 1), ('head', 1), ('trackpad', 2), ('stylepic', 1), ('ejcf', 1), ('barcelona', 2), ('haste', 1), ('mayst', 1), ('cased', 1), ('faced', 1), ('laced', 1), ('paced', 1), ('ladybug', 1), ('egcwcqv', 1), ('cleared', 1), ('cruise', 1), ('alps', 1), ('switzerland', 1), ('catching', 1), ('urs', 1), ('qau', 1), ('pwkj', 1), ('skyrocket', 1), ('mothers', 1), ('cuisine', 1), ('wdikuh', 1), ('cnc', 1), ('rocky', 1), ('mountains', 1), ('hip', 2), ('nyc', 4), ('whilst', 2), ('peeling', 1), ('potatoes', 1), ('kitchen', 1), ('default', 1), ('unfaithful', 1), ('flh', 1), ('jjg', 1), ('wdsxy', 1), ('jailbroke', 1), ('cydina', 1), ('addicted', 3), ('fitness', 1), ('presenting', 2), ('importing', 2), ('xml', 1), ('damaged', 2), ('libraries', 1), ('reboot', 1), ('floydmayweather', 1), ('yankees', 1), ('nytimes', 1), ('latimes', 1), ('miamiherald', 1), ('dane', 1), ('detran', 1), ('scoop', 1), ('crunch', 1), ('protein', 1), ('powder', 1), ('sqzyi', 1), ('snapped', 1), ('bezel', 1), ('tgtweets', 1), ('gander', 1), ('sinister', 1), ('connected', 7), ('cameo', 1), ('msgigimarie', 1), ('closing', 1), ('forking', 2), ('vegowznshi', 1), ('bmzvdpqfbz', 1), ('tjr', 1), ('wala', 1), ('feelingpic', 1), ('cschj', 1), ('erex', 1), ('dictator', 1), ('planned', 2), ('baaaby', 1), ('dial', 1), ('wbok', 1), ('creativestore', 1), ('bundle', 2), ('electra', 1), ('wprncaaso', 1), ('slowly', 3), ('flowers', 2), ('misdvdp', 1), ('pinky', 1), ('popping', 1), ('kendall', 1), ('jenner', 1), ('braless', 1), ('rob', 1), ('lads', 2), ('auch', 1), ('ikea', 1), ('mobiledia', 1), ('overload', 2), ('boys', 3), ('wink', 1), ('showstopping', 1), ('bug', 5), ('causing', 3), ('wire', 2), ('recieved', 1), ('revenue', 2), ('base', 1), ('dongles', 1), ('cardgnome', 1), ('continual', 1), ('deadline', 2), ('repaired', 1), ('tpoatpz', 1), ('facetimed', 1), ('fools', 2), ('gsb', 1), ('payed', 2), ('ipods', 5), ('urgh', 1), ('realization', 1), ('repeat', 1), ('swag', 3), ('nexam', 1), ('acap', 1), ('jakepalmer', 1), ('dev', 1), ('iight', 1), ('crisp', 2), ('bfnzanwty', 1), ('plants', 1), ('zombies', 1), ('belladelfia', 1), ('swagapillar', 1), ('jumped', 1), ('bananas', 2), ('colorful', 2), ('shadesofmoonlight', 1), ('fina', 1), ('lauraisabel', 1), ('cel', 1), ('dbph', 1), ('adwords', 1), ('romp', 2), ('wit', 3), ('dem', 1), ('digs', 1), ('lease', 1), ('verotruesocial', 1), ('hohoho', 1), ('hangout', 1), ('nap', 1), ('jolly', 1), ('csdyapirz', 1), ('dur', 1), ('molecules', 1), ('cools', 1), ('pools', 1), ('mules', 1), ('jules', 1), ('pules', 1), ('garbage', 3), ('parents', 5), ('ajwkwfqe', 1), ('bhsfs', 1), ('stn', 1), ('mendes', 1), ('direct', 1), ('joshloppy', 1), ('phoneless', 1), ('spakbook', 1), ('refuse', 2), ('sammy', 1), ('doo', 1), ('bcensored', 1), ('river', 1), ('squad', 1), ('krissi', 1), ('richard', 1), ('xoxo', 1), ('tera', 1), ('surely', 1), ('street', 3), ('lean', 1), ('belt', 1), ('certification', 1), ('solutions', 1), ('theliving', 1), ('foam', 1), ('vsv', 1), ('survived', 2), ('salut', 1), ('feathr', 1), ('strugle', 1), ('images', 3), ('disconnect', 1), ('duty', 1), ('poncho', 1), ('lefty', 1), ('pwgj', 1), ('npolowydraws', 1), ('impulse', 1), ('patronise', 1), ('fox', 2), ('handed', 3), ('xhwknjqfyh', 1), ('meanwhile', 2), ('nights', 2), ('derk', 1), ('streams', 1), ('bet', 2), ('spanish', 1), ('alright', 1), ('knickers', 1), ('thinkgeek', 1), ('wiz', 1), ('fault', 2), ('papers', 1), ('interesting', 1), ('cords', 2), ('guide', 1), ('stainless', 1), ('steel', 1), ('zznj', 1), ('fjw', 1), ('compact', 3), ('confusing', 3), ('behind', 5), ('infringe', 1), ('dyed', 1), ('qtfh', 1), ('tikeda', 2), ('fli', 2), ('repairs', 1), ('developed', 1), ('folks', 2), ('flint', 1), ('stegpozksc', 1), ('dunno', 3), ('enjoying', 5), ('thisispoc', 1), ('woth', 1), ('unlikeable', 1), ('nerve', 1), ('bom', 1), ('freestyle', 1), ('kingcrowley', 1), ('chairman', 1), ('allllll', 1), ('fucks', 1), ('whatsoever', 1), ('basically', 2), ('einfach', 1), ('mal', 1), ('sein', 1), ('bqrin', 1), ('nerves', 1), ('sach', 1), ('paulson', 1), ('biden', 1), ('donald', 3), ('misshijabi', 2), ('monteithelgort', 2), ('directory', 1), ('extreme', 1), ('square', 1), ('poftnsssrl', 1), ('revenge', 1), ('usa', 2), ('dye', 1), ('bigtime', 1), ('quirks', 1), ('annoyances', 1), ('nonexistent', 1), ('zoo', 1), ('androidftw', 1), ('blows', 3), ('package', 1), ('pennies', 1), ('panorama', 1), ('figures', 1), ('cpu', 1), ('ipon', 1), ('gives', 3), ('guarantee', 1), ('law', 2), ('magnificent', 1), ('soldout', 1), ('abukamalyasinpic', 1), ('lzffupin', 1), ('meliiecandy', 1), ('fwlbjzd', 1), ('bali', 1), ('furious', 1), ('anton', 1), ('yelchin', 1), ('caa', 2), ('agent', 2), ('luckily', 1), ('clcensored', 3), ('banter', 2), ('amount', 3), ('regions', 1), ('iproducts', 1), ('stunned', 1), ('comparison', 1), ('logitechs', 1), ('crush', 1), ('coral', 1), ('bacon', 1), ('yyrhu', 1), ('homework', 3), ('hues', 1), ('oifg', 1), ('dpxr', 1), ('avengers', 1), ('zarathegeek', 1), ('matter', 2), ('revision', 1), ('zpic', 4), ('nlmqvrxzv', 1), ('msbluesky', 2), ('bothered', 1), ('query', 1), ('ixrgnyq', 1), ('mirror', 3), ('hola', 1), ('fyi', 2), ('noone', 1), ('minhas', 1), ('thee', 1), ('bullet', 2), ('mizz', 1), ('suewee', 2), ('bluk', 1), ('kfksk', 1), ('simfree', 2), ('narsis', 1), ('deemed', 1), ('networks', 3), ('dethrones', 1), ('bikini', 1), ('bronnplocp', 1), ('therealelijas', 1), ('mikeelbeta', 1), ('valentinesday', 1), ('havilegrand', 1), ('ourpm', 1), ('coy', 1), ('drag', 1), ('memo', 1), ('trick', 1), ('shortsighted', 1), ('mushrooms', 1), ('vxpuctnb', 1), ('arguing', 2), ('bored', 4), ('sep', 1), ('pim', 1), ('pom', 1), ('lollypop', 1), ('league', 1), ('prolly', 3), ('bid', 1), ('outflank', 1), ('giant', 3), ('unveils', 1), ('wjfwdedpp', 1), ('anflfunqek', 1), ('reach', 1), ('chloes', 1), ('wctqerxmg', 1), ('yess', 1), ('commonwealth', 2), ('skye', 1), ('nicolson', 1), ('boxing', 1), ('brothers', 2), ('whisperer', 1), ('alike', 1), ('jennifer', 1), ('hayyylllll', 1), ('doe', 1), ('pefctq', 1), ('abp', 1), ('peice', 2), ('fvixeku', 1), ('ijqqf', 1), ('xgc', 1), ('iinhdvt', 1), ('mammy', 1), ('adxvld', 1), ('pull', 2), ('terrorists', 1), ('spamming', 1), ('compatible', 6), ('spam', 2), ('former', 2), ('exec', 1), ('teaches', 1), ('students', 1), ('playlist', 4), ('thrones', 1), ('battle', 3), ('nightpics', 1), ('izzsh', 1), ('chiefmonkey', 1), ('continued', 1), ('hang', 1), ('thieving', 1), ('egomaniacal', 1), ('charlatan', 1), ('bath', 1), ('acceptable', 2), ('evenings', 1), ('hike', 1), ('thunderbird', 1), ('falls', 2), ('echobox', 1), ('horrific', 1), ('nikamirnezam', 1), ('dinasour', 1), ('env', 1), ('tiiiimmmeeeee', 1), ('youiphone', 1), ('newport', 1), ('delaware', 1), ('khormaunited', 1), ('zain', 1), ('handset', 2), ('restocked', 1), ('dbpwrxuv', 1), ('fonts', 1), ('junior', 1), ('channel', 3), ('ows', 1), ('opjcujiub', 1), ('lonely', 1), ('imabellyk', 1), ('imfixed', 1), ('tonge', 1), ('moor', 1), ('bolton', 1), ('qijwezf', 1), ('frigging', 1), ('township', 1), ('suffer', 1), ('reported', 3), ('receiving', 2), ('advisor', 1), ('cheated', 1), ('nmpr', 1), ('vflw', 1), ('carr', 1), ('bigch', 1), ('kept', 1), ('bear', 3), ('photographer', 1), ('viviana', 1), ('peretti', 1), ('winner', 2), ('worldphotoorg', 1), ('awards', 1), ('thousand', 1), ('dollars', 3), ('cityfrancis', 1), ('endless', 1), ('highlights', 2), ('neues', 1), ('vvus', 1), ('eabjy', 1), ('compare', 1), ('pair', 6), ('japan', 1), ('vibration', 1), ('studio', 1), ('oasscode', 1), ('incorrect', 1), ('diario', 1), ('hoy', 1), ('represents', 1), ('threat', 2), ('blocked', 1), ('kknandra', 1), ('chiling', 1), ('amigos', 1), ('appleofficiai', 1), ('weighs', 1), ('hangover', 1), ('cure', 1), ('depressing', 1), ('footsteps', 1), ('porsche', 1), ('mate', 5), ('streamed', 1), ('kjqtb', 1), ('trolling', 1), ('popup', 1), ('clickable', 1), ('downey', 1), ('bloated', 1), ('contributes', 1), ('partner', 3), ('crime', 1), ('cousin', 2), ('missjuliadh', 1), ('baked', 1), ('seasoned', 1), ('pasta', 1), ('capable', 1), ('included', 1), ('race', 1), ('tour', 2), ('maroc', 1), ('wmco', 1), ('flashback', 1), ('demolishing', 1), ('middy', 1), ('eastern', 1), ('delights', 1), ('torshishop', 1), ('gxefughzlp', 1), ('candycrushsaga', 1), ('salfbjqwka', 1), ('gavin', 1), ('classes', 1), ('elow', 1), ('aghif', 1), ('bold', 1), ('pureme', 1), ('harvey', 1), ('nichols', 1), ('kyliejenner', 1), ('harrodsoflondon', 1), ('yearbook', 1), ('hmmmmm', 1), ('bri', 1), ('gresik', 1), ('vivo', 4), ('cab', 1), ('handle', 2), ('mex', 1), ('login', 5), ('brettsing', 1), ('creaky', 1), ('vnz', 1), ('oys', 1), ('automated', 1), ('responsibility', 1), ('beatsbydre', 2), ('likely', 1), ('amqlwyttex', 1), ('sub', 1), ('goal', 1), ('unbelievable', 1), ('firing', 1), ('xhr', 1), ('events', 1), ('preach', 1), ('wale', 1), ('hooooly', 1), ('jackson', 1), ('adventure', 3), ('onhcpevit', 1), ('contemplating', 2), ('interruptd', 1), ('goddam', 1), ('drove', 1), ('koodo', 1), ('warm', 3), ('dharma', 1), ('setya', 1), ('handmade', 1), ('weaven', 1), ('handcraft', 1), ('lilya', 1), ('btew', 1), ('surveys', 2), ('cxoqbzze', 1), ('autumn', 2), ('icclewu', 1), ('fuv', 1), ('competitive', 1), ('war', 1), ('targets', 1), ('luff', 1), ('plz', 2), ('mccabeant', 1), ('hashtag', 3), ('yummmmy', 1), ('yeeee', 1), ('tad', 2), ('frank', 2), ('kauai', 1), ('tropical', 2), ('paradise', 1), ('cane', 1), ('disable', 1), ('apts', 1), ('woot', 1), ('lap', 1), ('myster', 1), ('pants', 1), ('surfed', 1), ('mwahahaha', 1), ('kitty', 2), ('china', 3), ('marky', 1), ('nigh', 1), ('sweetjacinta', 1), ('sugar', 2), ('benefits', 1), ('yoga', 1), ('fuel', 2), ('tank', 1), ('benghazi', 1), ('victim', 1), ('widow', 1), ('verizonwireless', 1), ('unable', 1), ('jaylin', 2), ('alarms', 1), ('faggott', 1), ('zts', 1), ('pzv', 1), ('zapio', 1), ('athens', 1), ('kfusnmgp', 1), ('sticking', 2), ('innovators', 1), ('disrupt', 1), ('administration', 1), ('drafting', 1), ('letter', 4), ('continuing', 1), ('hurting', 1), ('foot', 1), ('avail', 1), ('mnt', 1), ('muffins', 1), ('sally', 2), ('diner', 2), ('recent', 1), ('complaint', 1), ('wwhrsmifq', 1), ('clock', 1), ('import', 1), ('compilation', 1), ('bringing', 5), ('slimclip', 1), ('thewtfactory', 1), ('miisstoriix', 1), ('abuse', 3), ('clone', 1), ('iotc', 1), ('lovematcher', 1), ('gngrgeek', 1), ('ibeats', 1), ('blessed', 1), ('milanese', 1), ('loop', 1), ('voicemail', 1), ('undelete', 1), ('convenient', 2), ('leaking', 1), ('inconsiderate', 1), ('steep', 1), ('hill', 2), ('climb', 2), ('kernel', 1), ('ramble', 1), ('politics', 1), ('resent', 1), ('removing', 1), ('susannareid', 1), ('corrupted', 1), ('vspiasqpgi', 1), ('ladycensored', 1), ('bidding', 1), ('sparklez', 1), ('mypad', 1), ('comments', 1), ('facebooks', 1), ('dearly', 1), ('easier', 3), ('activate', 1), ('remember', 6), ('facing', 2), ('equfl', 1), ('vhja', 1), ('kevin', 1), ('momoz', 1), ('mmlp', 1), ('reunited', 2), ('maced', 1), ('expected', 4), ('pizza', 1), ('shift', 1), ('sisters', 2), ('wzvbtutupd', 1), ('taylorkaps', 1), ('koala', 1), ('announcing', 1), ('stick', 1), ('shaynetward', 1), ('proper', 2), ('instantly', 1), ('plays', 1), ('completion', 1), ('annastainke', 1), ('administrator', 4), ('aaydojbfkq', 1), ('yeahhh', 1), ('begins', 2), ('bottle', 1), ('cecy', 1), ('ely', 1), ('goo', 1), ('crossed', 1), ('parts', 1), ('snack', 2), ('yya', 1), ('yzbbfv', 1), ('owned', 2), ('bcs', 1), ('accessed', 1), ('dispute', 1), ('smiling', 1), ('alt', 1), ('casepeace', 3), ('asclqnsuom', 1), ('exploded', 1), ('claims', 1), ('safety', 1), ('prevent', 1), ('leakage', 1), ('bypcensored', 2), ('prob', 2), ('resulted', 1), ('besttextmsgs', 1), ('infront', 1), ('boa', 1), ('noite', 1), ('buenas', 1), ('noches', 1), ('ladyrican', 1), ('nini', 1), ('roper', 1), ('rocking', 1), ('rimmed', 1), ('tubes', 1), ('surgery', 1), ('thumb', 1), ('whey', 1), ('character', 1), ('cosplayer', 1), ('misamisarunnta', 1), ('ynp', 1), ('lssth', 1), ('fpnicsyytx', 1), ('anthing', 1), ('dea', 1), ('gummy', 1), ('androidguys', 1), ('frontier', 1), ('foundation', 1), ('engineering', 1), ('finnaly', 1), ('kay', 1), ('furniture', 1), ('zeeland', 2), ('bexnvaxy', 1), ('hugeplumbs', 1), ('similar', 1), ('clickity', 1), ('yummy', 2), ('zoe', 1), ('yetsust', 1), ('musketeers', 1), ('whaat', 1), ('slap', 2), ('meow', 1), ('harrd', 1), ('everett', 1), ('washington', 1), ('bumpily', 1), ('mikedre', 1), ('mixes', 1), ('filming', 3), ('vmzuaifykm', 1), ('arrogent', 1), ('delaying', 2), ('ruining', 3), ('killzone', 1), ('utotabe', 1), ('damian', 1), ('itwantithaveit', 1), ('yvopwgpesb', 1), ('glqwzakc', 1), ('grantyygrant', 1), ('ykyjb', 1), ('yessssss', 1), ('dualipa', 1), ('ckt', 1), ('saul', 1), ('inexplicably', 1), ('trash', 1), ('glitters', 1), ('supplied', 1), ('inappropriate', 1), ('jaijuiceandcafe', 1), ('mmmmmm', 1), ('dum', 1), ('bjj', 1), ('wanttt', 1), ('arrow', 1), ('double', 6), ('exposure', 1), ('pes', 1), ('mdr', 1), ('outings', 1), ('withdrawals', 1), ('oazanmdhjd', 1), ('koribaker', 1), ('zenaleaonawhite', 1), ('bandung', 1), ('casual', 1), ('near', 4), ('passwords', 3), ('usernames', 1), ('meeennn', 1), ('pmapril', 1), ('aashamsakal', 1), ('sivaratri', 1), ('ocmqb', 1), ('angelaahrendts', 1), ('experiences', 1), ('vmue', 1), ('pecn', 1), ('qehz', 1), ('xrcgl', 1), ('tmr', 1), ('lqvay', 1), ('kskl', 1), ('exzom', 1), ('krjn', 1), ('lindahamui', 1), ('statues', 1), ('hamui', 1), ('gkp', 1), ('nooooo', 2), ('supported', 4), ('idc', 1), ('becky', 1), ('distefano', 1), ('appreciate', 3), ('stripey', 1), ('donstugots', 1), ('dudeman', 1), ('responds', 1), ('vyf', 1), ('yahoo', 1), ('finance', 1), ('yahoofinance', 1), ('bravo', 1), ('odd', 3), ('ngiemarie', 1), ('atlast', 1), ('rxsceondqp', 1), ('znjq', 1), ('lepaking', 1), ('pissin', 1), ('quickness', 1), ('pyufti', 1), ('counting', 1), ('hurry', 2), ('whyyyyy', 1), ('hdfezyugku', 1), ('breathable', 1), ('christopher', 1), ('reeve', 1), ('chlby', 1), ('downside', 1), ('owing', 1), ('uptown', 1), ('promotions', 1), ('giveaways', 1), ('myhappymobile', 1), ('fixmyscreenuk', 1), ('iyfoay', 1), ('workshop', 1), ('mit', 1), ('maschke', 1), ('recording', 1), ('moves', 1), ('brinkmanship', 1), ('rip', 2), ('nip', 1), ('sip', 1), ('gyp', 1), ('iongaming', 1), ('kidnapping', 1), ('bodies', 1), ('ota', 1), ('explore', 1), ('krishumphries', 1), ('hahahaaa', 1), ('shatterproof', 1), ('catticusjohnson', 1), ('genuinely', 2), ('phishing', 1), ('fakes', 1), ('shell', 1), ('kulqox', 1), ('acknowledges', 1), ('previously', 1), ('improvements', 2), ('items', 1), ('totes', 1), ('emotional', 1), ('pursuit', 1), ('mute', 1), ('loot', 1), ('lute', 1), ('moot', 1), ('newt', 1), ('promoting', 1), ('laurenpope', 1), ('xxpic', 2), ('rla', 1), ('xate', 1), ('theesar', 1), ('phew', 1), ('canada', 1), ('experienced', 1), ('hunt', 1), ('meant', 1), ('hasnt', 1), ('ygx', 1), ('mcjlqe', 1), ('chudleigh', 1), ('farm', 1), ('golfclub', 1), ('ended', 2), ('bridesmaid', 1), ('esimms', 1), ('mfp', 1), ('congratz', 1), ('nicehardware', 1), ('nbc', 1), ('cathedral', 1), ('basilica', 1), ('duxhws', 1), ('lube', 1), ('yatabarry', 1), ('jnlm', 1), ('cca', 1), ('arms', 1), ('samsungmobilein', 1), ('birdy', 1), ('winners', 1), ('szgvxhmc', 1), ('recently', 1), ('musical', 1), ('jecika', 1), ('srb', 1), ('dontcha', 1), ('glpqygbjsd', 1), ('eppa', 1), ('cupid', 1), ('ecnckzmwwd', 1), ('tasops', 1), ('perfection', 1), ('vlog', 1), ('prepared', 1), ('nfib', 1), ('tue', 1), ('gtk', 1), ('gksgt', 1), ('fbi', 1), ('identify', 1), ('iphonesia', 1), ('katewhinesalot', 2), ('avoided', 2), ('protest', 2), ('visually', 1), ('appealing', 1), ('impressive', 1), ('wifey', 1), ('leggings', 1), ('shape', 1), ('playapadre', 1), ('adw', 1), ('vvs', 1), ('cottds', 1), ('timing', 1), ('itunessupport', 1), ('numerous', 1), ('enabled', 1), ('background', 2), ('holes', 2), ('bekifft', 2), ('detach', 2), ('synonymous', 2), ('aaaahhhhhhh', 1), ('andyvaughan', 1), ('compares', 2), ('windowwwww', 1), ('dones', 1), ('waterboard', 1), ('detail', 1), ('solonely', 1), ('ive', 1), ('fkin', 1), ('superdrive', 1), ('afreaid', 1), ('europe', 1), ('lit', 2), ('majmi', 1), ('english', 5), ('amyiqk', 1), ('jqh', 1), ('abeecwaldon', 1), ('eeee', 1), ('ought', 1), ('false', 1), ('advertising', 1), ('shown', 1), ('demonstrably', 1), ('driveclubco', 1), ('usqz', 1), ('znv', 1), ('suspended', 1), ('corners', 1), ('snowwatsom', 1), ('paulinaradeka', 1), ('dumbcensored', 1), ('scheduled', 1), ('maintenance', 1), ('egg', 3), ('sperm', 1), ('donors', 1), ('nzherald', 1), ('woahhh', 1), ('yourphototips', 1), ('cavern', 1), ('ziggy', 1), ('nate', 1), ('dogg', 1), ('hooooolld', 1), ('waaaaaait', 1), ('phuck', 1), ('disgraced', 1), ('flying', 1), ('bnzgylboy', 1), ('dai', 1), ('japy', 1), ('imessaging', 1), ('thirsty', 2), ('alfa', 1), ('liking', 2), ('accident', 1), ('stalker', 1), ('maximixmusic', 1), ('mvp', 1), ('annie', 1), ('cas', 1), ('realizing', 1), ('jhawk', 1), ('ushered', 1), ('twins', 1), ('conniebritton', 1), ('charlesesten', 1), ('uwftofpw', 1), ('hungry', 1), ('shark', 1), ('evolution', 2), ('blowin', 2), ('unnecessary', 1), ('headache', 1), ('amused', 1), ('obuiheud', 1), ('uyx', 1), ('idy', 1), ('denisfad', 2), ('district', 1), ('needing', 1), ('ruff', 1), ('nightmare', 2), ('contracts', 1), ('twin', 2), ('tenshi', 1), ('landed', 1), ('basket', 1), ('cqxymalko', 1), ('finallllyyy', 1), ('gosia', 1), ('applemusic', 1), ('ringtone', 2), ('piwg', 1), ('roiwn', 1), ('deceives', 2), ('rue', 1), ('committed', 1), ('dept', 1), ('autocorrect', 2), ('ftnkxnbsyz', 1), ('convert', 1), ('cartoon', 1), ('apples', 4), ('melon', 1), ('baller', 1), ('oxvqdjps', 1), ('zzita', 1), ('dleacht', 1), ('jmcd', 1), ('bamboo', 1), ('eacjmoql', 1), ('specs', 2), ('reenjuit', 1), ('sheesh', 1), ('typo', 1), ('prone', 1), ('keys', 1), ('fucky', 1), ('deciding', 1), ('knxv', 1), ('expanding', 1), ('lzywpi', 1), ('held', 1), ('customs', 1), ('indefinately', 1), ('tweaktownpic', 1), ('plc', 1), ('xywfwg', 1), ('silverbackjay', 1), ('walked', 1), ('escape', 1), ('hyqrhhnh', 1), ('carton', 1), ('freakgeeks', 1), ('utit', 1), ('debbie', 1), ('lor', 2), ('kuta', 1), ('fatmanbcfc', 1), ('miggiq', 1), ('eyqubea', 1), ('unfortunately', 1), ('detected', 1), ('accompaniment', 1), ('fortunately', 1), ('persuaded', 1), ('osu', 2), ('caul', 1), ('meeen', 1), ('gop', 1), ('turds', 1), ('coated', 1), ('obvi', 1), ('revolutionary', 1), ('spectacular', 1), ('soundcloud', 1), ('momas', 1), ('earbu', 1), ('rekindled', 1), ('kindled', 1), ('brindled', 1), ('swindled', 1), ('dwindled', 1), ('inconvenient', 1), ('thinks', 1), ('kaylahinks', 1), ('itube', 1), ('thug', 1), ('jan', 1), ('chiri', 1), ('chandelier', 1), ('lakrzzg', 1), ('digisociety', 1), ('pundits', 1), ('lagging', 1), ('quickbug', 1), ('points', 1), ('gdmt', 1), ('turnin', 1), ('djbereal', 1), ('cutter', 3), ('cache', 1), ('gizmodo', 1), ('salad', 1), ('sunshine', 2), ('nano', 1), ('hat', 1), ('kein', 1), ('lambwd', 1), ('protip', 1), ('redirecting', 1), ('links', 1), ('relax', 3), ('rang', 1), ('prfessor', 1), ('haterelationship', 1), ('mickygee', 1), ('juno', 1), ('orbiter', 1), ('hah', 2), ('orb', 1), ('locking', 1), ('timesnow', 1), ('girlwiththecake', 1), ('foley', 1), ('cheeky', 2), ('toot', 1), ('wgcx', 1), ('pricks', 1), ('complicatd', 1), ('wreck', 1), ('brief', 1), ('pricing', 1), ('ikrx', 1), ('speakers', 1), ('vzxg', 1), ('redhead', 1), ('diversify', 1), ('eden', 1), ('springs', 1), ('svarhsotzd', 1), ('vedio', 1), ('htj', 1), ('guitar', 1), ('funky', 2), ('lrc', 1), ('oxasnf', 1), ('mts', 1), ('qlj', 1), ('zor', 1), ('imma', 1), ('khqtjafvaf', 1), ('lyogo', 1), ('wtfm', 1), ('eju', 1), ('kejk', 1), ('alarm', 1), ('sat', 1), ('joantudophoto', 1), ('frzsly', 1), ('jerzey', 1), ('utpb', 1), ('ldt', 1), ('gse', 1), ('wahooooo', 1), ('prettyful', 1), ('iamprettytatty', 1), ('settles', 1), ('iphoto', 2), ('freeze', 1), ('manuscript', 1), ('patience', 1), ('virtue', 1), ('tyrannical', 1), ('reign', 1), ('cultists', 1), ('mobileme', 1), ('mackenzy', 1), ('mihouse', 1), ('practice', 1), ('datter', 1), ('sms', 2), ('igers', 1), ('boyyyy', 1), ('barquisimeto', 1), ('wafflehouse', 1), ('dpj', 1), ('mundo', 1), ('reves', 1), ('fiiiiin', 1), ('goinfre', 1), ('powa', 1), ('belichick', 1), ('belichek', 1), ('ooh', 1), ('dispatched', 1), ('homescreen', 1), ('pour', 3), ('sur', 1), ('mzt', 1), ('xrj', 1), ('databases', 1), ('airpads', 1), ('uncomfortable', 1), ('earbuds', 1), ('whcuy', 1), ('zxw', 1), ('jeffmindell', 1), ('izqenkiv', 1), ('reminder', 1), ('lariiiis', 1), ('brunoheider', 1), ('nic', 1), ('jetski', 1), ('muoneoz', 2), ('vino', 1), ('ghcp', 1), ('precise', 1), ('scanning', 1), ('occipital', 1), ('sbsvhyfava', 1), ('iao', 1), ('gov', 1), ('bedroom', 2), ('kuala', 1), ('lumpur', 1), ('concern', 2), ('pamsomerville', 1), ('ikr', 1), ('isheep', 1), ('lmfao', 1), ('thecheesecakeshop', 1), ('dyub', 1), ('unpacking', 1), ('impression', 1), ('blo', 1), ('superior', 1), ('supporting', 1), ('doodle', 2), ('cee', 1), ('gee', 1), ('itunesmusic', 1), ('swstheband', 1), ('zachary', 1), ('residence', 1), ('twitterworld', 1), ('lylkdeaivl', 1), ('treats', 1), ('sayang', 2), ('lokmanteh', 1), ('mornings', 2), ('tfc', 1), ('kami', 1), ('masterclcensored', 1), ('plussssss', 1), ('errrrrr', 1), ('msgenevac', 1), ('listens', 1), ('harddrive', 1), ('vent', 4), ('mount', 3), ('holder', 3), ('cradle', 3), ('tqyuca', 1), ('mhl', 1), ('efficient', 1), ('adio', 1), ('waterproof', 2), ('succeed', 2), ('despise', 2), ('bollocksed', 1), ('entertaining', 2), ('furry', 2), ('poodles', 2), ('nti', 1), ('mhrba', 1), ('slowed', 1), ('ljymldhby', 1), ('ycobxh', 1), ('asfhxxyhzj', 1), ('baju', 1), ('delayed', 1), ('snzogmbejo', 1), ('iphoneteam', 2), ('inexcusable', 1), ('memoji', 1), ('pedroazevedo', 1), ('slick', 1), ('mindy', 1), ('excites', 1), ('pile', 1), ('heyemmadonnell', 1), ('quid', 1), ('softwares', 1), ('oses', 1), ('aboard', 1), ('envy', 1), ('push', 1), ('allstate', 1), ('anon', 1), ('occasionally', 1), ('thou', 1), ('involving', 1), ('puppies', 1), ('pupsfollow', 1), ('puppydailyposts', 1), ('nfvd', 1), ('ryx', 1), ('shittier', 1), ('mint', 1), ('peach', 2), ('tele', 1), ('unbox', 1), ('sagar', 1), ('bqqk', 1), ('bafrs', 1), ('abajournal', 1), ('supreme', 1), ('customise', 1), ('nmmcaicum', 1), ('spoof', 1), ('taller', 1), ('customizable', 1), ('ipho', 1), ('okyskokabf', 1), ('bankrupt', 1), ('cming', 1), ('crop', 2), ('goner', 1), ('ears', 3), ('creationswap', 1), ('phoster', 1), ('shells', 1), ('mutibabe', 1), ('babymuscles', 1), ('telephone', 1), ('friggen', 1), ('rebooted', 1), ('pggwwxes', 1), ('eryka', 1), ('badu', 1), ('jacielynnclark', 1), ('cffrw', 1), ('gdg', 1), ('yaaas', 1), ('nlnhfjonnr', 1), ('snowwatson', 1), ('mcdonald', 1), ('lotus', 1), ('dzwk', 1), ('nlc', 1), ('babi', 1), ('ellyrulez', 1), ('tykology', 1), ('maicmartinez', 1), ('qzd', 1), ('soshk', 1), ('ggenhifl', 1), ('award', 2), ('emailing', 1), ('keith', 2), ('haring', 1), ('queue', 1), ('kermitcando', 1), ('cwbydrnkscrft', 1), ('bugden', 1), ('eac', 1), ('tyga', 1), ('squirm', 1), ('ross', 1), ('somebody', 1), ('roantiqueira', 1), ('cheery', 1), ('geometry', 1), ('ado', 1), ('hairdo', 1), ('francois', 1), ('carrot', 1), ('ielsa', 1), ('viterbo', 1), ('centro', 1), ('storico', 1), ('jus', 1), ('possibly', 1), ('onwards', 1), ('lorimoreno', 1), ('sharonhayes', 2), ('miles', 1), ('journey', 1), ('nikon', 1), ('enchantment', 1), ('contest', 1), ('overwritten', 1), ('brokedown', 1), ('rugpdxfpzk', 1), ('helpdesk', 1), ('amazingly', 1), ('kushpatel', 1), ('rrrishabhrathod', 1), ('froze', 2), ('dynasty', 1), ('littlewingman', 1), ('sends', 2), ('comfort', 1), ('boujgkxccb', 1), ('stark', 1), ('blossoms', 1), ('jwerwq', 1), ('sist', 1), ('published', 1), ('bunny', 1), ('png', 1), ('thumbnail', 1), ('mutita', 1), ('edibleart', 1), ('gmail', 1), ('compic', 1), ('jhwphfbgt', 1), ('qmhsv', 1), ('reminding', 1), ('taco', 1), ('bell', 1), ('weaker', 1), ('dose', 1), ('medicine', 1), ('pressed', 1), ('productivity', 1), ('increasing', 1), ('skrillex', 1), ('shesabaabexo', 1), ('nacho', 1), ('libre', 1), ('qjitegwcx', 1), ('rupee', 1), ('verotruesocialpic', 1), ('xth', 1), ('appleid', 1), ('verify', 2), ('initiate', 1), ('biracial', 1), ('racial', 1), ('spatial', 1), ('findgifts', 4), ('linneaebba', 1), ('davrfn', 1), ('psp', 1), ('archives', 1), ('aubkpyjzwj', 1), ('rfzfb', 1), ('tze', 1), ('engaging', 1), ('adhi', 1), ('audacity', 1), ('blackberrynews', 1), ('reovery', 1), ('fsck', 1), ('wwwwwiiiiiiiiiii', 1), ('thexfactorusa', 1), ('country', 2), ('retweeting', 1), ('thescw', 1), ('smitten', 1), ('yamaha', 1), ('monitors', 1), ('ladalopez', 1), ('vortex', 1), ('discrepancies', 1), ('gadgets', 2), ('patenting', 1), ('bounce', 1), ('scroll', 1), ('trivialities', 1), ('tempared', 2), ('models', 5), ('mkakm', 1), ('vasn', 1), ('curiously', 1), ('losin', 1), ('finished', 2), ('dawn', 1), ('kusd', 1), ('tegiortega', 1), ('apologise', 1), ('arsenal', 1), ('vibrate', 1), ('continues', 2), ('cravings', 1), ('jzog', 1), ('legk', 1), ('brb', 1), ('hateyou', 1), ('iyynadgf', 1), ('meters', 1), ('absence', 1), ('smaller', 1), ('npg', 1), ('obama', 2), ('mocks', 1), ('dot', 1), ('roche', 1), ('migraine', 1), ('meaningful', 1), ('bow', 2), ('bbtoxxhakw', 1), ('buys', 1), ('djesminc', 1), ('messy', 1), ('musician', 1), ('covering', 1), ('sincerely', 2), ('faulty', 1), ('exsisted', 1), ('cdqtjckibm', 1), ('grcensored', 1), ('blackieapp', 1), ('yxwdhcm', 1), ('inleqfo', 1), ('disappeared', 1), ('tjvn', 1), ('nlpeqhq', 1), ('batteries', 2), ('irffvfwbxc', 1), ('zua', 1), ('mnab', 1), ('payback', 1), ('sandbox', 1), ('cutepenshoppe', 1), ('heartless', 1), ('slammin', 1), ('ambermaysaylor', 1), ('lightpeak', 1), ('question', 1), ('yjefmmg', 1), ('hlgndyokt', 1), ('kindle', 2), ('wolfe', 3), ('operation', 2), ('ultimate', 1), ('jovidfi', 1), ('kingponder', 1), ('truth', 3), ('blass', 1), ('crib', 1), ('mzkelz', 1), ('neekztaylor', 1), ('trinidad', 1), ('muah', 1), ('randyorton', 1), ('liz', 1), ('whys', 1), ('recieve', 1), ('truly', 1), ('eligibility', 1), ('neither', 1), ('attcares', 1), ('afraid', 1), ('profit', 1), ('pos', 1), ('likes', 5), ('swapped', 2), ('christmassy', 1), ('drshwetapuri', 2), ('oiajffndhv', 1), ('return', 4), ('verification', 1), ('panther', 1), ('dantreacy', 1), ('removed', 1), ('humanity', 1), ('antiques', 1), ('xyqtrzdu', 1), ('succeeded', 1), ('guamguy', 1), ('breezes', 1), ('puppets', 1), ('crimbo', 1), ('fridge', 3), ('freezer', 1), ('atrix', 1), ('ran', 1), ('par', 2), ('jayco', 1), ('tokay', 1), ('zyrithxkuv', 1), ('monthly', 1), ('cakesmash', 1), ('anrnjcpspk', 1), ('cameron', 2), ('crowe', 1), ('roadies', 1), ('motox', 1), ('botched', 3), ('reliable', 2), ('lips', 1), ('kindness', 1), ('audrey', 1), ('hepburn', 1), ('wceq', 1), ('jenniferfee', 1), ('fckkkked', 1), ('oqbwcrc', 1), ('developer', 1), ('supports', 1), ('swipe', 2), ('jump', 2), ('observatoire', 1), ('ville', 1), ('marie', 1), ('yqhbr', 1), ('nailed', 1), ('jardim', 1), ('frotin', 1), ('havili', 1), ('cited', 2), ('foul', 1), ('considering', 1), ('unavailable', 3), ('jamesdawute', 1), ('katyperry', 1), ('suithorns', 1), ('whirl', 2), ('shashtyabdhi', 1), ('passed', 1), ('jaw', 1), ('heis', 1), ('bsjueb', 1), ('wash', 1), ('mandela', 1), ('pardew', 1), ('allen', 1), ('tyrzxs', 1), ('rainy', 1), ('wheels', 1), ('eynnvwy', 1), ('mess', 4), ('complaints', 1), ('xioty', 1), ('sunget', 1), ('simala', 1), ('toledo', 1), ('printers', 1), ('king', 3), ('ammay', 2), ('destruction', 1), ('derby', 1), ('robertwindon', 1), ('tgixz', 1), ('bbs', 1), ('largest', 1), ('weighed', 1), ('pounds', 1), ('qxod', 1), ('lqr', 1), ('macworld', 1), ('except', 3), ('sites', 2), ('analysts', 1), ('estimate', 1), ('irjdi', 1), ('kbka', 1), ('haaate', 1), ('fuuuck', 1), ('aisha', 1), ('expired', 1), ('reverted', 1), ('mar', 1), ('fpsq', 1), ('dmkxycrbes', 1), ('okp', 1), ('xfmup', 1), ('appieofflciai', 1), ('iaudi', 1), ('balla', 1), ('unite', 1), ('shots', 1), ('muc', 1), ('xmxnlj', 1), ('fighting', 3), ('improving', 1), ('pukk', 1), ('tdwxbyfn', 1), ('justinbieber', 2), ('ubksw', 1), ('pxqv', 1), ('flirting', 1), ('shares', 2), ('dun', 1), ('goofed', 1), ('downgraded', 1), ('jhvpg', 1), ('activation', 1), ('fee', 1), ('destroy', 1), ('xbox', 2), ('yilmaz', 1), ('dzooirsc', 1), ('bite', 1), ('brad', 1), ('boxberger', 1), ('rays', 1), ('neh', 1), ('cbqwp', 1), ('spare', 1), ('seeks', 1), ('injunction', 1), ('techcrunch', 1), ('brainwashing', 1), ('ursulaknight', 1), ('chocoladutchess', 1), ('buggering', 1), ('freddie', 2), ('tom', 1), ('everever', 1), ('xxa', 1), ('sui', 1), ('stressed', 1), ('qgr', 1), ('masking', 1), ('anime', 1), ('lncxuvfqyu', 1), ('apctp', 1), ('falling', 1), ('freeeeeeeeeeeeee', 1), ('elegance', 1), ('flake', 1), ('hananachmad', 1), ('mister', 1), ('dell', 1), ('signing', 1), ('alltheapple', 1), ('handles', 1), ('curtindo', 1), ('vinifontes', 1), ('rua', 1), ('houli', 1), ('coconut', 1), ('almond', 1), ('canyjn', 1), ('wxbknbdfu', 1), ('bsv', 1), ('arrn', 1), ('iknow', 1), ('preggy', 1), ('aaronbrandt', 1), ('jealous', 1), ('within', 2), ('mention', 2), ('perks', 1), ('abit', 1), ('brazil', 1), ('kylieminogue', 1), ('singing', 2), ('illusion', 1), ('mod', 1), ('noise', 2), ('wruiudenqb', 1), ('fridayyy', 1), ('meaning', 1), ('bummed', 1), ('dip', 1), ('magsafe', 1), ('destroyed', 1), ('birthdaygift', 1), ('glitching', 1), ('grumpy', 1), ('fraudulent', 1), ('europeans', 1), ('addresses', 2), ('expecting', 1), ('charlo', 1), ('earpods', 1), ('campus', 1), ('banging', 1), ('flood', 1), ('comencemos', 1), ('hmifu', 1), ('musbg', 1), ('practically', 2), ('spoiiiiiled', 1), ('prosperous', 1), ('grant', 1), ('sigueme', 1), ('angelbarrios', 2), ('awzshauqbk', 1), ('moronic', 1), ('zlfl', 1), ('yipeeee', 1), ('vans', 1), ('blockbuster', 1), ('abdullahoashraf', 1), ('qyupri', 1), ('orl', 1), ('namast', 1), ('jeancarlos', 1), ('erinohagainhair', 1), ('confident', 1), ('trimmed', 1), ('xfslf', 1), ('sadly', 1), ('dremeledu', 1), ('vaydmdb', 1), ('uqivfvjezm', 1), ('privacy', 1), ('policy', 2), ('styling', 1), ('speaks', 1), ('balloon', 1), ('survivors', 1), ('agoogler', 1), ('googlemmi', 1), ('glow', 1), ('awdqysqlzg', 1), ('xrxazie', 1), ('lumia', 2), ('yellow', 1), ('yourtechcompany', 2), ('iza', 1), ('nuevo', 1), ('juguete', 1), ('berry', 1), ('typing', 1), ('happier', 2), ('attendees', 1), ('jzvc', 1), ('jis', 1), ('graduation', 1), ('yosp', 1), ('elegant', 1), ('lzz', 1), ('nba', 1), ('bryce', 1), ('dejean', 1), ('jones', 1), ('jrdwetxbjo', 1), ('belated', 1), ('nov', 1), ('trigger', 1), ('yrwlft', 1), ('hth', 1), ('carlson', 1), ('walks', 1), ('freshbooks', 1), ('attracting', 1), ('chasing', 2), ('fxo', 1), ('zlrlux', 1), ('flaccid', 1), ('dry', 2), ('thatcutekidant', 1), ('rogeriomartins', 1), ('mais', 1), ('porrada', 1), ('platino', 1), ('proverbs', 1), ('wisdom', 1), ('czarinagizelle', 1), ('tescophoneshop', 1), ('melissadioviopic', 1), ('agzemenxrd', 1), ('elfirmt', 1), ('shisha', 1), ('lairosiel', 1), ('miau', 1), ('gary', 1), ('melissatweets', 1), ('caves', 2), ('islamofascists', 2), ('ima', 1), ('yaacensored', 1), ('inesreyes', 1), ('vegottonight', 1), ('teachers', 1), ('educate', 1), ('minds', 1), ('teacher', 1), ('yhs', 1), ('krkg', 1), ('crusted', 1), ('coil', 1), ('chins', 1), ('zun', 1), ('hhdh', 1), ('dragon', 1), ('xenoverse', 1), ('blew', 1), ('drum', 1), ('static', 1), ('alrdy', 1), ('lfts', 1), ('punishment', 1), ('yesss', 1), ('mzmteotara', 1), ('drake', 1), ('xmax', 1), ('studies', 1), ('evan', 1), ('zzjvgtyaxl', 1), ('unit', 1), ('remotes', 1), ('whoop', 2), ('cubyrinth', 1), ('bee', 2), ('flow', 1), ('starving', 1), ('steak', 1), ('koming', 1), ('ubbles', 1), ('met', 1), ('myphone', 1), ('haircut', 1), ('organiqa', 1), ('czarinap', 1), ('migros', 1), ('manor', 2), ('terrifying', 1), ('writing', 2), ('queen', 1), ('heavy', 3), ('toilet', 1), ('denouncing', 1), ('capturing', 1), ('codling', 1), ('moth', 1), ('ruin', 1), ('pheromone', 1), ('traps', 1), ('hnuxfubzeq', 1), ('vdcsmhaefv', 1), ('marissamf', 1), ('mailbags', 1), ('wags', 1), ('gags', 1), ('lags', 1), ('rags', 1), ('sags', 1), ('haking', 2), ('geisha', 1), ('neapple', 1), ('confidentiality', 1), ('macauleytaylor', 1), ('hzlvjexlvv', 1), ('jim', 1), ('goldman', 1), ('jimgoldman', 1), ('nlaxaufwah', 1), ('cud', 1), ('natgeo', 1), ('memphisbotanicpic', 1), ('iopclziban', 1), ('erie', 2), ('collab', 1), ('emase', 1), ('ogo', 1), ('gkeopw', 1), ('footer', 1), ('rstall', 1), ('eric', 1), ('ona', 1), ('hahahahahah', 1), ('whipped', 1), ('countries', 1), ('twfree', 1), ('nancy', 1), ('searsca', 1), ('kitchener', 1), ('wipxq', 1), ('dfb', 1), ('ypnl', 1), ('logging', 1), ('skullcandy', 1), ('brutal', 1), ('ftw', 1), ('awwww', 1), ('danger', 1), ('addicting', 1), ('packed', 1), ('strategy', 1), ('vkqit', 1), ('gadget', 3), ('discussion', 1), ('popcorn', 1), ('brakes', 1), ('appotment', 1), ('ads', 1), ('sbamfest', 1), ('sneak', 1), ('peek', 1), ('hrvpifp', 1), ('hells', 1), ('hills', 1), ('considered', 1), ('finder', 1), ('explorer', 1), ('macos', 1), ('straightforward', 1), ('fozifauziana', 1), ('taoogy', 1), ('agad', 2), ('sooooooo', 1), ('peteykandola', 1), ('ashleyalexiss', 1), ('accessible', 1), ('devs', 1), ('armbands', 1), ('slimclipcase', 1), ('promotion', 1), ('qumnm', 1), ('prince', 1), ('posts', 2), ('donuts', 1), ('krema', 1), ('kiwi', 1), ('existent', 1), ('honor', 1), ('jojo', 1), ('fletcher', 1), ('county', 1), ('vcq', 1), ('rke', 1), ('reviews', 2), ('untill', 1), ('reaching', 1), ('dgdctp', 1), ('comics', 2), ('prequel', 1), ('comfy', 1), ('boi', 2), ('hdwbrd', 1), ('bmd', 1), ('grrrr', 1), ('promos', 1), ('satisfying', 1), ('acesse', 1), ('returned', 1), ('unrepaired', 1), ('notification', 2), ('oryktnsw', 1), ('witty', 1), ('elizabethan', 1), ('rules', 2), ('emotions', 1), ('nikolivic', 1), ('scott', 1), ('forstall', 1), ('twenty', 1), ('animoji', 1), ('novelty', 1), ('stayed', 1), ('opening', 1), ('acts', 1), ('camila', 1), ('cabello', 1), ('charli', 1), ('xcx', 1), ('reputation', 1), ('nxe', 1), ('xledcz', 1), ('brerlappin', 1), ('dealsplus', 2), ('akhfwnsarb', 1), ('iddq', 1), ('yeu', 1), ('frida', 1), ('kahlo', 1), ('whose', 1), ('portraits', 1), ('nephew', 1), ('jxw', 1), ('fuklay', 1), ('displays', 1), ('lyrics', 1), ('mcelhearn', 1), ('twotimes', 1), ('thames', 1), ('nouveau', 1), ('strandcustoms', 1), ('maggie', 2), ('igtibp', 1), ('qeixp', 1), ('nonsense', 1), ('smiley', 1), ('maratavision', 1), ('speedy', 1), ('nightspic', 1), ('meymjeqs', 1), ('udwimy', 1), ('rumor', 1), ('discipline', 1), ('pops', 1), ('arizona', 1), ('iam', 1), ('gamestop', 1), ('exchanged', 2), ('jacked', 1), ('venom', 1), ('vynw', 1), ('sbgtiixia', 1), ('hooray', 1), ('guyz', 1), ('provide', 1), ('colour', 2), ('giaghani', 1), ('insanely', 1), ('executive', 1), ('gallery', 1), ('remixed', 1), ('rlblzxgxcn', 1), ('gromit', 1), ('rechargeable', 1), ('worldwideshipping', 1), ('xlgmqmvldw', 1), ('sofa', 1), ('bringin', 1), ('sidekick', 1), ('lots', 2), ('alcohol', 1), ('badbadnotgood', 1), ('zfxqo', 1), ('chieftancies', 1), ('pis', 1), ('ties', 1), ('platin', 1), ('kljrivug', 1), ('trillazzbunny', 1), ('che', 1), ('bel', 1), ('poster', 1), ('zglz', 1), ('cwcww', 1), ('printed', 1), ('tested', 1), ('studyyyyyy', 1), ('rebuild', 1), ('zgrcevkvg', 1), ('lamborghini', 1), ('braking', 1), ('beijing', 1), ('fetish', 1), ('restaurant', 1), ('teases', 1), ('lukebagofnails', 1), ('groom', 1), ('hoot', 1), ('technological', 1), ('fqjyvnnh', 1), ('gotten', 1), ('slower', 2), ('bricked', 2), ('charltonbrooker', 1), ('ironic', 1), ('stanbul', 1), ('young', 1), ('pjiwq', 1), ('wtc', 1), ('settle', 1), ('aec', 1), ('ghetto', 1), ('thatgirlleigh', 1), ('graham', 1), ('meghan', 1), ('chelsea', 1), ('nolanseibel', 1), ('shouldnt', 1), ('cannon', 1), ('thislife', 1), ('ogpi', 1), ('cooler', 1), ('godz', 1), ('rvp', 1), ('ruthless', 1), ('illain', 1), ('lggloballtd', 1), ('brussels', 1), ('serge', 1), ('kuc', 1), ('nsgdjh', 1), ('cancan', 1), ('klaverfabrikken', 1), ('edblnrb', 1), ('oona', 1), ('ddfrbk', 1), ('gskxbmkrto', 1), ('wrc', 1), ('ybtrgt', 1), ('bandwagon', 1), ('androids', 2), ('arualcampbell', 1), ('rear', 1), ('introduces', 1), ('inform', 1), ('ukhtxiuz', 1), ('shipments', 1), ('announcement', 1), ('erhm', 1), ('hoes', 1), ('batterys', 1), ('fat', 2), ('dickheads', 1), ('cupertino', 1), ('uab', 1), ('cwo', 1), ('aivshrj', 1), ('quicktime', 2), ('tysonj', 1), ('hypocritical', 1), ('quivering', 1), ('anticipation', 1), ('arrival', 1), ('hopeless', 1), ('dices', 1), ('preguntas', 1), ('tel', 1), ('fono', 1), ('funciona', 1), ('solo', 1), ('conectado', 1), ('electricidad', 1), ('economic', 1), ('situation', 1), ('ringing', 1), ('dlqiygt', 1), ('backing', 1), ('exception', 1), ('calayer', 1), ('layerusescoreimagefilters', 1), ('hijinks', 1), ('ummebjvddm', 1), ('justifies', 1), ('arduous', 1), ('homesharing', 1), ('thenextweb', 1), ('suit', 1), ('sayin', 1), ('rkl', 1), ('tweetdeck', 1), ('urmajesty', 1), ('sire', 1), ('marikitfigueras', 1), ('elx', 1), ('ning', 1), ('wide', 1), ('forth', 1), ('penguins', 2), ('teambringitmike', 1), ('gamescom', 1), ('ssqhh', 1), ('naples', 1), ('awed', 1), ('tara', 1), ('effects', 1), ('depressed', 1), ('bomb', 1), ('crusher', 1), ('skipping', 2), ('weigh', 1), ('clreps', 1), ('survey', 2), ('unleashed', 1), ('uexwx', 1), ('wsgo', 1), ('forums', 1), ('moreso', 1), ('otto', 1), ('parcel', 1), ('jdholic', 1), ('arrrrgggghhhhhhh', 1), ('kickstarter', 1), ('btoglmnozm', 1), ('nouvelles', 1), ('fonctions', 1), ('nex', 1), ('rendent', 1), ('tout', 1), ('wuiiii', 1), ('rvs', 1), ('flipping', 1), ('cenababylover', 1), ('kelly', 1), ('slates', 1), ('cancellation', 1), ('rumours', 1), ('torinkeefer', 1), ('ttjru', 1), ('zxzh', 1), ('leopard', 1), ('inches', 1), ('minite', 1), ('unhappy', 1), ('partners', 1), ('vtquk', 1), ('xluq', 1), ('missouri', 1), ('cysqz', 1), ('xsvs', 1), ('rizetka', 1), ('iyou', 1), ('markoconnor', 1), ('peed', 1), ('cuddled', 1), ('happynewyear', 1), ('newyears', 1), ('mzcxkjuwqf', 1), ('pixad', 1), ('rafcave', 1), ('projector', 1), ('ckkrogh', 1), ('havnefronten', 1), ('aalborg', 1), ('forma', 1), ('doughnut', 1), ('mpqljdbiga', 1), ('offline', 1), ('disc', 1), ('shelf', 1), ('lieee', 1), ('kxzvbuhqoi', 1), ('marilyn', 1), ('couponcode', 1), ('gbjpromo', 1), ('qvqnhniv', 1), ('yureka', 1), ('yuplaygod', 1), ('trillion', 1), ('resistant', 1), ('xufgyzuxca', 1), ('orindidcmp', 1), ('wise', 1), ('bbkz', 1), ('olu', 1), ('lightening', 1), ('missdewlicious', 1), ('active', 1), ('demand', 1), ('raventools', 1), ('ipcjyp', 1), ('toe', 1), ('leeches', 1), ('carved', 1), ('becuase', 1), ('register', 1), ('trello', 1), ('hanogramcase', 1), ('martyarchs', 1), ('lido', 1), ('unplugging', 1), ('fully', 1), ('smarter', 1), ('jennadugray', 1), ('description', 1), ('fixes', 1), ('allow', 1), ('passcode', 1), ('hahahahaha', 1), ('prizes', 1), ('edlitam', 1), ('karma', 1), ('hanged', 1), ('puente', 1), ('alto', 1), ('chile', 1), ('taqds', 1), ('ttv', 1), ('hackers', 1), ('stolen', 3), ('backlit', 1), ('pxbpw', 1), ('bhm', 1), ('fucksing', 1), ('litetally', 1), ('mepic', 1), ('anzde', 1), ('loba', 1), ('atomium', 1), ('dropbox', 2), ('savior', 2), ('hug', 1), ('copycats', 1), ('undoing', 1), ('approve', 1), ('focus', 3), ('irjoqni', 1), ('rsabdallah', 1), ('repostapp', 1), ('munchhhhhh', 1), ('gregory', 1), ('ppi', 2), ('mshin', 1), ('rdxhw', 1), ('wonders', 1), ('conference', 1), ('paps', 1), ('pavements', 1), ('reinvest', 1), ('auyzregk', 1), ('badpic', 1), ('uofnjiuo', 1), ('regarding', 1), ('unsafe', 1), ('ssl', 1), ('certificates', 1), ('ojg', 1), ('loveforgagakiss', 1), ('rope', 1), ('ninja', 1), ('slowhand', 1), ('widgets', 1), ('stocks', 1), ('glance', 1), ('rehearsing', 1), ('mapping', 1), ('googleplay', 1), ('ukjxs', 1), ('elm', 1), ('beaver', 1), ('eggtooth', 1), ('primetime', 1), ('placement', 1), ('elephant', 1), ('ratings', 1), ('tune', 1), ('accepts', 1), ('polymer', 1), ('shaped', 1), ('mullen', 1), ('chinch', 1), ('revolutionizes', 1), ('rooms', 1), ('boredom', 1), ('routor', 1), ('gutting', 1), ('paste', 1), ('anyday', 1), ('sweeten', 1), ('uclahealth', 1), ('jocks', 1), ('inn', 1), ('cdrr', 1), ('rnv', 1), ('wherever', 1), ('bigpieman', 1), ('workin', 1), ('aston', 1), ('urzly', 1), ('darling', 1), ('owuvaiqcy', 1), ('murphyvalerie', 1), ('mcuban', 1), ('signed', 2), ('valaerya', 1), ('musetto', 1), ('bello', 1), ('dcaxketzyf', 1), ('duckies', 1), ('laguna', 1), ('notontwtr', 1), ('worker', 1), ('examinercom', 1), ('aside', 1), ('miso', 1), ('charleston', 1), ('dylann', 1), ('downsizing', 1), ('deliver', 1), ('kpstpxvrkx', 1), ('bxqmqcu', 1), ('amandagrybowski', 1), ('ashole', 1), ('convo', 2), ('mba', 1), ('etty', 1), ('fqxzimo', 1), ('choonming', 1), ('veronica', 1), ('wufffyouuu', 1), ('sadeli', 1), ('brockxerox', 1), ('regent', 1), ('oasis', 1), ('avpn', 1), ('pilgrim', 1), ('shazam', 1), ('solace', 1), ('lately', 1), ('mubarakuae', 1), ('yaleyale', 1), ('gravitaion', 1), ('eubqmvh', 1), ('gains', 1), ('makeup', 1), ('duine', 1), ('beag', 1), ('condom', 1), ('rao', 1), ('umi', 1), ('item', 2), ('legs', 1), ('poetry', 1), ('imagitor', 1), ('adf', 1), ('cgkph', 1), ('lloydyb', 1), ('miejenkinson', 1), ('concede', 1), ('ynpy', 1), ('paperweight', 1), ('tyaiz', 1), ('podcasts', 1), ('ettyv', 1), ('lovee', 1), ('staring', 1), ('integration', 1), ('giveaway', 1), ('kwnmc', 1), ('ghna', 1), ('arielramdeen', 1), ('littlecamacho', 1), ('palms', 1), ('dsc', 1), ('lcd', 2), ('aliciamamo', 1), ('hustle', 1), ('international', 1), ('roaming', 1), ('googlemobile', 1), ('kristibarlow', 1), ('lived', 1), ('wozzagrant', 1), ('trophies', 1), ('swedish', 1), ('representative', 1), ('policies', 1), ('hurt', 1), ('redue', 1), ('nang', 1), ('ting', 1), ('yah', 1), ('sherbzy', 1), ('farmerbaker', 1), ('gents', 1), ('reformat', 1), ('iat', 1), ('provided', 2), ('comms', 1), ('visitthecounty', 1), ('rbbs', 1), ('weapon', 1), ('crumbles', 1), ('camo', 1), ('zwcn', 1), ('elix', 1), ('france', 1), ('dumbfuck', 1), ('motherfuckers', 1), ('damned', 1), ('tkjackson', 1), ('morganlsmith', 1), ('lsinpgzped', 1), ('anaheim', 1), ('vnilmvsw', 1), ('clever', 1), ('bladdy', 1), ('ahhhh', 2), ('berrrr', 1), ('mums', 1), ('ashed', 1), ('shock', 1), ('bligk', 1), ('jaflautt', 1), ('circletwelve', 1), ('copycat', 1), ('weight', 1), ('inlove', 1), ('aligned', 1), ('tot', 1), ('cinnam', 1), ('isuck', 1), ('manufacturers', 1), ('spoil', 1), ('murder', 1), ('conterfeit', 1), ('qmfnk', 1), ('epbexrz', 1), ('hxcxtmlv', 1), ('mornin', 1), ('subjects', 1), ('yjtpkkfmcs', 1), ('vcnqt', 1), ('dam', 1), ('wana', 1), ('ultraviolet', 1), ('enginerring', 1), ('flappy', 1), ('highscore', 1), ('vhmkfy', 1), ('tumble', 1), ('dryer', 1), ('occurred', 1), ('iwant', 1), ('resolved', 1), ('alexandraeton', 1), ('bbcwatchdog', 1), ('bcoz', 1), ('ultrabook', 1), ('pages', 2), ('rock', 2), ('movement', 1), ('hybrid', 1), ('innovates', 1), ('execs', 1), ('pqtsmrqka', 1), ('bharat', 1), ('bioshock', 1), ('rapture', 1), ('bizarrecomp', 1), ('fob', 1), ('jamesyblade', 1), ('brocklesby', 1), ('ignoring', 1), ('bagi', 1), ('pin', 1), ('donk', 1), ('los', 1), ('menores', 1), ('bullybrothers', 1), ('moonbeamonline', 1), ('hotyootoo', 2), ('jet', 1), ('setted', 1), ('wckt', 1), ('qty', 1), ('slipcover', 1), ('hover', 1), ('plover', 1), ('glover', 1), ('kqjyojnqne', 1), ('kaytee', 1), ('roanwilliams', 1), ('surprisingly', 1), ('recorded', 1), ('xtzcin', 1), ('expires', 1), ('ixddugl', 1), ('ray', 1), ('icrognz', 1), ('mdqdes', 1), ('whoever', 1), ('maevtkl', 1), ('supposed', 1), ('des', 1), ('specialiste', 1), ('excitement', 1), ('unboxtherapy', 1), ('scamsters', 1), ('advertised', 1), ('platforms', 1), ('correction', 1), ('englisch', 1), ('indonesia', 1), ('qualify', 2), ('sponsored', 1), ('soffici', 1), ('rising', 1), ('pna', 1), ('suwa', 1), ('sandip', 1), ('bose', 1), ('sandipb', 1), ('hamiltons', 1), ('crammed', 1), ('grc', 1), ('hbsc', 1), ('payments', 1), ('bank', 1), ('blinding', 1), ('dots', 1), ('bottom', 1), ('whatcensored', 1), ('license', 1), ('qajcwjtelv', 1), ('transitoo', 1), ('comic', 1), ('cellist', 1), ('moda', 1), ('invite', 1), ('exchange', 2), ('sschughesb', 1), ('heybpresto', 1), ('michaeljbooker', 1), ('glsgarnz', 1), ('alryt', 1), ('lie', 2), ('tommy', 1), ('xyluaa', 1), ('mbj', 1), ('ilmi', 1), ('propriety', 1), ('maycatron', 1), ('saqibirfan', 1), ('topgear', 1), ('paris', 1), ('chronicles', 1), ('violence', 1), ('horor', 1), ('bsi', 1), ('cmos', 1), ('optical', 1), ('sabrina', 1), ('meb', 1), ('algerian', 1), ('cardiff', 1), ('goodfriday', 1), ('bagel', 1), ('tube', 1), ('axhqqwwf', 1), ('bitched', 1), ('installation', 1), ('manufacturer', 1), ('assistance', 1), ('applegram', 1), ('hunting', 1), ('sloan', 1), ('lovescudi', 1), ('functional', 1), ('spoilt', 1), ('casing', 1), ('davidllo', 1), ('essentials', 1), ('gufo', 1), ('peppezz', 1), ('verdes', 1), ('canterbury', 1), ('mrjamesmay', 1), ('atop', 1), ('ultra', 2), ('thin', 1), ('transparent', 1), ('coworkers', 1), ('snacks', 1), ('configs', 1), ('flavors', 1), ('aurora', 1), ('gra', 1), ('febypessy', 2), ('vanod', 1), ('youre', 1), ('telliing', 1), ('athlete', 1), ('diwali', 1), ('breckfast', 1), ('stallingborough', 1), ('bono', 1), ('necessities', 1), ('clips', 1), ('moi', 1), ('desi', 1), ('couture', 1), ('recall', 1), ('opwk', 1), ('jgtec', 1), ('cfi', 1), ('mkor', 1), ('whistling', 1), ('ijailbreak', 1), ('vahid', 1), ('jose', 1), ('candy', 1), ('adam', 1), ('sandler', 1), ('qvb', 1), ('tardie', 1), ('cap', 1), ('interview', 1), ('karl', 1), ('wiggins', 1), ('phoenix', 1), ('mars', 1), ('lander', 1), ('marcalleraee', 1), ('habbosamp', 1), ('marc', 1), ('communication', 1), ('tear', 1), ('koncno', 1), ('prisel', 1), ('moj', 1), ('nazaj', 1), ('servisa', 1), ('sibling', 1), ('serious', 1), ('probando', 2), ('jadorefancy', 1), ('yigifr', 1), ('tbg', 1), ('victory', 2), ('thaisferr', 1), ('touchdown', 1), ('brianna', 1), ('reshuan', 1), ('historians', 1), ('liens', 1), ('aeons', 1), ('paeans', 1), ('thabsizzle', 1), ('iamfarah', 1), ('ahahah', 1), ('cptnvkrgv', 1), ('gev', 1), ('loadsa', 1), ('sherweezysf', 1), ('mah', 1), ('nuthin', 1), ('sherweezy', 1), ('ridin', 1), ('folders', 1), ('ment', 1), ('unbreakable', 1), ('smashed', 1), ('locks', 1), ('queenlina', 2), ('morons', 1), ('keyone', 1), ('qwerty', 1), ('mcaldecutt', 1), ('grew', 1), ('trendy', 1), ('forgo', 1), ('traditional', 1), ('tart', 1), ('apbssk', 1), ('creditcard', 1), ('collecting', 1), ('minis', 1), ('moved', 1), ('multiples', 1), ('everyones', 1), ('wind', 1), ('ojqpwqdzej', 1), ('haare', 1), ('patiently', 1), ('alas', 1), ('backordered', 1), ('ithili', 1), ('stopping', 1), ('drawing', 1), ('tpu', 1), ('silicone', 1), ('various', 1), ('poke', 1), ('canyon', 1), ('firm', 1), ('fiesta', 1), ('matrix', 1), ('upscale', 1), ('venetian', 1), ('venice', 1), ('stripe', 1), ('tough', 1), ('justin', 1), ('preorder', 1), ('killer', 1), ('zunjndm', 1), ('assault', 1), ('stilll', 1), ('katiewertheimerr', 1), ('pauldjryan', 1), ('michaelkors', 1), ('ang', 1), ('rolls', 1), ('cellulite', 1), ('kim', 1), ('bhsdirect', 1), ('mnuwsaj', 1), ('paaxk', 1), ('ziy', 1), ('slowwww', 1), ('extensions', 1), ('bunynyid', 1), ('poy', 1), ('elvis', 1), ('nat', 1), ('mrwamcfgvp', 1), ('hwglu', 1), ('aunt', 1), ('sucked', 1), ('ils', 1), ('sont', 1), ('content', 1), ('recited', 1), ('sited', 1), ('sided', 1), ('glided', 1), ('chided', 1), ('guided', 1), ('btylm', 1), ('rcpx', 1), ('cheating', 1), ('kieran', 1), ('nisbet', 1), ('rude', 1), ('lengthy', 1), ('refurb', 1), ('reg', 1), ('ends', 1), ('vdsh', 1), ('xehw', 1), ('crystals', 1), ('frog', 1), ('linen', 1), ('lace', 1), ('kaptain', 1), ('kirky', 1), ('redo', 1), ('hgomez', 1), ('university', 1), ('hokmhpaiiy', 1), ('lover', 1), ('awolnation', 1), ('sail', 1), ('aged', 1), ('walking', 1), ('ruckus', 1), ('mydog', 1), ('patch', 1), ('reddit', 1), ('lizzard', 1), ('boxingday', 1), ('birthdays', 1), ('skc', 1), ('simsimi', 1), ('bearlylee', 1), ('xfl', 1), ('eosb', 1), ('organic', 1), ('cleaners', 1), ('captivate', 1), ('glide', 1), ('jewish', 1), ('singles', 1), ('memberships', 1), ('hiding', 1), ('swindonred', 1), ('tmubxe', 1), ('hockey', 1), ('spontaneously', 1), ('melts', 1), ('leaks', 1), ('acid', 1), ('lego', 1), ('soups', 1), ('mixed', 1), ('hamfpr', 1), ('doi', 1), ('debuts', 1), ('mfok', 1), ('xpwlp', 1), ('slept', 1), ('twinings', 1), ('nswrl', 1), ('pipeline', 1), ('sal', 1), ('eyq', 1), ('dwgxy', 1), ('seth', 1), ('dawes', 1), ('wohoooo', 1), ('grr', 1), ('chai', 1), ('bangalore', 1), ('finals', 1), ('draws', 1), ('vip', 1), ('jadejonestkd', 1), ('deab', 1), ('dissidia', 1), ('ffoo', 1), ('detailed', 1), ('oliver', 1), ('happyplugs', 1), ('colorsdiariess', 1), ('copsavxmov', 1), ('hanep', 1), ('kamaldeep', 1), ('owes', 1), ('tsfxfw', 1), ('jzp', 1), ('alot', 1), ('fixe', 1), ('rself', 1), ('max', 1), ('carolanne', 1), ('teo', 1), ('jasmin', 1), ('heelsongasoline', 1), ('hchhvwux', 1), ('jhez', 1), ('macocv', 1), ('spot', 1), ('stefan', 1), ('mantha', 1), ('kahapon', 1), ('xempre', 1), ('headset', 1), ('vogel', 1), ('fbch', 1), ('elevator', 1), ('sonic', 1), ('wnkkd', 1), ('xnd', 1), ('chalk', 1), ('rcwilley', 1), ('multiple', 1), ('hqduxzvg', 1), ('hyped', 1), ('tat', 1), ('national', 1), ('newspaper', 1), ('shakstarr', 1), ('yeahhhh', 1), ('exploiters', 1), ('novi', 1), ('ljfbnxw', 1), ('ender', 1), ('reflect', 1), ('lytirdjpzj', 1), ('cloudsnthesky', 1), ('gab', 1), ('emilie', 1), ('sunpolis', 1), ('hqmbkjuc', 1), ('chances', 1), ('losts', 1), ('povrjx', 1), ('jth', 1), ('hob', 1), ('pumped', 1), ('mylittlepony', 1), ('germaneigh', 1), ('consider', 1), ('bureaucratic', 1), ('chavez', 1), ('goverment', 1), ('bwdiogehdx', 1), ('bkclx', 1), ('spaceinvaderfm', 1), ('blade', 1), ('aid', 1), ('ade', 1), ('lade', 1), ('raid', 1), ('maid', 1), ('protools', 1), ('server', 1), ('urghhh', 1), ('anarchistweeter', 1), ('machinery', 1), ('sandart', 1), ('debug', 2), ('canary', 1), ('islands', 1), ('landscapes', 1), ('chin', 1), ('launched', 1), ('delhi', 1)])"
      ]
     },
     "execution_count": 129,
     "metadata": {},
     "output_type": "execute_result"
    }
   ],
   "source": [
    "x_tokenizer.word_counts.items()"
   ]
  },
  {
   "cell_type": "code",
   "execution_count": 130,
   "id": "87fbfeef",
   "metadata": {},
   "outputs": [
    {
     "name": "stdout",
     "output_type": "stream",
     "text": [
      "1862\n"
     ]
    }
   ],
   "source": [
    "thresh = 3\n",
    "\n",
    "cnt=0\n",
    "for key,value in x_tokenizer.word_counts.items():\n",
    "  if value>=thresh:\n",
    "    cnt=cnt+1\n",
    "\n",
    "print(cnt)"
   ]
  },
  {
   "cell_type": "code",
   "execution_count": 131,
   "id": "5bfbaeaa",
   "metadata": {},
   "outputs": [],
   "source": [
    "# prepare the tokenizer again\n",
    "x_tokenizer = Tokenizer(num_words=cnt,oov_token='unk')\n",
    "\n",
    "#prepare vocabulary\n",
    "x_tokenizer.fit_on_texts(x_tr)"
   ]
  },
  {
   "cell_type": "code",
   "execution_count": null,
   "id": "72c6ac94",
   "metadata": {},
   "outputs": [],
   "source": []
  },
  {
   "cell_type": "code",
   "execution_count": null,
   "id": "42ebce34",
   "metadata": {},
   "outputs": [],
   "source": []
  },
  {
   "cell_type": "code",
   "execution_count": 132,
   "id": "1b0ec98e",
   "metadata": {},
   "outputs": [],
   "source": [
    "# maximum sequence length allowed\n",
    "max_len = 12\n",
    "\n",
    "#convert text sequences into integer sequences\n",
    "x_tr_seq = x_tokenizer.texts_to_sequences(x_tr) \n",
    "x_val_seq = x_tokenizer.texts_to_sequences(x_val)\n",
    "\n",
    "#padding up with zero \n",
    "x_tr_seq = pad_sequences(x_tr_seq,  padding='post', maxlen=max_len)\n",
    "x_val_seq = pad_sequences(x_val_seq, padding='post', maxlen=max_len)"
   ]
  },
  {
   "cell_type": "code",
   "execution_count": null,
   "id": "4b25bd80",
   "metadata": {},
   "outputs": [],
   "source": []
  },
  {
   "cell_type": "code",
   "execution_count": 145,
   "id": "7eef687d",
   "metadata": {},
   "outputs": [
    {
     "data": {
      "text/plain": [
       "(6336, 12)"
      ]
     },
     "execution_count": 145,
     "metadata": {},
     "output_type": "execute_result"
    }
   ],
   "source": [
    "x_tr_seq.shape"
   ]
  },
  {
   "cell_type": "code",
   "execution_count": 134,
   "id": "d3bdebcf",
   "metadata": {},
   "outputs": [],
   "source": [
    "# rus = RandomUnderSampler(random_state=0)\n",
    "# x_tr_seq, y_tr = rus.fit_resample(x_tr_seq, y_tr)"
   ]
  },
  {
   "cell_type": "code",
   "execution_count": 135,
   "id": "5c5e83a7",
   "metadata": {},
   "outputs": [
    {
     "name": "stdout",
     "output_type": "stream",
     "text": [
      "1621\n",
      "4715\n"
     ]
    }
   ],
   "source": [
    "print(sum(y_tr==1))\n",
    "print(sum(y_tr==0))"
   ]
  },
  {
   "cell_type": "code",
   "execution_count": null,
   "id": "f68e6925",
   "metadata": {},
   "outputs": [],
   "source": []
  },
  {
   "cell_type": "code",
   "execution_count": null,
   "id": "11a6b5b6",
   "metadata": {},
   "outputs": [],
   "source": []
  },
  {
   "cell_type": "code",
   "execution_count": null,
   "id": "ef73357f",
   "metadata": {},
   "outputs": [],
   "source": []
  },
  {
   "cell_type": "code",
   "execution_count": 136,
   "id": "d8980995",
   "metadata": {},
   "outputs": [
    {
     "data": {
      "text/plain": [
       "8543"
      ]
     },
     "execution_count": 136,
     "metadata": {},
     "output_type": "execute_result"
    }
   ],
   "source": [
    "#no. of unique words\n",
    "x_voc_size = len(x_tokenizer.word_index) + 1\n",
    "x_voc_size"
   ]
  },
  {
   "cell_type": "code",
   "execution_count": 137,
   "id": "ed972fbf",
   "metadata": {},
   "outputs": [
    {
     "data": {
      "text/plain": [
       "array([59, 12,  0,  0,  0,  0,  0,  0,  0,  0,  0,  0])"
      ]
     },
     "execution_count": 137,
     "metadata": {},
     "output_type": "execute_result"
    }
   ],
   "source": [
    "x_tr_seq[0]"
   ]
  },
  {
   "cell_type": "code",
   "execution_count": 138,
   "id": "782c4f44",
   "metadata": {},
   "outputs": [],
   "source": [
    "from tensorflow.keras.models import *\n",
    "from tensorflow.keras.layers import *\n",
    "from tensorflow.keras.callbacks import *\n",
    "from tensorflow.keras import backend as K\n",
    "from tensorflow.keras.callbacks import EarlyStopping"
   ]
  },
  {
   "cell_type": "code",
   "execution_count": 139,
   "id": "7a2dfa18",
   "metadata": {},
   "outputs": [],
   "source": [
    "import tensorflow as tf"
   ]
  },
  {
   "cell_type": "code",
   "execution_count": 140,
   "id": "85261798",
   "metadata": {},
   "outputs": [],
   "source": [
    "def f1_score_weighted(y_true, y_pred):\n",
    "    # Convert predictions to binary (0 or 1)\n",
    "    y_pred = tf.round(y_pred)\n",
    "\n",
    "    # Calculate precision and recall\n",
    "    tp = K.sum(K.cast(y_true * y_pred, 'float'), axis=0)\n",
    "    fp = K.sum(K.cast((1 - y_true) * y_pred, 'float'), axis=0)\n",
    "    fn = K.sum(K.cast(y_true * (1 - y_pred), 'float'), axis=0)\n",
    "\n",
    "    precision = tp / (tp + fp + K.epsilon())\n",
    "    recall = tp / (tp + fn + K.epsilon())\n",
    "\n",
    "    # Calculate F1 score\n",
    "    f1 = 2 * precision * recall / (precision + recall + K.epsilon())\n",
    "\n",
    "    # Calculate weighted F1 score\n",
    "    weights = K.sum(y_true, axis=0)\n",
    "    weighted_f1 = K.sum(weights * f1) / K.sum(weights + K.epsilon())\n",
    "\n",
    "    return weighted_f1\n"
   ]
  },
  {
   "cell_type": "code",
   "execution_count": 141,
   "id": "3229042f",
   "metadata": {},
   "outputs": [],
   "source": [
    "#sequential model\n",
    "model = Sequential()\n",
    "\n",
    "#embedding layer\n",
    "model.add(Embedding(x_voc_size, 50, input_shape=(max_len,), mask_zero=True))\n",
    "\n",
    "#rnn layer\n",
    "model.add(SimpleRNN(12,activation='relu'))\n",
    "\n",
    "#dense layer\n",
    "model.add(Dense(6,activation='relu')) \n",
    "\n",
    "#output layer\n",
    "model.add(Dense(1,activation='sigmoid'))"
   ]
  },
  {
   "cell_type": "code",
   "execution_count": 142,
   "id": "3411af21",
   "metadata": {},
   "outputs": [
    {
     "name": "stdout",
     "output_type": "stream",
     "text": [
      "Model: \"sequential_3\"\n",
      "_________________________________________________________________\n",
      " Layer (type)                Output Shape              Param #   \n",
      "=================================================================\n",
      " embedding_3 (Embedding)     (None, 12, 50)            427150    \n",
      "                                                                 \n",
      " simple_rnn_3 (SimpleRNN)    (None, 12)                756       \n",
      "                                                                 \n",
      " dense_6 (Dense)             (None, 6)                 78        \n",
      "                                                                 \n",
      " dense_7 (Dense)             (None, 1)                 7         \n",
      "                                                                 \n",
      "=================================================================\n",
      "Total params: 427,991\n",
      "Trainable params: 427,991\n",
      "Non-trainable params: 0\n",
      "_________________________________________________________________\n"
     ]
    }
   ],
   "source": [
    "model.summary()"
   ]
  },
  {
   "cell_type": "code",
   "execution_count": 143,
   "id": "f788e2e0",
   "metadata": {},
   "outputs": [],
   "source": [
    "#define optimizer and loss\n",
    "model.compile(optimizer='adam',loss='binary_crossentropy',metrics=[f1_score_weighted])\n",
    "# model.compile(optimizer='adam',loss='binary_crossentropy',metrics=['accuracy'])"
   ]
  },
  {
   "cell_type": "code",
   "execution_count": 144,
   "id": "7d3ac0e2",
   "metadata": {},
   "outputs": [],
   "source": [
    "early_stopping = EarlyStopping(monitor='val_loss', patience=3, restore_best_weights=True)"
   ]
  },
  {
   "cell_type": "code",
   "execution_count": 146,
   "id": "6435cb31",
   "metadata": {},
   "outputs": [
    {
     "name": "stdout",
     "output_type": "stream",
     "text": [
      "Epoch 1/20\n",
      "50/50 [==============================] - 5s 31ms/step - loss: 0.6276 - f1_score_weighted: 0.0674 - val_loss: 0.5552 - val_f1_score_weighted: 0.0000e+00\n",
      "Epoch 2/20\n",
      "50/50 [==============================] - 1s 18ms/step - loss: 0.4890 - f1_score_weighted: 0.0014 - val_loss: 0.4591 - val_f1_score_weighted: 0.0320\n",
      "Epoch 3/20\n",
      "50/50 [==============================] - 1s 18ms/step - loss: 0.3763 - f1_score_weighted: 0.4973 - val_loss: 0.3849 - val_f1_score_weighted: 0.6087\n",
      "Epoch 4/20\n",
      "50/50 [==============================] - 1s 19ms/step - loss: 0.2884 - f1_score_weighted: 0.7976 - val_loss: 0.3617 - val_f1_score_weighted: 0.7013\n",
      "Epoch 5/20\n",
      "50/50 [==============================] - 1s 18ms/step - loss: 0.2283 - f1_score_weighted: 0.8555 - val_loss: 0.3742 - val_f1_score_weighted: 0.7125\n",
      "Epoch 6/20\n",
      "50/50 [==============================] - 1s 18ms/step - loss: 0.1908 - f1_score_weighted: 0.8739 - val_loss: 0.3954 - val_f1_score_weighted: 0.7103\n",
      "Epoch 7/20\n",
      "50/50 [==============================] - 1s 18ms/step - loss: 0.1630 - f1_score_weighted: 0.8983 - val_loss: 0.4263 - val_f1_score_weighted: 0.7093\n"
     ]
    },
    {
     "data": {
      "text/plain": [
       "<keras.callbacks.History at 0x232ce92f970>"
      ]
     },
     "execution_count": 146,
     "metadata": {},
     "output_type": "execute_result"
    }
   ],
   "source": [
    "#train the model \n",
    "model.fit(x_tr_seq, y_tr, batch_size=128, epochs=20, verbose=1, validation_data=(x_val_seq, y_val), callbacks=[early_stopping])"
   ]
  },
  {
   "cell_type": "code",
   "execution_count": 147,
   "id": "bb36dce1",
   "metadata": {},
   "outputs": [
    {
     "name": "stdout",
     "output_type": "stream",
     "text": [
      "50/50 [==============================] - 0s 3ms/step\n"
     ]
    }
   ],
   "source": [
    "y_val_pred = model.predict(x_val_seq)\n",
    "y_val_pred = (y_val_pred > 0.5).astype(int)"
   ]
  },
  {
   "cell_type": "code",
   "execution_count": 148,
   "id": "e3b4b79b",
   "metadata": {},
   "outputs": [
    {
     "data": {
      "text/plain": [
       "array([0, 1, 0, ..., 0, 0, 0], dtype=int64)"
      ]
     },
     "execution_count": 148,
     "metadata": {},
     "output_type": "execute_result"
    }
   ],
   "source": [
    "y_val"
   ]
  },
  {
   "cell_type": "code",
   "execution_count": 149,
   "id": "23e93892",
   "metadata": {},
   "outputs": [
    {
     "data": {
      "text/plain": [
       "array([[0],\n",
       "       [1],\n",
       "       [0],\n",
       "       ...,\n",
       "       [0],\n",
       "       [0],\n",
       "       [0]])"
      ]
     },
     "execution_count": 149,
     "metadata": {},
     "output_type": "execute_result"
    }
   ],
   "source": [
    "y_val_pred"
   ]
  },
  {
   "cell_type": "code",
   "execution_count": 150,
   "id": "500cfeb2",
   "metadata": {},
   "outputs": [],
   "source": [
    "from sklearn.metrics import confusion_matrix, classification_report"
   ]
  },
  {
   "cell_type": "code",
   "execution_count": 151,
   "id": "40c75836",
   "metadata": {},
   "outputs": [
    {
     "data": {
      "text/plain": [
       "array([[1047,  132],\n",
       "       [ 111,  294]], dtype=int64)"
      ]
     },
     "execution_count": 151,
     "metadata": {},
     "output_type": "execute_result"
    }
   ],
   "source": [
    "confusion_matrix(y_val, y_val_pred)"
   ]
  },
  {
   "cell_type": "code",
   "execution_count": 152,
   "id": "26bb88ac",
   "metadata": {},
   "outputs": [
    {
     "name": "stdout",
     "output_type": "stream",
     "text": [
      "              precision    recall  f1-score   support\n",
      "\n",
      "           0       0.90      0.89      0.90      1179\n",
      "           1       0.69      0.73      0.71       405\n",
      "\n",
      "    accuracy                           0.85      1584\n",
      "   macro avg       0.80      0.81      0.80      1584\n",
      "weighted avg       0.85      0.85      0.85      1584\n",
      "\n"
     ]
    }
   ],
   "source": [
    "print(classification_report(y_val, y_val_pred))"
   ]
  },
  {
   "cell_type": "code",
   "execution_count": null,
   "id": "ad3e10c5",
   "metadata": {},
   "outputs": [],
   "source": []
  },
  {
   "cell_type": "code",
   "execution_count": 153,
   "id": "717a46c4",
   "metadata": {},
   "outputs": [
    {
     "name": "stdout",
     "output_type": "stream",
     "text": [
      "198/198 [==============================] - 1s 3ms/step\n"
     ]
    }
   ],
   "source": [
    "y_train_pred = model.predict(x_tr_seq)\n",
    "y_train_pred = (y_train_pred > 0.5).astype(int)"
   ]
  },
  {
   "cell_type": "code",
   "execution_count": 154,
   "id": "fdaad347",
   "metadata": {},
   "outputs": [
    {
     "data": {
      "text/plain": [
       "array([0, 1, 0, ..., 0, 1, 0], dtype=int64)"
      ]
     },
     "execution_count": 154,
     "metadata": {},
     "output_type": "execute_result"
    }
   ],
   "source": [
    "y_tr"
   ]
  },
  {
   "cell_type": "code",
   "execution_count": 155,
   "id": "95a15444",
   "metadata": {},
   "outputs": [
    {
     "data": {
      "text/plain": [
       "array([[0],\n",
       "       [0],\n",
       "       [0],\n",
       "       ...,\n",
       "       [0],\n",
       "       [0],\n",
       "       [0]])"
      ]
     },
     "execution_count": 155,
     "metadata": {},
     "output_type": "execute_result"
    }
   ],
   "source": [
    "y_train_pred"
   ]
  },
  {
   "cell_type": "code",
   "execution_count": 156,
   "id": "1df3a5c8",
   "metadata": {},
   "outputs": [
    {
     "data": {
      "text/plain": [
       "array([[4415,  300],\n",
       "       [ 193, 1428]], dtype=int64)"
      ]
     },
     "execution_count": 156,
     "metadata": {},
     "output_type": "execute_result"
    }
   ],
   "source": [
    "confusion_matrix(y_tr, y_train_pred)"
   ]
  },
  {
   "cell_type": "code",
   "execution_count": 157,
   "id": "d63206eb",
   "metadata": {},
   "outputs": [
    {
     "name": "stdout",
     "output_type": "stream",
     "text": [
      "              precision    recall  f1-score   support\n",
      "\n",
      "           0       0.96      0.94      0.95      4715\n",
      "           1       0.83      0.88      0.85      1621\n",
      "\n",
      "    accuracy                           0.92      6336\n",
      "   macro avg       0.89      0.91      0.90      6336\n",
      "weighted avg       0.92      0.92      0.92      6336\n",
      "\n"
     ]
    }
   ],
   "source": [
    "print(classification_report(y_tr, y_train_pred))"
   ]
  },
  {
   "cell_type": "code",
   "execution_count": 159,
   "id": "7666ec9e",
   "metadata": {},
   "outputs": [
    {
     "data": {
      "text/html": [
       "<div>\n",
       "<style scoped>\n",
       "    .dataframe tbody tr th:only-of-type {\n",
       "        vertical-align: middle;\n",
       "    }\n",
       "\n",
       "    .dataframe tbody tr th {\n",
       "        vertical-align: top;\n",
       "    }\n",
       "\n",
       "    .dataframe thead th {\n",
       "        text-align: right;\n",
       "    }\n",
       "</style>\n",
       "<table border=\"1\" class=\"dataframe\">\n",
       "  <thead>\n",
       "    <tr style=\"text-align: right;\">\n",
       "      <th></th>\n",
       "      <th>id</th>\n",
       "      <th>label</th>\n",
       "    </tr>\n",
       "  </thead>\n",
       "  <tbody>\n",
       "    <tr>\n",
       "      <th>0</th>\n",
       "      <td>7921</td>\n",
       "      <td>0</td>\n",
       "    </tr>\n",
       "    <tr>\n",
       "      <th>1</th>\n",
       "      <td>7922</td>\n",
       "      <td>0</td>\n",
       "    </tr>\n",
       "    <tr>\n",
       "      <th>2</th>\n",
       "      <td>7923</td>\n",
       "      <td>0</td>\n",
       "    </tr>\n",
       "    <tr>\n",
       "      <th>3</th>\n",
       "      <td>7924</td>\n",
       "      <td>0</td>\n",
       "    </tr>\n",
       "    <tr>\n",
       "      <th>4</th>\n",
       "      <td>7925</td>\n",
       "      <td>0</td>\n",
       "    </tr>\n",
       "  </tbody>\n",
       "</table>\n",
       "</div>"
      ],
      "text/plain": [
       "     id  label\n",
       "0  7921      0\n",
       "1  7922      0\n",
       "2  7923      0\n",
       "3  7924      0\n",
       "4  7925      0"
      ]
     },
     "execution_count": 159,
     "metadata": {},
     "output_type": "execute_result"
    }
   ],
   "source": [
    "df_sa = pd.read_csv('sample_submission_LnhVWA4.csv')\n",
    "df_sa.head()"
   ]
  },
  {
   "cell_type": "code",
   "execution_count": 160,
   "id": "ea8cbe5a",
   "metadata": {},
   "outputs": [
    {
     "data": {
      "text/html": [
       "<div>\n",
       "<style scoped>\n",
       "    .dataframe tbody tr th:only-of-type {\n",
       "        vertical-align: middle;\n",
       "    }\n",
       "\n",
       "    .dataframe tbody tr th {\n",
       "        vertical-align: top;\n",
       "    }\n",
       "\n",
       "    .dataframe thead th {\n",
       "        text-align: right;\n",
       "    }\n",
       "</style>\n",
       "<table border=\"1\" class=\"dataframe\">\n",
       "  <thead>\n",
       "    <tr style=\"text-align: right;\">\n",
       "      <th></th>\n",
       "      <th>id</th>\n",
       "      <th>tweet</th>\n",
       "    </tr>\n",
       "  </thead>\n",
       "  <tbody>\n",
       "    <tr>\n",
       "      <th>0</th>\n",
       "      <td>7921</td>\n",
       "      <td>I hate the new #iphone upgrade. Won't let me download apps. #ugh #apple sucks</td>\n",
       "    </tr>\n",
       "    <tr>\n",
       "      <th>1</th>\n",
       "      <td>7922</td>\n",
       "      <td>currently shitting my fucking pants. #apple #iMac #cashmoney #raddest #swagswagswag http://instagr.am/p/UUIS0bIBZo/</td>\n",
       "    </tr>\n",
       "    <tr>\n",
       "      <th>2</th>\n",
       "      <td>7923</td>\n",
       "      <td>I'd like to puts some CD-ROMS on my iPad, is that possible?' — Yes, but wouldn't that block the screen?\\n</td>\n",
       "    </tr>\n",
       "    <tr>\n",
       "      <th>3</th>\n",
       "      <td>7924</td>\n",
       "      <td>My ipod is officially dead. I lost all my pictures and videos from the 1D and 5sos concert,and from Vet Camp #hatinglife #sobbing</td>\n",
       "    </tr>\n",
       "    <tr>\n",
       "      <th>4</th>\n",
       "      <td>7925</td>\n",
       "      <td>Been fighting iTunes all night! I only want the music I $&amp;@*# paid for</td>\n",
       "    </tr>\n",
       "  </tbody>\n",
       "</table>\n",
       "</div>"
      ],
      "text/plain": [
       "     id  \\\n",
       "0  7921   \n",
       "1  7922   \n",
       "2  7923   \n",
       "3  7924   \n",
       "4  7925   \n",
       "\n",
       "                                                                                                                               tweet  \n",
       "0                                                      I hate the new #iphone upgrade. Won't let me download apps. #ugh #apple sucks  \n",
       "1                currently shitting my fucking pants. #apple #iMac #cashmoney #raddest #swagswagswag http://instagr.am/p/UUIS0bIBZo/  \n",
       "2                          I'd like to puts some CD-ROMS on my iPad, is that possible?' — Yes, but wouldn't that block the screen?\\n  \n",
       "3  My ipod is officially dead. I lost all my pictures and videos from the 1D and 5sos concert,and from Vet Camp #hatinglife #sobbing  \n",
       "4                                                             Been fighting iTunes all night! I only want the music I $&@*# paid for  "
      ]
     },
     "execution_count": 160,
     "metadata": {},
     "output_type": "execute_result"
    }
   ],
   "source": [
    "df_t = pd.read_csv('test_12QyDcx.csv')\n",
    "df_t.head()"
   ]
  },
  {
   "cell_type": "code",
   "execution_count": 161,
   "id": "fb371ea8",
   "metadata": {},
   "outputs": [],
   "source": [
    "df_t['cleaned_tweet'] = df_t['tweet'].apply(cleaner)"
   ]
  },
  {
   "cell_type": "code",
   "execution_count": 162,
   "id": "5824ffea",
   "metadata": {},
   "outputs": [],
   "source": [
    "df_t['cleaned_tweet'] = df_t['cleaned_tweet'].apply(remove_stopwords)"
   ]
  },
  {
   "cell_type": "code",
   "execution_count": 163,
   "id": "09962337",
   "metadata": {},
   "outputs": [
    {
     "data": {
      "text/html": [
       "<div>\n",
       "<style scoped>\n",
       "    .dataframe tbody tr th:only-of-type {\n",
       "        vertical-align: middle;\n",
       "    }\n",
       "\n",
       "    .dataframe tbody tr th {\n",
       "        vertical-align: top;\n",
       "    }\n",
       "\n",
       "    .dataframe thead th {\n",
       "        text-align: right;\n",
       "    }\n",
       "</style>\n",
       "<table border=\"1\" class=\"dataframe\">\n",
       "  <thead>\n",
       "    <tr style=\"text-align: right;\">\n",
       "      <th></th>\n",
       "      <th>id</th>\n",
       "      <th>tweet</th>\n",
       "      <th>cleaned_tweet</th>\n",
       "    </tr>\n",
       "  </thead>\n",
       "  <tbody>\n",
       "    <tr>\n",
       "      <th>0</th>\n",
       "      <td>7921</td>\n",
       "      <td>I hate the new #iphone upgrade. Won't let me download apps. #ugh #apple sucks</td>\n",
       "      <td>hate new upgrade let download apps sucks</td>\n",
       "    </tr>\n",
       "    <tr>\n",
       "      <th>1</th>\n",
       "      <td>7922</td>\n",
       "      <td>currently shitting my fucking pants. #apple #iMac #cashmoney #raddest #swagswagswag http://instagr.am/p/UUIS0bIBZo/</td>\n",
       "      <td>currently shitting fucking pants</td>\n",
       "    </tr>\n",
       "    <tr>\n",
       "      <th>2</th>\n",
       "      <td>7923</td>\n",
       "      <td>I'd like to puts some CD-ROMS on my iPad, is that possible?' — Yes, but wouldn't that block the screen?\\n</td>\n",
       "      <td>like puts roms ipad possible yes would block screen</td>\n",
       "    </tr>\n",
       "    <tr>\n",
       "      <th>3</th>\n",
       "      <td>7924</td>\n",
       "      <td>My ipod is officially dead. I lost all my pictures and videos from the 1D and 5sos concert,and from Vet Camp #hatinglife #sobbing</td>\n",
       "      <td>ipod officially dead lost pictures videos sos concert vet camp</td>\n",
       "    </tr>\n",
       "    <tr>\n",
       "      <th>4</th>\n",
       "      <td>7925</td>\n",
       "      <td>Been fighting iTunes all night! I only want the music I $&amp;@*# paid for</td>\n",
       "      <td>fighting itunes night want music censored paid</td>\n",
       "    </tr>\n",
       "  </tbody>\n",
       "</table>\n",
       "</div>"
      ],
      "text/plain": [
       "     id  \\\n",
       "0  7921   \n",
       "1  7922   \n",
       "2  7923   \n",
       "3  7924   \n",
       "4  7925   \n",
       "\n",
       "                                                                                                                               tweet  \\\n",
       "0                                                      I hate the new #iphone upgrade. Won't let me download apps. #ugh #apple sucks   \n",
       "1                currently shitting my fucking pants. #apple #iMac #cashmoney #raddest #swagswagswag http://instagr.am/p/UUIS0bIBZo/   \n",
       "2                          I'd like to puts some CD-ROMS on my iPad, is that possible?' — Yes, but wouldn't that block the screen?\\n   \n",
       "3  My ipod is officially dead. I lost all my pictures and videos from the 1D and 5sos concert,and from Vet Camp #hatinglife #sobbing   \n",
       "4                                                             Been fighting iTunes all night! I only want the music I $&@*# paid for   \n",
       "\n",
       "                                                    cleaned_tweet  \n",
       "0                        hate new upgrade let download apps sucks  \n",
       "1                                currently shitting fucking pants  \n",
       "2             like puts roms ipad possible yes would block screen  \n",
       "3  ipod officially dead lost pictures videos sos concert vet camp  \n",
       "4                  fighting itunes night want music censored paid  "
      ]
     },
     "execution_count": 163,
     "metadata": {},
     "output_type": "execute_result"
    }
   ],
   "source": [
    "df_t.head()"
   ]
  },
  {
   "cell_type": "code",
   "execution_count": 164,
   "id": "9a62371e",
   "metadata": {},
   "outputs": [],
   "source": [
    "X_t = df_t['cleaned_tweet']"
   ]
  },
  {
   "cell_type": "code",
   "execution_count": 165,
   "id": "6448c01a",
   "metadata": {},
   "outputs": [],
   "source": [
    "x_t_seq = x_tokenizer.texts_to_sequences(X_t) \n",
    "\n",
    "x_t_seq = pad_sequences(x_t_seq,  padding='post', maxlen=max_len)"
   ]
  },
  {
   "cell_type": "code",
   "execution_count": 166,
   "id": "83805f2a",
   "metadata": {},
   "outputs": [
    {
     "name": "stdout",
     "output_type": "stream",
     "text": [
      "62/62 [==============================] - 0s 3ms/step\n"
     ]
    }
   ],
   "source": [
    "y_t_pred = model.predict(x_t_seq)\n",
    "y_t_pred = (y_t_pred > 0.5).astype(int)"
   ]
  },
  {
   "cell_type": "code",
   "execution_count": 167,
   "id": "ee38fa1a",
   "metadata": {},
   "outputs": [
    {
     "data": {
      "text/plain": [
       "array([[1],\n",
       "       [0],\n",
       "       [1],\n",
       "       ...,\n",
       "       [1],\n",
       "       [0],\n",
       "       [0]])"
      ]
     },
     "execution_count": 167,
     "metadata": {},
     "output_type": "execute_result"
    }
   ],
   "source": [
    "y_t_pred"
   ]
  },
  {
   "cell_type": "code",
   "execution_count": 168,
   "id": "c39a9840",
   "metadata": {},
   "outputs": [
    {
     "data": {
      "text/plain": [
       "(1953, 3)"
      ]
     },
     "execution_count": 168,
     "metadata": {},
     "output_type": "execute_result"
    }
   ],
   "source": [
    "df_t.shape"
   ]
  },
  {
   "cell_type": "code",
   "execution_count": 169,
   "id": "c590af1b",
   "metadata": {},
   "outputs": [
    {
     "data": {
      "text/plain": [
       "(1953, 1)"
      ]
     },
     "execution_count": 169,
     "metadata": {},
     "output_type": "execute_result"
    }
   ],
   "source": [
    "y_t_pred.shape"
   ]
  },
  {
   "cell_type": "code",
   "execution_count": 170,
   "id": "59130f87",
   "metadata": {},
   "outputs": [],
   "source": [
    "df_t['label'] = y_t_pred"
   ]
  },
  {
   "cell_type": "code",
   "execution_count": 171,
   "id": "d51ba714",
   "metadata": {},
   "outputs": [
    {
     "data": {
      "text/html": [
       "<div>\n",
       "<style scoped>\n",
       "    .dataframe tbody tr th:only-of-type {\n",
       "        vertical-align: middle;\n",
       "    }\n",
       "\n",
       "    .dataframe tbody tr th {\n",
       "        vertical-align: top;\n",
       "    }\n",
       "\n",
       "    .dataframe thead th {\n",
       "        text-align: right;\n",
       "    }\n",
       "</style>\n",
       "<table border=\"1\" class=\"dataframe\">\n",
       "  <thead>\n",
       "    <tr style=\"text-align: right;\">\n",
       "      <th></th>\n",
       "      <th>id</th>\n",
       "      <th>tweet</th>\n",
       "      <th>cleaned_tweet</th>\n",
       "      <th>label</th>\n",
       "    </tr>\n",
       "  </thead>\n",
       "  <tbody>\n",
       "    <tr>\n",
       "      <th>0</th>\n",
       "      <td>7921</td>\n",
       "      <td>I hate the new #iphone upgrade. Won't let me download apps. #ugh #apple sucks</td>\n",
       "      <td>hate new upgrade let download apps sucks</td>\n",
       "      <td>1</td>\n",
       "    </tr>\n",
       "    <tr>\n",
       "      <th>1</th>\n",
       "      <td>7922</td>\n",
       "      <td>currently shitting my fucking pants. #apple #iMac #cashmoney #raddest #swagswagswag http://instagr.am/p/UUIS0bIBZo/</td>\n",
       "      <td>currently shitting fucking pants</td>\n",
       "      <td>0</td>\n",
       "    </tr>\n",
       "    <tr>\n",
       "      <th>2</th>\n",
       "      <td>7923</td>\n",
       "      <td>I'd like to puts some CD-ROMS on my iPad, is that possible?' — Yes, but wouldn't that block the screen?\\n</td>\n",
       "      <td>like puts roms ipad possible yes would block screen</td>\n",
       "      <td>1</td>\n",
       "    </tr>\n",
       "    <tr>\n",
       "      <th>3</th>\n",
       "      <td>7924</td>\n",
       "      <td>My ipod is officially dead. I lost all my pictures and videos from the 1D and 5sos concert,and from Vet Camp #hatinglife #sobbing</td>\n",
       "      <td>ipod officially dead lost pictures videos sos concert vet camp</td>\n",
       "      <td>1</td>\n",
       "    </tr>\n",
       "    <tr>\n",
       "      <th>4</th>\n",
       "      <td>7925</td>\n",
       "      <td>Been fighting iTunes all night! I only want the music I $&amp;@*# paid for</td>\n",
       "      <td>fighting itunes night want music censored paid</td>\n",
       "      <td>1</td>\n",
       "    </tr>\n",
       "  </tbody>\n",
       "</table>\n",
       "</div>"
      ],
      "text/plain": [
       "     id  \\\n",
       "0  7921   \n",
       "1  7922   \n",
       "2  7923   \n",
       "3  7924   \n",
       "4  7925   \n",
       "\n",
       "                                                                                                                               tweet  \\\n",
       "0                                                      I hate the new #iphone upgrade. Won't let me download apps. #ugh #apple sucks   \n",
       "1                currently shitting my fucking pants. #apple #iMac #cashmoney #raddest #swagswagswag http://instagr.am/p/UUIS0bIBZo/   \n",
       "2                          I'd like to puts some CD-ROMS on my iPad, is that possible?' — Yes, but wouldn't that block the screen?\\n   \n",
       "3  My ipod is officially dead. I lost all my pictures and videos from the 1D and 5sos concert,and from Vet Camp #hatinglife #sobbing   \n",
       "4                                                             Been fighting iTunes all night! I only want the music I $&@*# paid for   \n",
       "\n",
       "                                                    cleaned_tweet  label  \n",
       "0                        hate new upgrade let download apps sucks      1  \n",
       "1                                currently shitting fucking pants      0  \n",
       "2             like puts roms ipad possible yes would block screen      1  \n",
       "3  ipod officially dead lost pictures videos sos concert vet camp      1  \n",
       "4                  fighting itunes night want music censored paid      1  "
      ]
     },
     "execution_count": 171,
     "metadata": {},
     "output_type": "execute_result"
    }
   ],
   "source": [
    "df_t.head()"
   ]
  },
  {
   "cell_type": "code",
   "execution_count": 172,
   "id": "3ff55c79",
   "metadata": {},
   "outputs": [],
   "source": [
    "df_submit = df_t[['id', 'label']]"
   ]
  },
  {
   "cell_type": "code",
   "execution_count": 173,
   "id": "9ad75bf5",
   "metadata": {},
   "outputs": [],
   "source": [
    "df_submit.to_csv('submission.csv', index=False)"
   ]
  },
  {
   "cell_type": "code",
   "execution_count": null,
   "id": "f03bb327",
   "metadata": {},
   "outputs": [],
   "source": []
  },
  {
   "cell_type": "code",
   "execution_count": null,
   "id": "8b7fc2b3",
   "metadata": {},
   "outputs": [],
   "source": []
  },
  {
   "cell_type": "code",
   "execution_count": null,
   "id": "2c3c5114",
   "metadata": {},
   "outputs": [],
   "source": []
  },
  {
   "cell_type": "code",
   "execution_count": null,
   "id": "36981f5f",
   "metadata": {},
   "outputs": [],
   "source": []
  },
  {
   "cell_type": "code",
   "execution_count": null,
   "id": "07431138",
   "metadata": {},
   "outputs": [],
   "source": []
  },
  {
   "cell_type": "code",
   "execution_count": null,
   "id": "3961fbfe",
   "metadata": {},
   "outputs": [],
   "source": []
  },
  {
   "cell_type": "code",
   "execution_count": null,
   "id": "245b2950",
   "metadata": {},
   "outputs": [],
   "source": []
  },
  {
   "cell_type": "code",
   "execution_count": null,
   "id": "c8d03300",
   "metadata": {},
   "outputs": [],
   "source": []
  },
  {
   "cell_type": "code",
   "execution_count": null,
   "id": "b209e1cf",
   "metadata": {},
   "outputs": [],
   "source": []
  },
  {
   "cell_type": "code",
   "execution_count": null,
   "id": "5cab9cd1",
   "metadata": {},
   "outputs": [],
   "source": []
  },
  {
   "cell_type": "code",
   "execution_count": null,
   "id": "175c9e4f",
   "metadata": {},
   "outputs": [],
   "source": []
  },
  {
   "cell_type": "code",
   "execution_count": null,
   "id": "3909dbc9",
   "metadata": {},
   "outputs": [],
   "source": []
  },
  {
   "cell_type": "code",
   "execution_count": null,
   "id": "0dd16239",
   "metadata": {},
   "outputs": [],
   "source": []
  },
  {
   "cell_type": "code",
   "execution_count": null,
   "id": "9a3fe48c",
   "metadata": {},
   "outputs": [],
   "source": []
  },
  {
   "cell_type": "code",
   "execution_count": null,
   "id": "f0e3565c",
   "metadata": {},
   "outputs": [],
   "source": []
  },
  {
   "cell_type": "code",
   "execution_count": null,
   "id": "2883f640",
   "metadata": {},
   "outputs": [],
   "source": []
  },
  {
   "cell_type": "code",
   "execution_count": 42,
   "id": "b68ca506",
   "metadata": {},
   "outputs": [],
   "source": [
    "model = Sequential()\n",
    "# model.add(Embedding(x_voc_size, embedding_dim))\n",
    "model.add(Embedding(x_voc_size, 50, input_shape=(max_len,), mask_zero=True))\n",
    "\n",
    "model.add(LSTM(32, return_sequences=True))\n",
    "model.add(BatchNormalization())\n",
    "\n",
    "model.add(LSTM(64))\n",
    "model.add(BatchNormalization())\n",
    "\n",
    "model.add(Dense(64, activation='relu'))\n",
    "model.add(Dropout(0.4))\n",
    "model.add(Dense(1, activation='sigmoid'))"
   ]
  },
  {
   "cell_type": "code",
   "execution_count": 43,
   "id": "259f6b38",
   "metadata": {},
   "outputs": [
    {
     "name": "stdout",
     "output_type": "stream",
     "text": [
      "Model: \"sequential_1\"\n",
      "_________________________________________________________________\n",
      " Layer (type)                Output Shape              Param #   \n",
      "=================================================================\n",
      " embedding_1 (Embedding)     (None, 24, 50)            765450    \n",
      "                                                                 \n",
      " lstm (LSTM)                 (None, 24, 32)            10624     \n",
      "                                                                 \n",
      " batch_normalization (BatchN  (None, 24, 32)           128       \n",
      " ormalization)                                                   \n",
      "                                                                 \n",
      " lstm_1 (LSTM)               (None, 64)                24832     \n",
      "                                                                 \n",
      " batch_normalization_1 (Batc  (None, 64)               256       \n",
      " hNormalization)                                                 \n",
      "                                                                 \n",
      " dense_2 (Dense)             (None, 64)                4160      \n",
      "                                                                 \n",
      " dropout (Dropout)           (None, 64)                0         \n",
      "                                                                 \n",
      " dense_3 (Dense)             (None, 1)                 65        \n",
      "                                                                 \n",
      "=================================================================\n",
      "Total params: 805,515\n",
      "Trainable params: 805,323\n",
      "Non-trainable params: 192\n",
      "_________________________________________________________________\n"
     ]
    }
   ],
   "source": [
    "model.summary()"
   ]
  },
  {
   "cell_type": "code",
   "execution_count": 44,
   "id": "620c2f9b",
   "metadata": {},
   "outputs": [],
   "source": [
    "model.compile(optimizer='adam',loss='binary_crossentropy',metrics=[f1_score_weighted])"
   ]
  },
  {
   "cell_type": "code",
   "execution_count": 45,
   "id": "511275be",
   "metadata": {},
   "outputs": [
    {
     "name": "stdout",
     "output_type": "stream",
     "text": [
      "Epoch 1/20\n",
      "50/50 [==============================] - 22s 181ms/step - loss: 0.4081 - f1_score_weighted: 0.6810 - val_loss: 0.6001 - val_f1_score_weighted: 0.0000e+00\n",
      "Epoch 2/20\n",
      "50/50 [==============================] - 4s 88ms/step - loss: 0.2198 - f1_score_weighted: 0.8230 - val_loss: 0.5373 - val_f1_score_weighted: 0.0000e+00\n",
      "Epoch 3/20\n",
      "50/50 [==============================] - 4s 89ms/step - loss: 0.1525 - f1_score_weighted: 0.8842 - val_loss: 0.5241 - val_f1_score_weighted: 0.0000e+00\n",
      "Epoch 4/20\n",
      "50/50 [==============================] - 5s 104ms/step - loss: 0.1161 - f1_score_weighted: 0.9195 - val_loss: 0.5107 - val_f1_score_weighted: 0.0000e+00\n",
      "Epoch 5/20\n",
      "50/50 [==============================] - 5s 101ms/step - loss: 0.0809 - f1_score_weighted: 0.9461 - val_loss: 0.6142 - val_f1_score_weighted: 0.0000e+00\n",
      "Epoch 6/20\n",
      "50/50 [==============================] - 5s 92ms/step - loss: 0.0607 - f1_score_weighted: 0.9591 - val_loss: 0.5298 - val_f1_score_weighted: 0.0442\n",
      "Epoch 7/20\n",
      "50/50 [==============================] - 5s 97ms/step - loss: 0.0453 - f1_score_weighted: 0.9686 - val_loss: 0.4357 - val_f1_score_weighted: 0.3665\n",
      "Epoch 8/20\n",
      "50/50 [==============================] - 5s 104ms/step - loss: 0.0285 - f1_score_weighted: 0.9803 - val_loss: 0.6008 - val_f1_score_weighted: 0.3102\n",
      "Epoch 9/20\n",
      "50/50 [==============================] - 5s 101ms/step - loss: 0.0244 - f1_score_weighted: 0.9828 - val_loss: 0.4786 - val_f1_score_weighted: 0.5909\n",
      "Epoch 10/20\n",
      "50/50 [==============================] - 4s 89ms/step - loss: 0.0171 - f1_score_weighted: 0.9898 - val_loss: 0.5269 - val_f1_score_weighted: 0.5789\n",
      "Epoch 11/20\n",
      "50/50 [==============================] - 4s 89ms/step - loss: 0.0144 - f1_score_weighted: 0.9905 - val_loss: 0.5421 - val_f1_score_weighted: 0.6454\n",
      "Epoch 12/20\n",
      "50/50 [==============================] - 5s 90ms/step - loss: 0.0138 - f1_score_weighted: 0.9920 - val_loss: 0.6686 - val_f1_score_weighted: 0.7126\n",
      "Epoch 13/20\n",
      "50/50 [==============================] - 4s 90ms/step - loss: 0.0190 - f1_score_weighted: 0.9868 - val_loss: 0.6526 - val_f1_score_weighted: 0.7020\n",
      "Epoch 14/20\n",
      "50/50 [==============================] - 4s 89ms/step - loss: 0.0127 - f1_score_weighted: 0.9916 - val_loss: 0.7159 - val_f1_score_weighted: 0.6810\n",
      "Epoch 15/20\n",
      "50/50 [==============================] - 5s 90ms/step - loss: 0.0145 - f1_score_weighted: 0.9884 - val_loss: 0.9645 - val_f1_score_weighted: 0.6054\n",
      "Epoch 16/20\n",
      "50/50 [==============================] - 4s 90ms/step - loss: 0.0168 - f1_score_weighted: 0.9893 - val_loss: 0.8401 - val_f1_score_weighted: 0.6584\n",
      "Epoch 17/20\n",
      "50/50 [==============================] - 5s 90ms/step - loss: 0.0091 - f1_score_weighted: 0.9930 - val_loss: 1.0399 - val_f1_score_weighted: 0.7047\n",
      "Epoch 18/20\n",
      "50/50 [==============================] - 5s 98ms/step - loss: 0.0063 - f1_score_weighted: 0.9955 - val_loss: 0.9897 - val_f1_score_weighted: 0.6805\n",
      "Epoch 19/20\n",
      "50/50 [==============================] - 4s 90ms/step - loss: 0.0085 - f1_score_weighted: 0.9929 - val_loss: 1.0083 - val_f1_score_weighted: 0.7037\n",
      "Epoch 20/20\n",
      "50/50 [==============================] - 5s 90ms/step - loss: 0.0101 - f1_score_weighted: 0.9926 - val_loss: 1.0320 - val_f1_score_weighted: 0.6890\n"
     ]
    },
    {
     "data": {
      "text/plain": [
       "<keras.callbacks.History at 0x1f113bdfa00>"
      ]
     },
     "execution_count": 45,
     "metadata": {},
     "output_type": "execute_result"
    }
   ],
   "source": [
    "model.fit(x_tr_seq, y_tr, batch_size=128, epochs=20, verbose=1, validation_data=(x_val_seq, y_val))"
   ]
  },
  {
   "cell_type": "code",
   "execution_count": null,
   "id": "a9d82677",
   "metadata": {},
   "outputs": [],
   "source": []
  },
  {
   "cell_type": "code",
   "execution_count": null,
   "id": "90879a9d",
   "metadata": {},
   "outputs": [],
   "source": []
  },
  {
   "cell_type": "code",
   "execution_count": null,
   "id": "affaf241",
   "metadata": {},
   "outputs": [],
   "source": []
  },
  {
   "cell_type": "code",
   "execution_count": 61,
   "id": "e691efa3",
   "metadata": {},
   "outputs": [],
   "source": [
    "embedding_dim = 128\n",
    "\n",
    "model = Sequential()\n",
    "# model.add(Embedding(x_voc_size, embedding_dim))\n",
    "model.add(Embedding(x_voc_size, 50, input_shape=(max_len,), mask_zero=True))\n",
    "\n",
    "model.add(LSTM(16, return_sequences=True))\n",
    "model.add(BatchNormalization())\n",
    "\n",
    "model.add(LSTM(32))\n",
    "model.add(BatchNormalization())\n",
    "\n",
    "model.add(Dense(32, activation='relu'))\n",
    "model.add(Dropout(0.2))\n",
    "model.add(Dense(1, activation='sigmoid'))"
   ]
  },
  {
   "cell_type": "code",
   "execution_count": 62,
   "id": "78876625",
   "metadata": {},
   "outputs": [
    {
     "name": "stdout",
     "output_type": "stream",
     "text": [
      "Model: \"sequential_6\"\n",
      "_________________________________________________________________\n",
      " Layer (type)                Output Shape              Param #   \n",
      "=================================================================\n",
      " embedding_5 (Embedding)     (None, 24, 50)            765400    \n",
      "                                                                 \n",
      " lstm_8 (LSTM)               (None, 24, 16)            4288      \n",
      "                                                                 \n",
      " batch_normalization_8 (Batc  (None, 24, 16)           64        \n",
      " hNormalization)                                                 \n",
      "                                                                 \n",
      " lstm_9 (LSTM)               (None, 32)                6272      \n",
      "                                                                 \n",
      " batch_normalization_9 (Batc  (None, 32)               128       \n",
      " hNormalization)                                                 \n",
      "                                                                 \n",
      " dense_10 (Dense)            (None, 32)                1056      \n",
      "                                                                 \n",
      " dropout_4 (Dropout)         (None, 32)                0         \n",
      "                                                                 \n",
      " dense_11 (Dense)            (None, 1)                 33        \n",
      "                                                                 \n",
      "=================================================================\n",
      "Total params: 777,241\n",
      "Trainable params: 777,145\n",
      "Non-trainable params: 96\n",
      "_________________________________________________________________\n"
     ]
    }
   ],
   "source": [
    "model.summary()"
   ]
  },
  {
   "cell_type": "code",
   "execution_count": 59,
   "id": "b0308cdc",
   "metadata": {},
   "outputs": [],
   "source": [
    "model.compile(optimizer='adam',loss='binary_crossentropy',metrics=['accuracy'])"
   ]
  },
  {
   "cell_type": "code",
   "execution_count": 60,
   "id": "df4ad3cc",
   "metadata": {},
   "outputs": [
    {
     "name": "stdout",
     "output_type": "stream",
     "text": [
      "Epoch 1/20\n",
      "50/50 [==============================] - 20s 146ms/step - loss: 0.4713 - accuracy: 0.7607 - val_loss: 0.6164 - val_accuracy: 0.7437\n",
      "Epoch 2/20\n",
      "50/50 [==============================] - 3s 67ms/step - loss: 0.1984 - accuracy: 0.9295 - val_loss: 0.5534 - val_accuracy: 0.7437\n",
      "Epoch 3/20\n",
      "50/50 [==============================] - 3s 67ms/step - loss: 0.0927 - accuracy: 0.9729 - val_loss: 0.5365 - val_accuracy: 0.7437\n",
      "Epoch 4/20\n",
      "50/50 [==============================] - 3s 68ms/step - loss: 0.0495 - accuracy: 0.9858 - val_loss: 0.5045 - val_accuracy: 0.7437\n",
      "Epoch 5/20\n",
      "50/50 [==============================] - 3s 68ms/step - loss: 0.0287 - accuracy: 0.9926 - val_loss: 0.5321 - val_accuracy: 0.7443\n",
      "Epoch 6/20\n",
      "50/50 [==============================] - 3s 68ms/step - loss: 0.0163 - accuracy: 0.9961 - val_loss: 0.6244 - val_accuracy: 0.7443\n",
      "Epoch 7/20\n",
      "50/50 [==============================] - 4s 76ms/step - loss: 0.0134 - accuracy: 0.9978 - val_loss: 0.5005 - val_accuracy: 0.7708\n",
      "Epoch 8/20\n",
      "50/50 [==============================] - 4s 77ms/step - loss: 0.0094 - accuracy: 0.9984 - val_loss: 0.3995 - val_accuracy: 0.8245\n",
      "Epoch 9/20\n",
      "50/50 [==============================] - 3s 68ms/step - loss: 0.0083 - accuracy: 0.9979 - val_loss: 0.6424 - val_accuracy: 0.7847\n",
      "Epoch 10/20\n",
      "50/50 [==============================] - 3s 69ms/step - loss: 0.0076 - accuracy: 0.9979 - val_loss: 0.6435 - val_accuracy: 0.7999\n",
      "Epoch 11/20\n",
      "50/50 [==============================] - 3s 69ms/step - loss: 0.0049 - accuracy: 0.9991 - val_loss: 0.6463 - val_accuracy: 0.8289\n",
      "Epoch 12/20\n",
      "50/50 [==============================] - 3s 69ms/step - loss: 0.0066 - accuracy: 0.9984 - val_loss: 0.6133 - val_accuracy: 0.8479\n",
      "Epoch 13/20\n",
      "50/50 [==============================] - 4s 76ms/step - loss: 0.0078 - accuracy: 0.9972 - val_loss: 0.6974 - val_accuracy: 0.8403\n",
      "Epoch 14/20\n",
      "50/50 [==============================] - 4s 76ms/step - loss: 0.0129 - accuracy: 0.9968 - val_loss: 0.6894 - val_accuracy: 0.8485\n",
      "Epoch 15/20\n",
      "50/50 [==============================] - 3s 68ms/step - loss: 0.0186 - accuracy: 0.9935 - val_loss: 0.7828 - val_accuracy: 0.8460\n",
      "Epoch 16/20\n",
      "50/50 [==============================] - 3s 68ms/step - loss: 0.0250 - accuracy: 0.9905 - val_loss: 0.7613 - val_accuracy: 0.8434\n",
      "Epoch 17/20\n",
      "50/50 [==============================] - 3s 68ms/step - loss: 0.0115 - accuracy: 0.9970 - val_loss: 0.8004 - val_accuracy: 0.8485\n",
      "Epoch 18/20\n",
      "50/50 [==============================] - 3s 69ms/step - loss: 0.0051 - accuracy: 0.9981 - val_loss: 0.8540 - val_accuracy: 0.8472\n",
      "Epoch 19/20\n",
      "50/50 [==============================] - 4s 75ms/step - loss: 0.0039 - accuracy: 0.9987 - val_loss: 0.9251 - val_accuracy: 0.8567\n",
      "Epoch 20/20\n",
      "50/50 [==============================] - 3s 69ms/step - loss: 0.0040 - accuracy: 0.9986 - val_loss: 0.9243 - val_accuracy: 0.8554\n"
     ]
    },
    {
     "data": {
      "text/plain": [
       "<keras.callbacks.History at 0x27cc8519d80>"
      ]
     },
     "execution_count": 60,
     "metadata": {},
     "output_type": "execute_result"
    }
   ],
   "source": [
    "model.fit(x_tr_seq, y_tr, batch_size=128, epochs=20, verbose=1, validation_data=(x_val_seq, y_val))"
   ]
  },
  {
   "cell_type": "code",
   "execution_count": null,
   "id": "110b2f4d",
   "metadata": {},
   "outputs": [],
   "source": []
  },
  {
   "cell_type": "code",
   "execution_count": null,
   "id": "b36ed64c",
   "metadata": {},
   "outputs": [],
   "source": []
  },
  {
   "cell_type": "code",
   "execution_count": null,
   "id": "336d2630",
   "metadata": {},
   "outputs": [],
   "source": []
  },
  {
   "cell_type": "code",
   "execution_count": null,
   "id": "f4e711a4",
   "metadata": {},
   "outputs": [],
   "source": []
  },
  {
   "cell_type": "code",
   "execution_count": null,
   "id": "743dd011",
   "metadata": {},
   "outputs": [],
   "source": []
  },
  {
   "cell_type": "code",
   "execution_count": 68,
   "id": "3c53862c",
   "metadata": {},
   "outputs": [
    {
     "name": "stdout",
     "output_type": "stream",
     "text": [
      "Epoch 1/20\n",
      "50/50 [==============================] - 21s 153ms/step - loss: 1.2864 - f1_score_weighted: 0.5253 - val_loss: 1.1996 - val_f1_score_weighted: 0.0000e+00 - lr: 0.0010\n",
      "Epoch 2/20\n",
      "50/50 [==============================] - 4s 75ms/step - loss: 0.8262 - f1_score_weighted: 0.7352 - val_loss: 0.9523 - val_f1_score_weighted: 0.0000e+00 - lr: 0.0010\n",
      "Epoch 3/20\n",
      "50/50 [==============================] - 4s 75ms/step - loss: 0.5914 - f1_score_weighted: 0.8304 - val_loss: 0.8710 - val_f1_score_weighted: 0.0000e+00 - lr: 0.0010\n",
      "Epoch 4/20\n",
      "50/50 [==============================] - 4s 76ms/step - loss: 0.4257 - f1_score_weighted: 0.8999 - val_loss: 0.9179 - val_f1_score_weighted: 0.0000e+00 - lr: 0.0010\n",
      "Epoch 5/20\n",
      "50/50 [==============================] - 4s 75ms/step - loss: 0.3192 - f1_score_weighted: 0.9371 - val_loss: 0.9379 - val_f1_score_weighted: 0.0000e+00 - lr: 0.0010\n",
      "Epoch 6/20\n",
      "50/50 [==============================] - 4s 77ms/step - loss: 0.2550 - f1_score_weighted: 0.9615 - val_loss: 0.9626 - val_f1_score_weighted: 0.0000e+00 - lr: 2.0000e-04\n",
      "Epoch 7/20\n",
      "50/50 [==============================] - 4s 76ms/step - loss: 0.2347 - f1_score_weighted: 0.9718 - val_loss: 0.9104 - val_f1_score_weighted: 0.0106 - lr: 2.0000e-04\n",
      "Epoch 8/20\n",
      "50/50 [==============================] - 4s 82ms/step - loss: 0.2199 - f1_score_weighted: 0.9800 - val_loss: 0.8775 - val_f1_score_weighted: 0.0621 - lr: 1.0000e-04\n",
      "Epoch 9/20\n",
      "50/50 [==============================] - 4s 78ms/step - loss: 0.2179 - f1_score_weighted: 0.9743 - val_loss: 0.7766 - val_f1_score_weighted: 0.2284 - lr: 1.0000e-04\n",
      "Epoch 10/20\n",
      "50/50 [==============================] - 4s 80ms/step - loss: 0.2061 - f1_score_weighted: 0.9796 - val_loss: 0.6753 - val_f1_score_weighted: 0.4202 - lr: 1.0000e-04\n",
      "Epoch 11/20\n",
      "50/50 [==============================] - 4s 77ms/step - loss: 0.2010 - f1_score_weighted: 0.9836 - val_loss: 0.6294 - val_f1_score_weighted: 0.5252 - lr: 1.0000e-04\n",
      "Epoch 12/20\n",
      "50/50 [==============================] - 4s 85ms/step - loss: 0.1907 - f1_score_weighted: 0.9846 - val_loss: 0.5746 - val_f1_score_weighted: 0.6172 - lr: 1.0000e-04\n",
      "Epoch 13/20\n",
      "50/50 [==============================] - 4s 76ms/step - loss: 0.1850 - f1_score_weighted: 0.9850 - val_loss: 0.5498 - val_f1_score_weighted: 0.6763 - lr: 1.0000e-04\n",
      "Epoch 14/20\n",
      "50/50 [==============================] - 4s 77ms/step - loss: 0.1784 - f1_score_weighted: 0.9851 - val_loss: 0.5675 - val_f1_score_weighted: 0.6785 - lr: 1.0000e-04\n",
      "Epoch 15/20\n",
      "50/50 [==============================] - 4s 84ms/step - loss: 0.1724 - f1_score_weighted: 0.9882 - val_loss: 0.5775 - val_f1_score_weighted: 0.6899 - lr: 1.0000e-04\n",
      "Epoch 16/20\n",
      "50/50 [==============================] - 4s 77ms/step - loss: 0.1673 - f1_score_weighted: 0.9896 - val_loss: 0.5918 - val_f1_score_weighted: 0.6873 - lr: 1.0000e-04\n",
      "Epoch 17/20\n",
      "50/50 [==============================] - 4s 77ms/step - loss: 0.1600 - f1_score_weighted: 0.9886 - val_loss: 0.5990 - val_f1_score_weighted: 0.6858 - lr: 1.0000e-04\n",
      "Epoch 18/20\n",
      "50/50 [==============================] - 4s 78ms/step - loss: 0.1517 - f1_score_weighted: 0.9879 - val_loss: 0.6053 - val_f1_score_weighted: 0.6884 - lr: 1.0000e-04\n",
      "Epoch 19/20\n",
      "50/50 [==============================] - 4s 79ms/step - loss: 0.1470 - f1_score_weighted: 0.9939 - val_loss: 0.6222 - val_f1_score_weighted: 0.7003 - lr: 1.0000e-04\n",
      "Epoch 20/20\n",
      "50/50 [==============================] - 4s 82ms/step - loss: 0.1441 - f1_score_weighted: 0.9885 - val_loss: 0.6230 - val_f1_score_weighted: 0.6886 - lr: 1.0000e-04\n"
     ]
    },
    {
     "data": {
      "text/plain": [
       "<keras.callbacks.History at 0x27c84bd2710>"
      ]
     },
     "execution_count": 68,
     "metadata": {},
     "output_type": "execute_result"
    }
   ],
   "source": [
    "from tensorflow.keras.models import Sequential\n",
    "from tensorflow.keras.layers import Embedding, LSTM, Dense, Dropout, BatchNormalization\n",
    "from tensorflow.keras.callbacks import EarlyStopping, ReduceLROnPlateau\n",
    "from tensorflow.keras.regularizers import l2\n",
    "\n",
    "model = Sequential()\n",
    "model.add(Embedding(x_voc_size, 50, input_shape=(max_len,), mask_zero=True))\n",
    "\n",
    "model.add(LSTM(32, return_sequences=True))\n",
    "model.add(BatchNormalization())\n",
    "model.add(Dropout(0.5))\n",
    "\n",
    "model.add(LSTM(32, kernel_regularizer=l2(0.01)))\n",
    "model.add(BatchNormalization())\n",
    "model.add(Dropout(0.5))\n",
    "\n",
    "model.add(Dense(32, activation='relu', kernel_regularizer=l2(0.01)))\n",
    "model.add(Dropout(0.5))\n",
    "\n",
    "model.add(Dense(1, activation='sigmoid'))\n",
    "\n",
    "model.compile(optimizer='adam', loss='binary_crossentropy', metrics=[f1_score_weighted])\n",
    "\n",
    "early_stopping = EarlyStopping(monitor='val_loss', patience=10, restore_best_weights=True)\n",
    "reduce_lr = ReduceLROnPlateau(monitor='val_loss', factor=0.2, patience=2, min_lr=0.0001)\n",
    "\n",
    "model.fit(x_tr_seq, y_tr, batch_size=128, epochs=20, verbose=1, \n",
    "          validation_data=(x_val_seq, y_val), callbacks=[early_stopping, reduce_lr])\n"
   ]
  },
  {
   "cell_type": "code",
   "execution_count": 69,
   "id": "4bdfa207",
   "metadata": {},
   "outputs": [
    {
     "name": "stdout",
     "output_type": "stream",
     "text": [
      "Epoch 1/40\n",
      "50/50 [==============================] - 4s 89ms/step - loss: 0.1393 - f1_score_weighted: 0.9890 - val_loss: 0.6267 - val_f1_score_weighted: 0.6872 - lr: 1.0000e-04\n",
      "Epoch 2/40\n",
      "50/50 [==============================] - 4s 76ms/step - loss: 0.1330 - f1_score_weighted: 0.9889 - val_loss: 0.6325 - val_f1_score_weighted: 0.6821 - lr: 1.0000e-04\n",
      "Epoch 3/40\n",
      "50/50 [==============================] - 4s 77ms/step - loss: 0.1237 - f1_score_weighted: 0.9956 - val_loss: 0.6455 - val_f1_score_weighted: 0.6800 - lr: 1.0000e-04\n",
      "Epoch 4/40\n",
      "50/50 [==============================] - 4s 80ms/step - loss: 0.1218 - f1_score_weighted: 0.9938 - val_loss: 0.6536 - val_f1_score_weighted: 0.6881 - lr: 1.0000e-04\n",
      "Epoch 5/40\n",
      "50/50 [==============================] - 4s 77ms/step - loss: 0.1143 - f1_score_weighted: 0.9951 - val_loss: 0.6551 - val_f1_score_weighted: 0.6872 - lr: 1.0000e-04\n",
      "Epoch 6/40\n",
      "50/50 [==============================] - 4s 76ms/step - loss: 0.1123 - f1_score_weighted: 0.9935 - val_loss: 0.6555 - val_f1_score_weighted: 0.6854 - lr: 1.0000e-04\n",
      "Epoch 7/40\n",
      "50/50 [==============================] - 4s 76ms/step - loss: 0.1085 - f1_score_weighted: 0.9958 - val_loss: 0.6581 - val_f1_score_weighted: 0.6779 - lr: 1.0000e-04\n",
      "Epoch 8/40\n",
      "50/50 [==============================] - 4s 81ms/step - loss: 0.1040 - f1_score_weighted: 0.9959 - val_loss: 0.6662 - val_f1_score_weighted: 0.6804 - lr: 1.0000e-04\n",
      "Epoch 9/40\n",
      "50/50 [==============================] - 4s 77ms/step - loss: 0.1002 - f1_score_weighted: 0.9950 - val_loss: 0.6620 - val_f1_score_weighted: 0.6845 - lr: 1.0000e-04\n",
      "Epoch 10/40\n",
      "50/50 [==============================] - 4s 77ms/step - loss: 0.0957 - f1_score_weighted: 0.9951 - val_loss: 0.6602 - val_f1_score_weighted: 0.6690 - lr: 1.0000e-04\n",
      "Epoch 11/40\n",
      "50/50 [==============================] - 4s 82ms/step - loss: 0.0948 - f1_score_weighted: 0.9959 - val_loss: 0.6665 - val_f1_score_weighted: 0.6777 - lr: 1.0000e-04\n"
     ]
    },
    {
     "data": {
      "text/plain": [
       "<keras.callbacks.History at 0x27cfaf0a3e0>"
      ]
     },
     "execution_count": 69,
     "metadata": {},
     "output_type": "execute_result"
    }
   ],
   "source": [
    "model.fit(x_tr_seq, y_tr, batch_size=128, epochs=40, verbose=1, \n",
    "          validation_data=(x_val_seq, y_val), callbacks=[early_stopping, reduce_lr])"
   ]
  },
  {
   "cell_type": "code",
   "execution_count": null,
   "id": "eb4ac0e4",
   "metadata": {},
   "outputs": [],
   "source": []
  }
 ],
 "metadata": {
  "kernelspec": {
   "display_name": "Python 3 (ipykernel)",
   "language": "python",
   "name": "python3"
  },
  "language_info": {
   "codemirror_mode": {
    "name": "ipython",
    "version": 3
   },
   "file_extension": ".py",
   "mimetype": "text/x-python",
   "name": "python",
   "nbconvert_exporter": "python",
   "pygments_lexer": "ipython3",
   "version": "3.10.9"
  }
 },
 "nbformat": 4,
 "nbformat_minor": 5
}
